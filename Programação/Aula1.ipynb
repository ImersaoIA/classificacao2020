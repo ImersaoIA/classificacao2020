{
  "nbformat": 4,
  "nbformat_minor": 0,
  "metadata": {
    "kernelspec": {
      "display_name": "Python 3",
      "language": "python",
      "name": "python3"
    },
    "language_info": {
      "codemirror_mode": {
        "name": "ipython",
        "version": 3
      },
      "file_extension": ".py",
      "mimetype": "text/x-python",
      "name": "python",
      "nbconvert_exporter": "python",
      "pygments_lexer": "ipython3",
      "version": "3.7.4"
    },
    "colab": {
      "name": "Aula1.ipynb",
      "provenance": [],
      "toc_visible": true
    }
  },
  "cells": [
    {
      "cell_type": "markdown",
      "metadata": {
        "id": "XqalQgtkI1cZ",
        "colab_type": "text"
      },
      "source": [
        "#### Instalando o Python/Anaconda\n",
        "\n",
        "- Windows: https://repo.anaconda.com/archive/Anaconda3-2018.12-Windows-x86_64.exe;\n",
        "- MacOS: https://repo.anaconda.com/archive/Anaconda3-2018.12-MacOSX-x86_64.pkg;\n",
        "- Para 32-Bit, substituir o 'x86_64' final por 'x86';\n",
        "- Entre no link https://docs.anaconda.com/anaconda/install/ e selecione o sistema operacional;\n",
        "- Siga as orientações.\n",
        "\n",
        "\n"
      ]
    },
    {
      "cell_type": "markdown",
      "metadata": {
        "id": "VWLwp8FGI1cb",
        "colab_type": "text"
      },
      "source": [
        "# Introdução à programação\n",
        "\n",
        "## O que é?\n",
        "\n",
        "Um computador é uma máquina de fazer contas, mas é preciso que indiquemos qual sequência de contas queremos que ele faça. Precisamos traçar o plano, ou **programa**, de execução de cálculos.\n",
        "\n",
        "Mas como fazer o computador entender o que temos em mente? Uma alternativa seria traduzir nosso programa em operações com binários e passar diretamente para a máquina, ou ter uma linguagem intermediária, mais fácil de ser escrita e entendida por um humano. A este caso, que pode ocorrer em maior ou menor grau de abstração, chamamos de **linguagem de programação**.\n",
        "\n",
        "![colossus](colossus.jpg \"colossus\")"
      ]
    },
    {
      "cell_type": "markdown",
      "metadata": {
        "id": "YmRQxrhcI1cc",
        "colab_type": "text"
      },
      "source": [
        "# Noções básicas de Python\n",
        "\n",
        "Python é uma linguagem de computação."
      ]
    },
    {
      "cell_type": "markdown",
      "metadata": {
        "id": "9OMeU1I3I1cd",
        "colab_type": "text"
      },
      "source": [
        "## Importar bibliotecas\n",
        "\n",
        "É feito usando o comando **import** (a biblioteca deve estar instalada na máquina)"
      ]
    },
    {
      "cell_type": "code",
      "metadata": {
        "id": "dV-afQThI1ce",
        "colab_type": "code",
        "colab": {}
      },
      "source": [
        "import pandas\n",
        "import numpy\n",
        "import matplotlib.pyplot\n",
        "import seaborn"
      ],
      "execution_count": 0,
      "outputs": []
    },
    {
      "cell_type": "markdown",
      "metadata": {
        "id": "0SFclCkWI1ch",
        "colab_type": "text"
      },
      "source": [
        "Para facilitar, pode-se substituir o nome da biblioteca por um *alias"
      ]
    },
    {
      "cell_type": "code",
      "metadata": {
        "id": "7D2Z114LI1cj",
        "colab_type": "code",
        "colab": {}
      },
      "source": [
        "import pandas as pd\n",
        "import numpy as np\n",
        "import matplotlib.pyplot as plt\n",
        "import seaborn as sns"
      ],
      "execution_count": 0,
      "outputs": []
    },
    {
      "cell_type": "markdown",
      "metadata": {
        "id": "cE76HseVI1cm",
        "colab_type": "text"
      },
      "source": [
        "Ao se importar bibliotecas com muitas funções, convém também selecionar especificamente o que vai ser usado"
      ]
    },
    {
      "cell_type": "code",
      "metadata": {
        "id": "ZB2Y3j6qI1cn",
        "colab_type": "code",
        "colab": {}
      },
      "source": [
        "from sklearn.linear_model import LinearRegression"
      ],
      "execution_count": 0,
      "outputs": []
    },
    {
      "cell_type": "markdown",
      "metadata": {
        "id": "q66c5skvI1cp",
        "colab_type": "text"
      },
      "source": [
        "## É bom saber... mas o Google pode te ajudar..."
      ]
    },
    {
      "cell_type": "markdown",
      "metadata": {
        "collapsed": true,
        "id": "gw1clAxsI1cq",
        "colab_type": "text"
      },
      "source": [
        "## Sintaxe\n",
        "\n",
        "### Variáveis\n",
        "\n",
        "**O QUE É UMA VARIÁVEL?** \n",
        "\n",
        "Não é preciso declarar o tipo de variável: numérico, caracter, etc. Ele já será assumido\n",
        "\n",
        "**Obs**: você não precisa decorar todas as sintaxes, o google vai te ajudar a lembrar depois"
      ]
    },
    {
      "cell_type": "code",
      "metadata": {
        "id": "F_BoUKHMI1cr",
        "colab_type": "code",
        "colab": {}
      },
      "source": [
        "nguest = 3\n",
        "description = '2 bedrooms in Gávea super cozy' # ou \"2 bedrooms in Gávea super cozy\""
      ],
      "execution_count": 0,
      "outputs": []
    },
    {
      "cell_type": "code",
      "metadata": {
        "id": "vDDA3IjlI1cu",
        "colab_type": "code",
        "outputId": "9d8a83bf-fb8c-4dac-977e-2bbe842b46be",
        "colab": {
          "base_uri": "https://localhost:8080/",
          "height": 34
        }
      },
      "source": [
        "nguest"
      ],
      "execution_count": 39,
      "outputs": [
        {
          "output_type": "execute_result",
          "data": {
            "text/plain": [
              "3"
            ]
          },
          "metadata": {
            "tags": []
          },
          "execution_count": 39
        }
      ]
    },
    {
      "cell_type": "code",
      "metadata": {
        "id": "47WF2Uw6I1cx",
        "colab_type": "code",
        "outputId": "690c94b1-c247-4077-8e63-3c1dd00fde5b",
        "colab": {
          "base_uri": "https://localhost:8080/",
          "height": 34
        }
      },
      "source": [
        "description"
      ],
      "execution_count": 40,
      "outputs": [
        {
          "output_type": "execute_result",
          "data": {
            "text/plain": [
              "'2 bedrooms in Gávea super cozy'"
            ]
          },
          "metadata": {
            "tags": []
          },
          "execution_count": 40
        }
      ]
    },
    {
      "cell_type": "markdown",
      "metadata": {
        "id": "SjKc6O0zI1c0",
        "colab_type": "text"
      },
      "source": [
        "### String (caracter)\n",
        "\n",
        "Strings são definidas com áspas - simples ou duplas -, e podem ser concatenadar com o operador  '+'"
      ]
    },
    {
      "cell_type": "code",
      "metadata": {
        "id": "bcS2eIBSI1c1",
        "colab_type": "code",
        "outputId": "8194c949-0ff6-4a6d-aaf1-d912ee223073",
        "colab": {
          "base_uri": "https://localhost:8080/",
          "height": 68
        }
      },
      "source": [
        "nome='Roberto'\n",
        "num_pes='2'\n",
        "num_dias='4'\n",
        "\n",
        "confirma=\"Olá, \"+nome+\", você reservou um quarto para \"+num_pes+\" pessoas durante \"+num_dias+\" dias \\n\\nBoa estadia!\"\n",
        "\n",
        "print(confirma)"
      ],
      "execution_count": 41,
      "outputs": [
        {
          "output_type": "stream",
          "text": [
            "Olá, Roberto, você reservou um quarto para 2 pessoas durante 4 dias \n",
            "\n",
            "Boa estadia!\n"
          ],
          "name": "stdout"
        }
      ]
    },
    {
      "cell_type": "markdown",
      "metadata": {
        "id": "To7P977WI1c3",
        "colab_type": "text"
      },
      "source": [
        "Nota: o caracter \"\\\" é usado para diferenciar caracteres especiais, por ex:\n",
        "    - \\n: nova linha\n",
        "    - \\\": áspas\n",
        "    - \\t: tab\n",
        "\n",
        "Para a barra invertida, usa-se a sequência **\"\\\\\\\\\"**, ou, para ignorar \"\\\" como caracter especial, **r\"\"**"
      ]
    },
    {
      "cell_type": "code",
      "metadata": {
        "id": "jjNly476I1c4",
        "colab_type": "code",
        "outputId": "74839ae0-e299-4c15-e3de-80becfda99c1",
        "colab": {
          "base_uri": "https://localhost:8080/",
          "height": 51
        }
      },
      "source": [
        "caminho1=\"\\\\ofertas\\\\carnaval\"\n",
        "caminho2=r\"\\agendamentos\\pendentes\"\n",
        "\n",
        "print(caminho1)\n",
        "print(caminho2)"
      ],
      "execution_count": 42,
      "outputs": [
        {
          "output_type": "stream",
          "text": [
            "\\ofertas\\carnaval\n",
            "\\agendamentos\\pendentes\n"
          ],
          "name": "stdout"
        }
      ]
    },
    {
      "cell_type": "markdown",
      "metadata": {
        "id": "dMCp2H_dI1c6",
        "colab_type": "text"
      },
      "source": [
        "Use a função **print** para imprimir o seguinte texto:\n",
        "\n",
        "    Num famoso depoimento, Ayrton Senna diz:\n",
        "\n",
        "         \"Seja quem você for, seja qualquer posição que você tenha na vida, do nível altíssimo ou mais baixo, tenha sempre como meta muita força, muita determinação e, sempre, faça tudo com muito amor e com muita fé em Deus que um dia você chega lá. De alguma maneira você chega lá\"."
      ]
    },
    {
      "cell_type": "code",
      "metadata": {
        "id": "h75GdMo3I1c7",
        "colab_type": "code",
        "colab": {}
      },
      "source": [
        ""
      ],
      "execution_count": 0,
      "outputs": []
    },
    {
      "cell_type": "markdown",
      "metadata": {
        "id": "vWrn42RvI1c9",
        "colab_type": "text"
      },
      "source": [
        "### Númericos\n",
        "\n",
        "Há dois tipos de variáveis númericas, os inteiros e os *float*, ou representação decimal. Caso um número seja inteiro mas queiramos declará-lo como *float*, basta adicionar um ponto no final."
      ]
    },
    {
      "cell_type": "code",
      "metadata": {
        "id": "XFB5TAxSI1c9",
        "colab_type": "code",
        "outputId": "f31266e4-51fb-4884-ec9c-81c871bc5497",
        "colab": {
          "base_uri": "https://localhost:8080/",
          "height": 51
        }
      },
      "source": [
        "a_int = 2\n",
        "a_flt = 2.\n",
        "\n",
        "print(\"a_int: \", type(a_int))\n",
        "print(\"a_flt: \", type(a_flt))"
      ],
      "execution_count": 43,
      "outputs": [
        {
          "output_type": "stream",
          "text": [
            "a_int:  <class 'int'>\n",
            "a_flt:  <class 'float'>\n"
          ],
          "name": "stdout"
        }
      ]
    },
    {
      "cell_type": "markdown",
      "metadata": {
        "id": "17nWBSQYI1c_",
        "colab_type": "text"
      },
      "source": [
        "Temos todas as operações básicas:"
      ]
    },
    {
      "cell_type": "code",
      "metadata": {
        "id": "0mH45rEPI1dA",
        "colab_type": "code",
        "outputId": "20790c00-6293-4037-8eab-573f7608f34a",
        "colab": {
          "base_uri": "https://localhost:8080/",
          "height": 136
        }
      },
      "source": [
        "a=3\n",
        "b=13\n",
        "\n",
        "print('a+b=', a+b)\n",
        "print('a-b=', a-b)\n",
        "print('a.b=', a*b)\n",
        "print('b/a= %.2f ' % (b/a)) # %.nf imprime o float com n casas decimais\n",
        "print('resto da divisão de b por a=', b%a) \n",
        "print('parte inteira da divisão de b por a=', b//a)\n",
        "print('a elevado a b=', a**b)"
      ],
      "execution_count": 44,
      "outputs": [
        {
          "output_type": "stream",
          "text": [
            "a+b= 16\n",
            "a-b= -10\n",
            "a.b= 39\n",
            "b/a= 4.33 \n",
            "resto da divisão de b por a= 1\n",
            "parte inteira da divisão de b por a= 4\n",
            "a elevado a b= 1594323\n"
          ],
          "name": "stdout"
        }
      ]
    },
    {
      "cell_type": "markdown",
      "metadata": {
        "id": "dl5XBBEfI1dD",
        "colab_type": "text"
      },
      "source": [
        "Além disso, também utilizamos a biblioteca **numpy** para algumas operações."
      ]
    },
    {
      "cell_type": "code",
      "metadata": {
        "id": "fMyxHQJjI1dD",
        "colab_type": "code",
        "outputId": "be496bf3-a090-4541-98e0-18eb98654af9",
        "colab": {
          "base_uri": "https://localhost:8080/",
          "height": 68
        }
      },
      "source": [
        "print('raiz quadrada de b= %.2f' % np.sqrt(b))\n",
        "print('log natural a= %.2f' % np.log(a))\n",
        "print('área de um círculo de raio b= %.2f' % (np.pi*b**2))"
      ],
      "execution_count": 45,
      "outputs": [
        {
          "output_type": "stream",
          "text": [
            "raiz quadrada de b= 3.61\n",
            "log natural a= 1.10\n",
            "área de um círculo de raio b= 530.93\n"
          ],
          "name": "stdout"
        }
      ]
    },
    {
      "cell_type": "markdown",
      "metadata": {
        "id": "67sxjR5YI1dG",
        "colab_type": "text"
      },
      "source": [
        "**Curiosiade**: como calculamos $\\sqrt[a]{b}$ ou $\\log_a b\\hspace{1mm}$?"
      ]
    },
    {
      "cell_type": "code",
      "metadata": {
        "id": "ofFFpw-9I1dH",
        "colab_type": "code",
        "colab": {}
      },
      "source": [
        ""
      ],
      "execution_count": 0,
      "outputs": []
    },
    {
      "cell_type": "markdown",
      "metadata": {
        "id": "f9_l0I6dI1dJ",
        "colab_type": "text"
      },
      "source": [
        "### Booleanas\n",
        "\n",
        "Variáveis \"booleanas\" podem receber apenas dois valores: verdadeiro ou falso (**True** ou **False**), e podem ser utilizadas em comparações. E pra que servem?\n",
        "\n",
        "Vamos supor que queremos programar um robô para, baseado em um algumas condições, decidir se devemos ou não comprar ações de uma determinada empresa na Bolsa de Valores. Como a ideia é ganhar dinheiro e não perder, vamos ver que condições Warren Buffet verifica quando analisa uma empresa. \n",
        "\n",
        "![warren_buffet.jpg](attachment:warren_buffet.jpg)\n",
        "\n",
        "Warren Buffett percebeu que, se a vantagem competitiva de uma empresa pudesse ser mantida por um período longo - se fosse “durável” -, seu valor continuaria a aumentar ano após ano. Buffett desenvolveu então um conjunto de ferramentas analíticas para, a partir de balanços e demonstrativos de resultado, identificar empresas que tenham uma vantagem competitiva de longo prazo em relação às suas concorrentes. \n",
        "\n",
        "Vamos pegar algumas poucas regras que possam indicar se uma empresa tem uma **vantagem competitiva durável** ou não:\n",
        "- Na busca por uma companhia com uma vantagem competitiva durável, quanto mais baixas forem as **despesas VGA** em relação ao lucro bruto, melhor. Se for possível mantêlas constantemente baixas, melhor ainda. No mundo dos negócios, qualquer número abaixo de 30% é considerado fantástico.\n",
        "- Uma regra simples (e há exceções) é que, se uma empresa está apresentando um histórico de **lucros líquidos** superiores a 20% da receita total, há boas chances de ela estar se beneficiando de algum tipo de vantagem competitiva de longo prazo.\n",
        "- Empresas que precisam investir muito em **P&D** têm um falha inerente em sua vantagem competitiva que vai sempre pôr suas condições econômicas de longo prazo em risco, o que significa que não são seguras."
      ]
    },
    {
      "cell_type": "code",
      "metadata": {
        "id": "Kx1VHA_tI1dK",
        "colab_type": "code",
        "outputId": "a5714cc3-49c6-4b8c-cc55-f6d4ffa1256d",
        "colab": {
          "base_uri": "https://localhost:8080/",
          "height": 51
        }
      },
      "source": [
        "condicao_1 = True #Despesas de vendas, gerais e administrativas (VGA)/ Lucro bruto < 30% (indica algum tipo de vantagem competitiva)\n",
        "condicao_2 = False # Lucro líquido/ receita total > 20% (indica algum tipo de vantagem competitiva)\n",
        "\n",
        "vantagemCompetitiva = condicao_1 | condicao_2\n",
        "comprar = condicao_1 & condicao_2\n",
        "\n",
        "print('Vantagem competitiva: ', vantagemCompetitiva)\n",
        "print('Comprar: ', comprar)"
      ],
      "execution_count": 46,
      "outputs": [
        {
          "output_type": "stream",
          "text": [
            "Vantagem competitiva:  True\n",
            "Comprar:  False\n"
          ],
          "name": "stdout"
        }
      ]
    },
    {
      "cell_type": "code",
      "metadata": {
        "scrolled": true,
        "id": "8iIJI7wdI1dL",
        "colab_type": "code",
        "outputId": "7e8be429-1ba9-4766-c4b3-a19cd8897d46",
        "colab": {
          "base_uri": "https://localhost:8080/",
          "height": 34
        }
      },
      "source": [
        "condicao_3 = False #Empresas que precisam investir muito em P&D, mesmo que tenham uma vantagem competitiva hoje, dificilmente têm uma vantagem competitiva durável\n",
        "\n",
        "vantagemCompetitivaDuravel = vantagemCompetitiva & (not condicao_3)\n",
        "\n",
        "print('Vantagem competitiva durável: ', vantagemCompetitivaDuravel)"
      ],
      "execution_count": 47,
      "outputs": [
        {
          "output_type": "stream",
          "text": [
            "Vantagem competitiva durável:  True\n"
          ],
          "name": "stdout"
        }
      ]
    },
    {
      "cell_type": "markdown",
      "metadata": {
        "id": "QHCGpGoHI1dN",
        "colab_type": "text"
      },
      "source": [
        "### Lists (listas/array)\n",
        "\n",
        "Vamos supor que queremos que nosso robô analise todas as empresas listadas na Bolsa e monte uma lista de sugestões de compra. Será que existe uma forma de listar um conjunto de variáveis?\n",
        "\n",
        "Listas são definidas com colchetes [ ], e são exatamente isso, listas de variáveis"
      ]
    },
    {
      "cell_type": "code",
      "metadata": {
        "id": "PuVdFU_4I1dO",
        "colab_type": "code",
        "colab": {}
      },
      "source": [
        "sugestoesDeCompra = ['Itaú Unibanco','Lojas Renner','Grendene']"
      ],
      "execution_count": 0,
      "outputs": []
    },
    {
      "cell_type": "markdown",
      "metadata": {
        "id": "4ZNIp5wKI1dQ",
        "colab_type": "text"
      },
      "source": [
        "Inclusive, as variáveis não precisam ser necessariamente do mesmo tipo. Vamos supor que para cada ação analisada, queremos criar uma nova lista que guarde todas as informações necessárias para caso queiramos executar uma ordem de compra, por exemplo:\n",
        "- Empresa,\n",
        "- Ticker, \n",
        "- Se devemos ou não lançar a ordem de compra (se a empresa está entre as empresas sugeridas pelo nosso robô),\n",
        "- Quantidade de ações que queremos comprar e \n",
        "- Preço de compra"
      ]
    },
    {
      "cell_type": "code",
      "metadata": {
        "id": "qgQsug47I1dR",
        "colab_type": "code",
        "colab": {}
      },
      "source": [
        "ordemDeCompra=['Itaú Unibanco','ITUB3', True, 100, 32.33]"
      ],
      "execution_count": 0,
      "outputs": []
    },
    {
      "cell_type": "markdown",
      "metadata": {
        "id": "Tvn3vriOI1dT",
        "colab_type": "text"
      },
      "source": [
        "Para acessar um elemento, utiliza-se um índice, que em Python começa do 0, como na maioria das linguagens."
      ]
    },
    {
      "cell_type": "markdown",
      "metadata": {
        "id": "1Jh5CCDYI1dT",
        "colab_type": "text"
      },
      "source": [
        "Comandos úteis são:\n",
        "    - sum(): soma\n",
        "    - len(): comprimento da lista - número de elementos\n",
        "    - in: checar pertencimento\n",
        "    - .extend: adiciona uma lista à outra\n",
        "    - +: concatena listas\n",
        "    - .append: adiciona elemento a uma lista\n",
        "    - sorted(): ordena os elementos de acordo com seu módulo"
      ]
    },
    {
      "cell_type": "code",
      "metadata": {
        "id": "DuJqvwkJI1dU",
        "colab_type": "code",
        "outputId": "daeb24b8-ec14-4464-8c21-8fd5ff3a60e5",
        "colab": {
          "base_uri": "https://localhost:8080/",
          "height": 51
        }
      },
      "source": [
        "precosHistoricos = [35.4, 34.8, 34.9, 35.2, 35.4, 35.5, 34.7, 34.3, 35.9, 35.7]\n",
        "precoMedio = sum(precosHistoricos)/len(precosHistoricos) # 3.6\n",
        "\n",
        "print('\\nPreço médio: ', precoMedio)"
      ],
      "execution_count": 50,
      "outputs": [
        {
          "output_type": "stream",
          "text": [
            "\n",
            "Preço médio:  35.18\n"
          ],
          "name": "stdout"
        }
      ]
    },
    {
      "cell_type": "code",
      "metadata": {
        "id": "GDMnJvtWI1dW",
        "colab_type": "code",
        "outputId": "3aebca63-bcc9-42f7-8d14-da68625eb053",
        "colab": {
          "base_uri": "https://localhost:8080/",
          "height": 119
        }
      },
      "source": [
        "comprarItau = 'Itaú Unibanco' in sugestoesDeCompra\n",
        "ordemDeCompra=['Itaú Unibanco','ITUB3', comprarItau, 100, 35.3]\n",
        "\n",
        "print('\\nComprar ações da empresa ' + ordemDeCompra[0] + \" (\" + ordemDeCompra[1] + ')? ', ordemDeCompra[2])\n",
        "print('\\nQuantas ações? ' + str(ordemDeCompra[3]))\n",
        "print('\\nA que preço? R$' + str(ordemDeCompra[4]))"
      ],
      "execution_count": 51,
      "outputs": [
        {
          "output_type": "stream",
          "text": [
            "\n",
            "Comprar ações da empresa Itaú Unibanco (ITUB3)?  True\n",
            "\n",
            "Quantas ações? 100\n",
            "\n",
            "A que preço? R$35.3\n"
          ],
          "name": "stdout"
        }
      ]
    },
    {
      "cell_type": "markdown",
      "metadata": {
        "id": "8ZFp6OphI1dX",
        "colab_type": "text"
      },
      "source": [
        "##### EXERCÍCIOS"
      ]
    },
    {
      "cell_type": "markdown",
      "metadata": {
        "id": "q9Lc9aaxI1dY",
        "colab_type": "text"
      },
      "source": [
        "**1.** Estamos trabalhando em um projeto de consultoria para um pequeno grande escritório de advocacia. Vamos supor que o escritório não é tão grande assim e tem apenas 3 processos no histórico:\n",
        "    \n",
        "Número do processo: 12341414\n",
        "<br>Nome do advogado: Friedrich Carl non Savigny\n",
        "<br>Encerrado: True\n",
        "\n",
        "Número do processo: 12718271\n",
        "<br>Nome do advogado: Heinrich Dernburg\n",
        "<br>Encerrado: False\n",
        "    \n",
        "Número do processo: 34355355\n",
        "<br>Nome do advogado: Fritz Schulz\n",
        "<br>Encerrado: True\n",
        "    \n",
        "    \n",
        "**1.a)** Para cada um destes processos, crie uma lista contendo as seguintes informações:\n",
        "    - Número do processo\n",
        "    - Nome do advogado\n",
        "    - Encerrado"
      ]
    },
    {
      "cell_type": "code",
      "metadata": {
        "id": "UkMIbUvbI1dZ",
        "colab_type": "code",
        "colab": {}
      },
      "source": [
        ""
      ],
      "execution_count": 0,
      "outputs": []
    },
    {
      "cell_type": "markdown",
      "metadata": {
        "id": "tbMTZ89rI1da",
        "colab_type": "text"
      },
      "source": [
        "**1.b)** Crie uma lista de listas para armazenar as informações referentes a todos estes processos"
      ]
    },
    {
      "cell_type": "code",
      "metadata": {
        "id": "Il0rpPquI1db",
        "colab_type": "code",
        "colab": {}
      },
      "source": [
        ""
      ],
      "execution_count": 0,
      "outputs": []
    },
    {
      "cell_type": "markdown",
      "metadata": {
        "id": "9iJPehHzI1dd",
        "colab_type": "text"
      },
      "source": [
        "### Tuples (tuplas)\n",
        "\n",
        "Tuplas têm basicamente as mesmas propriedades das listas, porém não podem ser modificadas depois de declaradas. \n",
        "\n",
        "Mas em que situações eu gostaria de usar uma tupla? Vamos supor que uma startup de E-Commerce nos contratou para desenolver o sistema de avaliação do seu site. Por uma questão de governança, as avaliações feitas pelos clientes, uma vez registrados, não deveriam poder ser modificadas.  "
      ]
    },
    {
      "cell_type": "code",
      "metadata": {
        "id": "xsmROfUfI1de",
        "colab_type": "code",
        "outputId": "309cdb44-c497-413f-eef7-39247d467c64",
        "colab": {
          "base_uri": "https://localhost:8080/",
          "height": 68
        }
      },
      "source": [
        "ratings_tuple = 2, 3, 3, 4, 3 #Tuplas pode ser declaradas entre parenteses ou sem nenhum delimitador, como no exemplo\n",
        "print (ratings_tuple)\n",
        "\n",
        "try: \n",
        "    ratings_tuple[0] = 5\n",
        "except TypeError:\n",
        "    print('\\nNão podemos modificar os ratings')"
      ],
      "execution_count": 52,
      "outputs": [
        {
          "output_type": "stream",
          "text": [
            "(2, 3, 3, 4, 3)\n",
            "\n",
            "Não podemos modificar os ratings\n"
          ],
          "name": "stdout"
        }
      ]
    },
    {
      "cell_type": "markdown",
      "metadata": {
        "id": "XcaRgIVqI1dg",
        "colab_type": "text"
      },
      "source": [
        "Apesar disso, ainda podemos sobrescrever tuplas utilizando os mesmos nomes de variáveis"
      ]
    },
    {
      "cell_type": "code",
      "metadata": {
        "id": "xP2Wa5pvI1dh",
        "colab_type": "code",
        "outputId": "df7bc36e-165f-40f9-ea11-5a2d361f4631",
        "colab": {
          "base_uri": "https://localhost:8080/",
          "height": 34
        }
      },
      "source": [
        "ratings_tuple =(5, 5, 5, 5, 5)\n",
        "print(ratings_tuple)"
      ],
      "execution_count": 53,
      "outputs": [
        {
          "output_type": "stream",
          "text": [
            "(5, 5, 5, 5, 5)\n"
          ],
          "name": "stdout"
        }
      ]
    },
    {
      "cell_type": "markdown",
      "metadata": {
        "id": "p7Supx9kI1dj",
        "colab_type": "text"
      },
      "source": [
        "### Dicionários\n",
        "\n",
        "Mas será que não existe uma forma mais estruturada de armazenar as informações? Retomando nosso das ordens de compra de ações:"
      ]
    },
    {
      "cell_type": "code",
      "metadata": {
        "id": "usRrzsNGI1dk",
        "colab_type": "code",
        "colab": {}
      },
      "source": [
        "ordemDeCompra=['Itaú Unibanco','ITUB3', True, 100, 32.33]"
      ],
      "execution_count": 0,
      "outputs": []
    },
    {
      "cell_type": "markdown",
      "metadata": {
        "id": "75v9eM6nI1dl",
        "colab_type": "text"
      },
      "source": [
        "Se eu quiser saber o preço de compra registrado, preciso acessar o quinto elemento da lista. Mas como eu sei que devo acessar o quinto e não o terceiro ou quarto elemento? "
      ]
    },
    {
      "cell_type": "code",
      "metadata": {
        "id": "nP1wfhIoI1dm",
        "colab_type": "code",
        "outputId": "00725f1d-3074-4837-a7d4-8c8d072b090d",
        "colab": {
          "base_uri": "https://localhost:8080/",
          "height": 34
        }
      },
      "source": [
        "preco_de_compra = ordemDeCompra[4]\n",
        "print(\"Preço de compra: R$\" + str(preco_de_compra))"
      ],
      "execution_count": 55,
      "outputs": [
        {
          "output_type": "stream",
          "text": [
            "Preço de compra: R$32.33\n"
          ],
          "name": "stdout"
        }
      ]
    },
    {
      "cell_type": "markdown",
      "metadata": {
        "id": "ShRNnPeJI1do",
        "colab_type": "text"
      },
      "source": [
        "Podemos usar dicionários!! Dicionários são definidos com colchetes { }, e associam determinados valores a chaves, em vez de índices numéricos."
      ]
    },
    {
      "cell_type": "code",
      "metadata": {
        "id": "IiXnq4SZI1dp",
        "colab_type": "code",
        "outputId": "71b27c16-935f-4776-fcac-fe9e752d931c",
        "colab": {
          "base_uri": "https://localhost:8080/",
          "height": 34
        }
      },
      "source": [
        "ordemDeCompra={'empresa': 'Itaú Unibanco', 'ticker': 'ITUB3', 'comprar': True, 'quantidade': 100, 'preço de compra': 32.33}\n",
        "\n",
        "preco_de_compra = ordemDeCompra['preço de compra']\n",
        "print(\"Preço de compra: R$\" + str(preco_de_compra))"
      ],
      "execution_count": 56,
      "outputs": [
        {
          "output_type": "stream",
          "text": [
            "Preço de compra: R$32.33\n"
          ],
          "name": "stdout"
        }
      ]
    },
    {
      "cell_type": "markdown",
      "metadata": {
        "id": "5uZ_GUvhI1dq",
        "colab_type": "text"
      },
      "source": [
        "##### EXERCÍCIOS"
      ]
    },
    {
      "cell_type": "markdown",
      "metadata": {
        "id": "oGvv966XI1dr",
        "colab_type": "text"
      },
      "source": [
        "**1.** Vamos supor agora que trabalhamos para um hotel e, assistindo um vídeo sobre \"Peak Moments\", tivemos uma brilhante ideia."
      ]
    },
    {
      "cell_type": "code",
      "metadata": {
        "id": "QiXNlxhrI1dr",
        "colab_type": "code",
        "outputId": "17326106-99fd-42ac-9c7a-1a695429e140",
        "colab": {
          "base_uri": "https://localhost:8080/",
          "height": 336
        }
      },
      "source": [
        "from IPython.display import HTML\n",
        "\n",
        "# Youtube\n",
        "HTML('<iframe width=\"560\" height=\"315\" src=\"https://www.youtube.com/embed/RPe7aJ8gsRQ?rel=0&amp;controls=0&amp;showinfo=0\" frameborder=\"0\" allowfullscreen></iframe>')"
      ],
      "execution_count": 57,
      "outputs": [
        {
          "output_type": "execute_result",
          "data": {
            "text/html": [
              "<iframe width=\"560\" height=\"315\" src=\"https://www.youtube.com/embed/RPe7aJ8gsRQ?rel=0&amp;controls=0&amp;showinfo=0\" frameborder=\"0\" allowfullscreen></iframe>"
            ],
            "text/plain": [
              "<IPython.core.display.HTML object>"
            ]
          },
          "metadata": {
            "tags": []
          },
          "execution_count": 57
        }
      ]
    },
    {
      "cell_type": "markdown",
      "metadata": {
        "id": "Ec3_LJP2I1dt",
        "colab_type": "text"
      },
      "source": [
        "Tivemos a ideia de construir um dicionário de hóspedes, resgistrando informações que possam ser úteis nas próximas estadias. Desta forma, na próxima vez que um dado hóspede vier ao hotel, quem sabe não conseguimos surpreendê-lo com um mimo aqui ou ali, algo que o faça se sentir especial. \n",
        "\n",
        "**1.a)** Vamos supor que estamos recebendo pela primeira vez o jornalista Carlos Alberto di Frnaco. Depois de uma rápida pesquisa, descobrimos que:\n",
        "\n",
        "\"Carlos Alberto Di Franco (nascido a 24 de julho em São Paulo) é um advogado e colunista Brasileiro. Formado na Pontifícia Universidade Católica de São Paulo, é também doutor em comunicação pela Universidade de Navarra. Carlos é colunista e consultor do jornal O Estado de S. Paulo e da Rádio Eldorado. Também escreve artigos para os jornais O Globo e Estado de Minas. É autor dos livros Jornalismo, Ética e Qualidade (Editora Vozes, São Paulo) e Jornalismo como poligrafia (Porto, Portugal). (Wikipedia)\"\n",
        "\n",
        "Crie um dicionário com as informações que julgar mais relevantes."
      ]
    },
    {
      "cell_type": "code",
      "metadata": {
        "id": "q6OpKkZLI1du",
        "colab_type": "code",
        "colab": {}
      },
      "source": [
        ""
      ],
      "execution_count": 0,
      "outputs": []
    },
    {
      "cell_type": "markdown",
      "metadata": {
        "id": "EHBq-vZOI1dv",
        "colab_type": "text"
      },
      "source": [
        "**2.b)** Terminada a estadia, conhecemos um pouco melhor nosso hóspede. Adicione ao seu cadastro mais algumas informações que julgar relevantes para as próximas estadias:\n",
        "\n",
        "- Gosta de ser chamado pelo apelido 'Caloca'\n",
        "- Gosta de conversar com os funcionários, chama-os pelo nome\n",
        "- Estudou no Colégio Rio Branco\n",
        "- Acorda cedo todas as manhãs, sai do hotel pouco antes das 8h e volta uma hora depois para tomar o café da manhã"
      ]
    },
    {
      "cell_type": "code",
      "metadata": {
        "id": "75XZ7n1_I1dw",
        "colab_type": "code",
        "colab": {}
      },
      "source": [
        ""
      ],
      "execution_count": 0,
      "outputs": []
    },
    {
      "cell_type": "code",
      "metadata": {
        "id": "Z9Isqq5ZI1dy",
        "colab_type": "code",
        "colab": {}
      },
      "source": [
        "# Resolução 1.1\n",
        "emprego_1 = {'Cargo': 'Jornalista', 'Empregador':['Jornal O Estado de S. Paulo','Rádio Eldorado','Jornal O Globo', 'Jornal Estado de Minas']}\n",
        "emprego_2 = {'Cargo': 'Consultor', 'Empregador':['Jornal O Estado de S. Paulo', 'Rádio Eldorado']}\n",
        "\n",
        "formacao_1 = {'Curso': 'Direito', 'Nível': 'Graduação', 'Instituição de ensino':'Pontifícia Universidade Católica de São Paulo'}\n",
        "formacao_2 = {'Curso': 'Comunicação', 'Nível': 'Doutorado', 'Instituição de ensino':'Universidade de Navarra'}\n",
        "\n",
        "curiosidades = \"É autor dos livros Jornalismo, Ética e Qualidade (Editora Vozes, São Paulo) e Jornalismo como poligrafia (Porto, Portugal)\"\n",
        "\n",
        "novo_hospede = {'Nome': 'Carlos Alberto di Franco', 'Profissão':[emprego_1, emprego_2], 'Formação':[formacao_1, formacao_2], 'Curiosidades': curiosidades}"
      ],
      "execution_count": 0,
      "outputs": []
    },
    {
      "cell_type": "code",
      "metadata": {
        "id": "Ziy3N--hI1d0",
        "colab_type": "code",
        "colab": {}
      },
      "source": [
        "# Resolução 1.2\n",
        "novo_hospede['Apelido'] = 'Caloca'\n",
        "nova_curiosidade = \"Gosta de conversar com os funcionários, chama-os pelo nome. Estudou no Colégio Rio Branco. Acorda cedo todas as manhãs, sai do hotel pouco antes das 8h e volta uma hora depois para tomar o café da manhã.\"\n",
        "\n",
        "novo_hospede['Curiosidades'] = novo_hospede['Curiosidades'] + \" \" + nova_curiosidade"
      ],
      "execution_count": 0,
      "outputs": []
    },
    {
      "cell_type": "code",
      "metadata": {
        "id": "hN_dUUE0I1d2",
        "colab_type": "code",
        "outputId": "2599f4f9-7471-438e-ee53-50028b619898",
        "colab": {
          "base_uri": "https://localhost:8080/",
          "height": 309
        }
      },
      "source": [
        "novo_hospede"
      ],
      "execution_count": 60,
      "outputs": [
        {
          "output_type": "execute_result",
          "data": {
            "text/plain": [
              "{'Apelido': 'Caloca',\n",
              " 'Curiosidades': 'É autor dos livros Jornalismo, Ética e Qualidade (Editora Vozes, São Paulo) e Jornalismo como poligrafia (Porto, Portugal) Gosta de conversar com os funcionários, chama-os pelo nome. Estudou no Colégio Rio Branco. Acorda cedo todas as manhãs, sai do hotel pouco antes das 8h e volta uma hora depois para tomar o café da manhã.',\n",
              " 'Formação': [{'Curso': 'Direito',\n",
              "   'Instituição de ensino': 'Pontifícia Universidade Católica de São Paulo',\n",
              "   'Nível': 'Graduação'},\n",
              "  {'Curso': 'Comunicação',\n",
              "   'Instituição de ensino': 'Universidade de Navarra',\n",
              "   'Nível': 'Doutorado'}],\n",
              " 'Nome': 'Carlos Alberto di Franco',\n",
              " 'Profissão': [{'Cargo': 'Jornalista',\n",
              "   'Empregador': ['Jornal O Estado de S. Paulo',\n",
              "    'Rádio Eldorado',\n",
              "    'Jornal O Globo',\n",
              "    'Jornal Estado de Minas']},\n",
              "  {'Cargo': 'Consultor',\n",
              "   'Empregador': ['Jornal O Estado de S. Paulo', 'Rádio Eldorado']}]}"
            ]
          },
          "metadata": {
            "tags": []
          },
          "execution_count": 60
        }
      ]
    },
    {
      "cell_type": "markdown",
      "metadata": {
        "collapsed": true,
        "id": "8s1c4tdhI1d6",
        "colab_type": "text"
      },
      "source": [
        "### Controle de fluxo (for, while, if-else...)\n",
        "\n",
        "Imagine que queremos programar um robô para:\n",
        "- Monitorar em tempo real as notícias que são publicadas na internet sobre uma determinada empresa; e \n",
        "- Gerar um alerta caso uma destas notícias esteja relacionada a lavagem de dinheiro.\n",
        "\n",
        "![Odebrecht.png](attachment:Odebrecht.png)\n",
        "\n",
        "Como faremos isso? Neste caso, vamos precisar:\n",
        "- **Executar repetidas vezes um código** que, de tempos em tempos, busca no Google notícias sobre a empresa de interesse; e\n",
        "- **Executar um outro código apenas quando uma certa condição for verdadeira**, de forma a gerar um alerta quando aparecer uma notícia que contenha palavras ou termos relacionados a lavagem de dinheiro.\n",
        "\n",
        "Para aplicações como esta, costuma-se utilizar:\n",
        "- Funções de Iteração (**while** e **for**) para executar repetidas vezes um código; e\n",
        "- Funcões Condicionais (**if-else**) para executar um código apenas quando uma certa condição for verdadeira ou não.\n",
        "\n",
        "**Importante** Em Python, a indentação (espaço que se deixa entre a margem e o começo da linha de código) define o que está dentro ou fora dos comandos (vide exemplos)."
      ]
    },
    {
      "cell_type": "code",
      "metadata": {
        "id": "K5zomma_I1d6",
        "colab_type": "code",
        "colab": {}
      },
      "source": [
        "noticias = [{'fonte': 'Jornal O Globo', 'data': '22 de dez. de 2019', 'manchete': 'Odebrecht inicia investigação interna sobre atuação de ...', 'resumo':'Depois de ser demitido por justa causa e sem direito à indenização, Marcelo Odebrecht, ex-presidente da empreiteira que ...'},\n",
        "            {'fonte': 'Exame.com', 'data': '16 de dez. de 2019', 'manchete': 'Odebrecht troca de presidente às vésperas de assembleia ...', 'resumo':'A Odebrecht troca o comando em um momento crucial para a empresa. ... principais credores do plano de recuperação judicial da Odebrecht e ...'},\n",
        "            {'fonte': 'Estado de Minas', 'data': '3 de jan. de 2020', 'manchete': 'Equador julgará ex-presidente Correa à revelia por caso ...', 'resumo':'O ex-presidente Rafael Correa será julgado à revelia no Equador sob a acusação de ter recebido dinheiro ilegal da construtora Odebrecht ...'},\n",
        "            {'fonte': 'EXAME.com', 'data': '19 de dez. de 2019', 'manchete': 'Odebrecht volta a reunir credores, mas recuperação deve ...', 'resumo':'Pouco mais de uma semana depois de apresentar um novo plano de recuperação, a Odebrecht volta a reunir seus credores, ...'}]"
      ],
      "execution_count": 0,
      "outputs": []
    },
    {
      "cell_type": "code",
      "metadata": {
        "id": "76uCK-QvI1d8",
        "colab_type": "code",
        "outputId": "ac325d31-3fe4-4754-b391-b81721cf242a",
        "colab": {
          "base_uri": "https://localhost:8080/",
          "height": 173
        }
      },
      "source": [
        "for indice in range(len(noticias)): # range(n) gera a lista:[0 1 2 ... n-1]\n",
        "    noticia = noticias[indice]['manchete'] + ' ' + noticias[indice]['resumo']\n",
        "    \n",
        "    if 'acusação' in noticia or 'investigação' in noticia:\n",
        "        print(noticia + ' -> Gerar alerta PLD!!\\n')\n",
        "    else:\n",
        "        print(noticia + ' -> OK\\n')"
      ],
      "execution_count": 62,
      "outputs": [
        {
          "output_type": "stream",
          "text": [
            "Odebrecht inicia investigação interna sobre atuação de ... Depois de ser demitido por justa causa e sem direito à indenização, Marcelo Odebrecht, ex-presidente da empreiteira que ... -> Gerar alerta PLD!!\n",
            "\n",
            "Odebrecht troca de presidente às vésperas de assembleia ... A Odebrecht troca o comando em um momento crucial para a empresa. ... principais credores do plano de recuperação judicial da Odebrecht e ... -> OK\n",
            "\n",
            "Equador julgará ex-presidente Correa à revelia por caso ... O ex-presidente Rafael Correa será julgado à revelia no Equador sob a acusação de ter recebido dinheiro ilegal da construtora Odebrecht ... -> Gerar alerta PLD!!\n",
            "\n",
            "Odebrecht volta a reunir credores, mas recuperação deve ... Pouco mais de uma semana depois de apresentar um novo plano de recuperação, a Odebrecht volta a reunir seus credores, ... -> OK\n",
            "\n"
          ],
          "name": "stdout"
        }
      ]
    },
    {
      "cell_type": "markdown",
      "metadata": {
        "id": "2NyuI0TvI1d-",
        "colab_type": "text"
      },
      "source": [
        "## Programação Orientada a Objeto (POO)\n",
        "\n",
        "Python é uma linguagem orientada a objeto. Para entender o que isso quer dizer precisamos passar rapidamente por outros paradigmas de programação:\n",
        "- *Programação baixo-nível*: os comandos utilizados são ações realmente utilizadas pelo processador. E.g.:Assenbly\n",
        "- *Programação*\n",
        "O que é programação https://www.youtube.com/watch?v=PmefpISZ7Ew 1:50 a 2:50\n",
        "\n",
        "O que é uma linguagem de programação: uma forma de um humano conseguir dar comandos que o computador consiga executar. Ex:\n",
        "imprimir 1+1\n",
        "\n",
        "O que é uma linguagem orientada a objetos (classes, funções e atributos ou métodos)\n",
        "\n",
        "O que é uma biblioteca"
      ]
    },
    {
      "cell_type": "code",
      "metadata": {
        "id": "uV9yMn2TI1d_",
        "colab_type": "code",
        "outputId": "ea415b9d-b4f1-4d7b-86ba-a859c5adaf23",
        "colab": {
          "base_uri": "https://localhost:8080/",
          "height": 336
        }
      },
      "source": [
        "from IPython.display import HTML\n",
        "\n",
        "# Youtube\n",
        "HTML('<iframe width=\"560\" height=\"315\" src=\"https://www.youtube.com/embed/PmefpISZ7Ew?rel=0&amp;controls=0&amp;showinfo=0\" frameborder=\"0\" allowfullscreen></iframe>')"
      ],
      "execution_count": 63,
      "outputs": [
        {
          "output_type": "execute_result",
          "data": {
            "text/html": [
              "<iframe width=\"560\" height=\"315\" src=\"https://www.youtube.com/embed/PmefpISZ7Ew?rel=0&amp;controls=0&amp;showinfo=0\" frameborder=\"0\" allowfullscreen></iframe>"
            ],
            "text/plain": [
              "<IPython.core.display.HTML object>"
            ]
          },
          "metadata": {
            "tags": []
          },
          "execution_count": 63
        }
      ]
    },
    {
      "cell_type": "markdown",
      "metadata": {
        "collapsed": true,
        "id": "gh6IjanjI1eB",
        "colab_type": "text"
      },
      "source": [
        "## Manipulação de dados com Pandas\n",
        "\n",
        "Agora que você já sabe se virar em Python, vamos nos concentrar em aprender como manipular os dados de forma eficiente. Você provavelmente já se aventurou um pouco com o Excel e deve lembrar que em Excel trabalhamos com os dados na forma de uma tabela. \n",
        "\n",
        "![apartamentos.png](https://raw.githubusercontent.com/ImersaoIA/classificacao2020/master/Programa%C3%A7%C3%A3o/apartamentos.png)\n",
        "\n",
        "Pandas é uma biblioteca para manipulação de dados em forma de tabela no Python. Ela disponibiliza estruturas e funções que facilitam consideravelmente o trabalho.\n",
        "\n",
        "Começamos importanto a biblioteca. Para facilitar, a chamamos de **pd**."
      ]
    },
    {
      "cell_type": "code",
      "metadata": {
        "id": "CWiQh8nrI1eC",
        "colab_type": "code",
        "colab": {}
      },
      "source": [
        "import pandas as pd"
      ],
      "execution_count": 0,
      "outputs": []
    },
    {
      "cell_type": "markdown",
      "metadata": {
        "id": "Gg1SALzII1eD",
        "colab_type": "text"
      },
      "source": [
        "### Importar dados\n",
        "\n",
        "A forma mais comum de armazenamento de dados que utilizaremos será na forma de arquivo *csv* (*comma separated values* - valores separados por vírgula). Para carregá-los para nosso código, vamos usar a função **read_csv**  (ou **read_excel** se nosso arquivo estiver em formato *xlsx*). A sintaxe fica assim:\n",
        "\n",
        "pd.read_csv(< caminho do arquivo >, sep=',', header=0, names=None, index_col=None)\n",
        "\n",
        "- sep: separador utilizado (',' por default, mas poderia ser também ';' dentre outros)\n",
        "- header: indica qual é a linha *header*, ou sejam, qual é o índice da linha que contem o nome das colunas\n",
        "- names: nomes que deverão identificar as colunas da nossa tabela (caso o arquivo não tenha um *header*)\n",
        "- index_col: nomes que deverão identificar as linhas da nosssa tabela"
      ]
    },
    {
      "cell_type": "code",
      "metadata": {
        "id": "UHWTmxTxLx_k",
        "colab_type": "code",
        "colab": {}
      },
      "source": [
        ""
      ],
      "execution_count": 0,
      "outputs": []
    },
    {
      "cell_type": "code",
      "metadata": {
        "id": "6ihScCp2I1eE",
        "colab_type": "code",
        "outputId": "f51ca28a-e1e5-40fd-9b02-1acf66a15a51",
        "colab": {
          "base_uri": "https://localhost:8080/",
          "height": 375
        }
      },
      "source": [
        "apartamentos=pd.read_csv('air_bnb.csv')"
      ],
      "execution_count": 33,
      "outputs": [
        {
          "output_type": "error",
          "ename": "FileNotFoundError",
          "evalue": "ignored",
          "traceback": [
            "\u001b[0;31m---------------------------------------------------------------------------\u001b[0m",
            "\u001b[0;31mFileNotFoundError\u001b[0m                         Traceback (most recent call last)",
            "\u001b[0;32m<ipython-input-33-27af024a1dd2>\u001b[0m in \u001b[0;36m<module>\u001b[0;34m()\u001b[0m\n\u001b[0;32m----> 1\u001b[0;31m \u001b[0mapartamentos\u001b[0m\u001b[0;34m=\u001b[0m\u001b[0mpd\u001b[0m\u001b[0;34m.\u001b[0m\u001b[0mread_csv\u001b[0m\u001b[0;34m(\u001b[0m\u001b[0;34m'air_bnb.csv'\u001b[0m\u001b[0;34m)\u001b[0m\u001b[0;34m\u001b[0m\u001b[0;34m\u001b[0m\u001b[0m\n\u001b[0m",
            "\u001b[0;32m/usr/local/lib/python3.6/dist-packages/pandas/io/parsers.py\u001b[0m in \u001b[0;36mparser_f\u001b[0;34m(filepath_or_buffer, sep, delimiter, header, names, index_col, usecols, squeeze, prefix, mangle_dupe_cols, dtype, engine, converters, true_values, false_values, skipinitialspace, skiprows, skipfooter, nrows, na_values, keep_default_na, na_filter, verbose, skip_blank_lines, parse_dates, infer_datetime_format, keep_date_col, date_parser, dayfirst, cache_dates, iterator, chunksize, compression, thousands, decimal, lineterminator, quotechar, quoting, doublequote, escapechar, comment, encoding, dialect, error_bad_lines, warn_bad_lines, delim_whitespace, low_memory, memory_map, float_precision)\u001b[0m\n\u001b[1;32m    683\u001b[0m         )\n\u001b[1;32m    684\u001b[0m \u001b[0;34m\u001b[0m\u001b[0m\n\u001b[0;32m--> 685\u001b[0;31m         \u001b[0;32mreturn\u001b[0m \u001b[0m_read\u001b[0m\u001b[0;34m(\u001b[0m\u001b[0mfilepath_or_buffer\u001b[0m\u001b[0;34m,\u001b[0m \u001b[0mkwds\u001b[0m\u001b[0;34m)\u001b[0m\u001b[0;34m\u001b[0m\u001b[0;34m\u001b[0m\u001b[0m\n\u001b[0m\u001b[1;32m    686\u001b[0m \u001b[0;34m\u001b[0m\u001b[0m\n\u001b[1;32m    687\u001b[0m     \u001b[0mparser_f\u001b[0m\u001b[0;34m.\u001b[0m\u001b[0m__name__\u001b[0m \u001b[0;34m=\u001b[0m \u001b[0mname\u001b[0m\u001b[0;34m\u001b[0m\u001b[0;34m\u001b[0m\u001b[0m\n",
            "\u001b[0;32m/usr/local/lib/python3.6/dist-packages/pandas/io/parsers.py\u001b[0m in \u001b[0;36m_read\u001b[0;34m(filepath_or_buffer, kwds)\u001b[0m\n\u001b[1;32m    455\u001b[0m \u001b[0;34m\u001b[0m\u001b[0m\n\u001b[1;32m    456\u001b[0m     \u001b[0;31m# Create the parser.\u001b[0m\u001b[0;34m\u001b[0m\u001b[0;34m\u001b[0m\u001b[0;34m\u001b[0m\u001b[0m\n\u001b[0;32m--> 457\u001b[0;31m     \u001b[0mparser\u001b[0m \u001b[0;34m=\u001b[0m \u001b[0mTextFileReader\u001b[0m\u001b[0;34m(\u001b[0m\u001b[0mfp_or_buf\u001b[0m\u001b[0;34m,\u001b[0m \u001b[0;34m**\u001b[0m\u001b[0mkwds\u001b[0m\u001b[0;34m)\u001b[0m\u001b[0;34m\u001b[0m\u001b[0;34m\u001b[0m\u001b[0m\n\u001b[0m\u001b[1;32m    458\u001b[0m \u001b[0;34m\u001b[0m\u001b[0m\n\u001b[1;32m    459\u001b[0m     \u001b[0;32mif\u001b[0m \u001b[0mchunksize\u001b[0m \u001b[0;32mor\u001b[0m \u001b[0miterator\u001b[0m\u001b[0;34m:\u001b[0m\u001b[0;34m\u001b[0m\u001b[0;34m\u001b[0m\u001b[0m\n",
            "\u001b[0;32m/usr/local/lib/python3.6/dist-packages/pandas/io/parsers.py\u001b[0m in \u001b[0;36m__init__\u001b[0;34m(self, f, engine, **kwds)\u001b[0m\n\u001b[1;32m    893\u001b[0m             \u001b[0mself\u001b[0m\u001b[0;34m.\u001b[0m\u001b[0moptions\u001b[0m\u001b[0;34m[\u001b[0m\u001b[0;34m\"has_index_names\"\u001b[0m\u001b[0;34m]\u001b[0m \u001b[0;34m=\u001b[0m \u001b[0mkwds\u001b[0m\u001b[0;34m[\u001b[0m\u001b[0;34m\"has_index_names\"\u001b[0m\u001b[0;34m]\u001b[0m\u001b[0;34m\u001b[0m\u001b[0;34m\u001b[0m\u001b[0m\n\u001b[1;32m    894\u001b[0m \u001b[0;34m\u001b[0m\u001b[0m\n\u001b[0;32m--> 895\u001b[0;31m         \u001b[0mself\u001b[0m\u001b[0;34m.\u001b[0m\u001b[0m_make_engine\u001b[0m\u001b[0;34m(\u001b[0m\u001b[0mself\u001b[0m\u001b[0;34m.\u001b[0m\u001b[0mengine\u001b[0m\u001b[0;34m)\u001b[0m\u001b[0;34m\u001b[0m\u001b[0;34m\u001b[0m\u001b[0m\n\u001b[0m\u001b[1;32m    896\u001b[0m \u001b[0;34m\u001b[0m\u001b[0m\n\u001b[1;32m    897\u001b[0m     \u001b[0;32mdef\u001b[0m \u001b[0mclose\u001b[0m\u001b[0;34m(\u001b[0m\u001b[0mself\u001b[0m\u001b[0;34m)\u001b[0m\u001b[0;34m:\u001b[0m\u001b[0;34m\u001b[0m\u001b[0;34m\u001b[0m\u001b[0m\n",
            "\u001b[0;32m/usr/local/lib/python3.6/dist-packages/pandas/io/parsers.py\u001b[0m in \u001b[0;36m_make_engine\u001b[0;34m(self, engine)\u001b[0m\n\u001b[1;32m   1133\u001b[0m     \u001b[0;32mdef\u001b[0m \u001b[0m_make_engine\u001b[0m\u001b[0;34m(\u001b[0m\u001b[0mself\u001b[0m\u001b[0;34m,\u001b[0m \u001b[0mengine\u001b[0m\u001b[0;34m=\u001b[0m\u001b[0;34m\"c\"\u001b[0m\u001b[0;34m)\u001b[0m\u001b[0;34m:\u001b[0m\u001b[0;34m\u001b[0m\u001b[0;34m\u001b[0m\u001b[0m\n\u001b[1;32m   1134\u001b[0m         \u001b[0;32mif\u001b[0m \u001b[0mengine\u001b[0m \u001b[0;34m==\u001b[0m \u001b[0;34m\"c\"\u001b[0m\u001b[0;34m:\u001b[0m\u001b[0;34m\u001b[0m\u001b[0;34m\u001b[0m\u001b[0m\n\u001b[0;32m-> 1135\u001b[0;31m             \u001b[0mself\u001b[0m\u001b[0;34m.\u001b[0m\u001b[0m_engine\u001b[0m \u001b[0;34m=\u001b[0m \u001b[0mCParserWrapper\u001b[0m\u001b[0;34m(\u001b[0m\u001b[0mself\u001b[0m\u001b[0;34m.\u001b[0m\u001b[0mf\u001b[0m\u001b[0;34m,\u001b[0m \u001b[0;34m**\u001b[0m\u001b[0mself\u001b[0m\u001b[0;34m.\u001b[0m\u001b[0moptions\u001b[0m\u001b[0;34m)\u001b[0m\u001b[0;34m\u001b[0m\u001b[0;34m\u001b[0m\u001b[0m\n\u001b[0m\u001b[1;32m   1136\u001b[0m         \u001b[0;32melse\u001b[0m\u001b[0;34m:\u001b[0m\u001b[0;34m\u001b[0m\u001b[0;34m\u001b[0m\u001b[0m\n\u001b[1;32m   1137\u001b[0m             \u001b[0;32mif\u001b[0m \u001b[0mengine\u001b[0m \u001b[0;34m==\u001b[0m \u001b[0;34m\"python\"\u001b[0m\u001b[0;34m:\u001b[0m\u001b[0;34m\u001b[0m\u001b[0;34m\u001b[0m\u001b[0m\n",
            "\u001b[0;32m/usr/local/lib/python3.6/dist-packages/pandas/io/parsers.py\u001b[0m in \u001b[0;36m__init__\u001b[0;34m(self, src, **kwds)\u001b[0m\n\u001b[1;32m   1915\u001b[0m         \u001b[0mkwds\u001b[0m\u001b[0;34m[\u001b[0m\u001b[0;34m\"usecols\"\u001b[0m\u001b[0;34m]\u001b[0m \u001b[0;34m=\u001b[0m \u001b[0mself\u001b[0m\u001b[0;34m.\u001b[0m\u001b[0musecols\u001b[0m\u001b[0;34m\u001b[0m\u001b[0;34m\u001b[0m\u001b[0m\n\u001b[1;32m   1916\u001b[0m \u001b[0;34m\u001b[0m\u001b[0m\n\u001b[0;32m-> 1917\u001b[0;31m         \u001b[0mself\u001b[0m\u001b[0;34m.\u001b[0m\u001b[0m_reader\u001b[0m \u001b[0;34m=\u001b[0m \u001b[0mparsers\u001b[0m\u001b[0;34m.\u001b[0m\u001b[0mTextReader\u001b[0m\u001b[0;34m(\u001b[0m\u001b[0msrc\u001b[0m\u001b[0;34m,\u001b[0m \u001b[0;34m**\u001b[0m\u001b[0mkwds\u001b[0m\u001b[0;34m)\u001b[0m\u001b[0;34m\u001b[0m\u001b[0;34m\u001b[0m\u001b[0m\n\u001b[0m\u001b[1;32m   1918\u001b[0m         \u001b[0mself\u001b[0m\u001b[0;34m.\u001b[0m\u001b[0munnamed_cols\u001b[0m \u001b[0;34m=\u001b[0m \u001b[0mself\u001b[0m\u001b[0;34m.\u001b[0m\u001b[0m_reader\u001b[0m\u001b[0;34m.\u001b[0m\u001b[0munnamed_cols\u001b[0m\u001b[0;34m\u001b[0m\u001b[0;34m\u001b[0m\u001b[0m\n\u001b[1;32m   1919\u001b[0m \u001b[0;34m\u001b[0m\u001b[0m\n",
            "\u001b[0;32mpandas/_libs/parsers.pyx\u001b[0m in \u001b[0;36mpandas._libs.parsers.TextReader.__cinit__\u001b[0;34m()\u001b[0m\n",
            "\u001b[0;32mpandas/_libs/parsers.pyx\u001b[0m in \u001b[0;36mpandas._libs.parsers.TextReader._setup_parser_source\u001b[0;34m()\u001b[0m\n",
            "\u001b[0;31mFileNotFoundError\u001b[0m: [Errno 2] File b'air_bnb.csv' does not exist: b'air_bnb.csv'"
          ]
        }
      ]
    },
    {
      "cell_type": "code",
      "metadata": {
        "scrolled": false,
        "id": "dqu65fR8I1eG",
        "colab_type": "code",
        "outputId": "985bb5c7-161a-4168-b8c7-2f97d303dfb4",
        "colab": {
          "base_uri": "https://localhost:8080/",
          "height": 164
        }
      },
      "source": [
        "apartamentos.head()"
      ],
      "execution_count": 34,
      "outputs": [
        {
          "output_type": "error",
          "ename": "NameError",
          "evalue": "ignored",
          "traceback": [
            "\u001b[0;31m---------------------------------------------------------------------------\u001b[0m",
            "\u001b[0;31mNameError\u001b[0m                                 Traceback (most recent call last)",
            "\u001b[0;32m<ipython-input-34-70a6f6c225b9>\u001b[0m in \u001b[0;36m<module>\u001b[0;34m()\u001b[0m\n\u001b[0;32m----> 1\u001b[0;31m \u001b[0mapartamentos\u001b[0m\u001b[0;34m.\u001b[0m\u001b[0mhead\u001b[0m\u001b[0;34m(\u001b[0m\u001b[0;34m)\u001b[0m\u001b[0;34m\u001b[0m\u001b[0;34m\u001b[0m\u001b[0m\n\u001b[0m",
            "\u001b[0;31mNameError\u001b[0m: name 'apartamentos' is not defined"
          ]
        }
      ]
    },
    {
      "cell_type": "markdown",
      "metadata": {
        "id": "xbHF_HDDI1eI",
        "colab_type": "text"
      },
      "source": [
        "A tabela acima é um objeto do tipo **DataFrrame**. Cada coluna de um **DataFrame** pode ser considerada como um objeto do tipo **Series**."
      ]
    },
    {
      "cell_type": "markdown",
      "metadata": {
        "collapsed": true,
        "id": "nSrUVvytI1eJ",
        "colab_type": "text"
      },
      "source": [
        "### pandas.Series\n",
        "\n",
        "Básicamente, armazenam dados, não necessariamente do mesmo tipo, de forma unidimensional\n",
        "\n",
        "Na prática, funciona bastante como um dicionário."
      ]
    },
    {
      "cell_type": "code",
      "metadata": {
        "id": "JxxVkLBsI1eK",
        "colab_type": "code",
        "outputId": "7f2874d8-f978-47a6-e9a7-53fa8f3f9a53",
        "colab": {}
      },
      "source": [
        "my_first_series=apartamentos['price'].head(5) #Vamos pegar apenas as primeiras 5 linhas da coluna 'price'. Veremos esta funcionalidade com mais detalhe na próxima seção (não esquente a cabeça)\n",
        "my_first_series"
      ],
      "execution_count": 0,
      "outputs": [
        {
          "output_type": "error",
          "ename": "NameError",
          "evalue": "name 'apartamentos' is not defined",
          "traceback": [
            "\u001b[0;31m---------------------------------------------------------------------------\u001b[0m",
            "\u001b[0;31mNameError\u001b[0m                                 Traceback (most recent call last)",
            "\u001b[0;32m<ipython-input-39-a6676c61cb54>\u001b[0m in \u001b[0;36m<module>\u001b[0;34m\u001b[0m\n\u001b[0;32m----> 1\u001b[0;31m \u001b[0mmy_first_series\u001b[0m\u001b[0;34m=\u001b[0m\u001b[0mapartamentos\u001b[0m\u001b[0;34m[\u001b[0m\u001b[0;34m'price'\u001b[0m\u001b[0;34m]\u001b[0m\u001b[0;34m.\u001b[0m\u001b[0mhead\u001b[0m\u001b[0;34m(\u001b[0m\u001b[0;36m5\u001b[0m\u001b[0;34m)\u001b[0m \u001b[0;31m#Vamos pegar apenas as primeiras 5 linhas da coluna 'price'. Veremos esta funcionalidade com mais detalhe na próxima seção (não esquente a cabeça)\u001b[0m\u001b[0;34m\u001b[0m\u001b[0;34m\u001b[0m\u001b[0m\n\u001b[0m\u001b[1;32m      2\u001b[0m \u001b[0mmy_first_series\u001b[0m\u001b[0;34m\u001b[0m\u001b[0;34m\u001b[0m\u001b[0m\n",
            "\u001b[0;31mNameError\u001b[0m: name 'apartamentos' is not defined"
          ]
        }
      ]
    },
    {
      "cell_type": "markdown",
      "metadata": {
        "collapsed": true,
        "id": "KzD8TIseI1eM",
        "colab_type": "text"
      },
      "source": [
        "Podemos editar os índices das linhas"
      ]
    },
    {
      "cell_type": "code",
      "metadata": {
        "scrolled": true,
        "id": "4ns_b9FwI1eM",
        "colab_type": "code",
        "outputId": "67c8b9c9-b11b-4061-acfc-018cec60b0d0",
        "colab": {}
      },
      "source": [
        "my_first_series.index=['Apartamento da Tia Isabel', 'Apartamento da Vovó Ana', 'Apartamento do tio João', 'Meu apartamento', 'Escritório']\n",
        "my_first_series"
      ],
      "execution_count": 0,
      "outputs": [
        {
          "output_type": "error",
          "ename": "NameError",
          "evalue": "name 'my_first_series' is not defined",
          "traceback": [
            "\u001b[0;31m---------------------------------------------------------------------------\u001b[0m",
            "\u001b[0;31mNameError\u001b[0m                                 Traceback (most recent call last)",
            "\u001b[0;32m<ipython-input-40-c27d53c2f5fe>\u001b[0m in \u001b[0;36m<module>\u001b[0;34m\u001b[0m\n\u001b[0;32m----> 1\u001b[0;31m \u001b[0mmy_first_series\u001b[0m\u001b[0;34m.\u001b[0m\u001b[0mindex\u001b[0m\u001b[0;34m=\u001b[0m\u001b[0;34m[\u001b[0m\u001b[0;34m'Apartamento da Tia Isabel'\u001b[0m\u001b[0;34m,\u001b[0m \u001b[0;34m'Apartamento da Vovó Ana'\u001b[0m\u001b[0;34m,\u001b[0m \u001b[0;34m'Apartamento do tio João'\u001b[0m\u001b[0;34m,\u001b[0m \u001b[0;34m'Meu apartamento'\u001b[0m\u001b[0;34m,\u001b[0m \u001b[0;34m'Escritório'\u001b[0m\u001b[0;34m]\u001b[0m\u001b[0;34m\u001b[0m\u001b[0;34m\u001b[0m\u001b[0m\n\u001b[0m\u001b[1;32m      2\u001b[0m \u001b[0mmy_first_series\u001b[0m\u001b[0;34m\u001b[0m\u001b[0;34m\u001b[0m\u001b[0m\n",
            "\u001b[0;31mNameError\u001b[0m: name 'my_first_series' is not defined"
          ]
        }
      ]
    },
    {
      "cell_type": "markdown",
      "metadata": {
        "id": "NjW51PVGI1eO",
        "colab_type": "text"
      },
      "source": [
        "Ou criar series a partir de dicionários"
      ]
    },
    {
      "cell_type": "code",
      "metadata": {
        "scrolled": true,
        "id": "e4S_76MYI1eP",
        "colab_type": "code",
        "outputId": "26062685-247d-473e-8e81-f3911706d753",
        "colab": {}
      },
      "source": [
        "ordemDeCompra_Sr=pd.Series(ordemDeCompra)\n",
        "ordemDeCompra_Sr"
      ],
      "execution_count": 0,
      "outputs": [
        {
          "output_type": "execute_result",
          "data": {
            "text/plain": [
              "empresa            Itaú Unibanco\n",
              "ticker                     ITUB3\n",
              "comprar                     True\n",
              "quantidade                   100\n",
              "preço de compra            32.33\n",
              "dtype: object"
            ]
          },
          "metadata": {
            "tags": []
          },
          "execution_count": 41
        }
      ]
    },
    {
      "cell_type": "markdown",
      "metadata": {
        "id": "FeQ7pq4ZI1eQ",
        "colab_type": "text"
      },
      "source": [
        "Selecionamos os elementos pelos nomes ou índices das linhas (iniciando em 0)  "
      ]
    },
    {
      "cell_type": "code",
      "metadata": {
        "id": "kph_XTCnI1eQ",
        "colab_type": "code",
        "outputId": "6fcd9ed1-67b6-4142-84e8-6a8852545080",
        "colab": {}
      },
      "source": [
        "ordemDeCompra_Sr['empresa']"
      ],
      "execution_count": 0,
      "outputs": [
        {
          "output_type": "execute_result",
          "data": {
            "text/plain": [
              "'Itaú Unibanco'"
            ]
          },
          "metadata": {
            "tags": []
          },
          "execution_count": 42
        }
      ]
    },
    {
      "cell_type": "code",
      "metadata": {
        "id": "uHsGWKPYI1eS",
        "colab_type": "code",
        "outputId": "c4928a74-3531-43c3-cb05-0ce63c8a4a97",
        "colab": {}
      },
      "source": [
        "ordemDeCompra_Sr[4]"
      ],
      "execution_count": 0,
      "outputs": [
        {
          "output_type": "execute_result",
          "data": {
            "text/plain": [
              "32.33"
            ]
          },
          "metadata": {
            "tags": []
          },
          "execution_count": 43
        }
      ]
    },
    {
      "cell_type": "markdown",
      "metadata": {
        "id": "FJWDN2eNI1eT",
        "colab_type": "text"
      },
      "source": [
        "### pandas.DataFrame\n",
        "\n",
        "Como vimos o **DataFrame** armazena dados numa estrutura retangular (em forma de tabela). Os dados de uma mesma linha ou coluna não precisam ser necessariamente do mesmo tipo."
      ]
    },
    {
      "cell_type": "code",
      "metadata": {
        "id": "pAL-9pdrI1eT",
        "colab_type": "code",
        "outputId": "34d2f794-a194-4697-96d0-5e6ff78c9b31",
        "colab": {
          "base_uri": "https://localhost:8080/",
          "height": 201
        }
      },
      "source": [
        "apartamentos=pd.read_csv('https://raw.githubusercontent.com/ImersaoIA/classificacao2020/master/Datasets/air_bnb.csv')\n",
        "apartamentos.head()"
      ],
      "execution_count": 2,
      "outputs": [
        {
          "output_type": "error",
          "ename": "NameError",
          "evalue": "ignored",
          "traceback": [
            "\u001b[0;31m---------------------------------------------------------------------------\u001b[0m",
            "\u001b[0;31mNameError\u001b[0m                                 Traceback (most recent call last)",
            "\u001b[0;32m<ipython-input-2-bdee9010bb06>\u001b[0m in \u001b[0;36m<module>\u001b[0;34m()\u001b[0m\n\u001b[0;32m----> 1\u001b[0;31m \u001b[0mapartamentos\u001b[0m\u001b[0;34m=\u001b[0m\u001b[0mpd\u001b[0m\u001b[0;34m.\u001b[0m\u001b[0mread_csv\u001b[0m\u001b[0;34m(\u001b[0m\u001b[0;34m'https://raw.githubusercontent.com/ImersaoIA/classificacao2020/master/Datasets/air_bnb.csv'\u001b[0m\u001b[0;34m)\u001b[0m\u001b[0;34m\u001b[0m\u001b[0;34m\u001b[0m\u001b[0m\n\u001b[0m\u001b[1;32m      2\u001b[0m \u001b[0mapartamentos\u001b[0m\u001b[0;34m.\u001b[0m\u001b[0mhead\u001b[0m\u001b[0;34m(\u001b[0m\u001b[0;34m)\u001b[0m\u001b[0;34m\u001b[0m\u001b[0;34m\u001b[0m\u001b[0m\n",
            "\u001b[0;31mNameError\u001b[0m: name 'pd' is not defined"
          ]
        }
      ]
    },
    {
      "cell_type": "markdown",
      "metadata": {
        "id": "F2BVu7TzI1eV",
        "colab_type": "text"
      },
      "source": [
        "### Mexendo com os dados\n",
        "\n",
        "O poder do **pandas** está na facilidade com que ele permite manipular e visualizar os dados"
      ]
    },
    {
      "cell_type": "markdown",
      "metadata": {
        "id": "qg7pMMZgI1eV",
        "colab_type": "text"
      },
      "source": [
        "#### Descritivos\n",
        "\n",
        "Conhecendo os dados"
      ]
    },
    {
      "cell_type": "code",
      "metadata": {
        "id": "x_3Oe2kZI1eW",
        "colab_type": "code",
        "outputId": "6c041874-818d-45a1-8149-f44876df456d",
        "colab": {
          "base_uri": "https://localhost:8080/",
          "height": 164
        }
      },
      "source": [
        "apartamentos.head()"
      ],
      "execution_count": 1,
      "outputs": [
        {
          "output_type": "error",
          "ename": "NameError",
          "evalue": "ignored",
          "traceback": [
            "\u001b[0;31m---------------------------------------------------------------------------\u001b[0m",
            "\u001b[0;31mNameError\u001b[0m                                 Traceback (most recent call last)",
            "\u001b[0;32m<ipython-input-1-70a6f6c225b9>\u001b[0m in \u001b[0;36m<module>\u001b[0;34m()\u001b[0m\n\u001b[0;32m----> 1\u001b[0;31m \u001b[0mapartamentos\u001b[0m\u001b[0;34m.\u001b[0m\u001b[0mhead\u001b[0m\u001b[0;34m(\u001b[0m\u001b[0;34m)\u001b[0m\u001b[0;34m\u001b[0m\u001b[0;34m\u001b[0m\u001b[0m\n\u001b[0m",
            "\u001b[0;31mNameError\u001b[0m: name 'apartamentos' is not defined"
          ]
        }
      ]
    },
    {
      "cell_type": "code",
      "metadata": {
        "id": "XEgeX_QYI1eY",
        "colab_type": "code",
        "outputId": "b6065218-8d3e-47bc-c295-d3dd4d5ce41a",
        "colab": {}
      },
      "source": [
        "apartamentos.columns"
      ],
      "execution_count": 0,
      "outputs": [
        {
          "output_type": "error",
          "ename": "NameError",
          "evalue": "name 'apartamentos' is not defined",
          "traceback": [
            "\u001b[0;31m---------------------------------------------------------------------------\u001b[0m",
            "\u001b[0;31mNameError\u001b[0m                                 Traceback (most recent call last)",
            "\u001b[0;32m<ipython-input-46-1fd7242e6b9b>\u001b[0m in \u001b[0;36m<module>\u001b[0;34m\u001b[0m\n\u001b[0;32m----> 1\u001b[0;31m \u001b[0mapartamentos\u001b[0m\u001b[0;34m.\u001b[0m\u001b[0mcolumns\u001b[0m\u001b[0;34m\u001b[0m\u001b[0;34m\u001b[0m\u001b[0m\n\u001b[0m",
            "\u001b[0;31mNameError\u001b[0m: name 'apartamentos' is not defined"
          ]
        }
      ]
    },
    {
      "cell_type": "code",
      "metadata": {
        "id": "Fv1XM1bcI1ea",
        "colab_type": "code",
        "outputId": "d4c095ca-1524-4193-b5f0-c7f54832a520",
        "colab": {}
      },
      "source": [
        "apartamentos.index"
      ],
      "execution_count": 0,
      "outputs": [
        {
          "output_type": "error",
          "ename": "NameError",
          "evalue": "name 'apartamentos' is not defined",
          "traceback": [
            "\u001b[0;31m---------------------------------------------------------------------------\u001b[0m",
            "\u001b[0;31mNameError\u001b[0m                                 Traceback (most recent call last)",
            "\u001b[0;32m<ipython-input-47-5637c34fe6e6>\u001b[0m in \u001b[0;36m<module>\u001b[0;34m\u001b[0m\n\u001b[0;32m----> 1\u001b[0;31m \u001b[0mapartamentos\u001b[0m\u001b[0;34m.\u001b[0m\u001b[0mindex\u001b[0m\u001b[0;34m\u001b[0m\u001b[0;34m\u001b[0m\u001b[0m\n\u001b[0m",
            "\u001b[0;31mNameError\u001b[0m: name 'apartamentos' is not defined"
          ]
        }
      ]
    },
    {
      "cell_type": "code",
      "metadata": {
        "id": "KdgAJQDCI1eb",
        "colab_type": "code",
        "outputId": "edd16a64-9c5b-4e03-a73c-af4a49d995c6",
        "colab": {}
      },
      "source": [
        "apartamentos.describe()"
      ],
      "execution_count": 0,
      "outputs": [
        {
          "output_type": "error",
          "ename": "NameError",
          "evalue": "name 'apartamentos' is not defined",
          "traceback": [
            "\u001b[0;31m---------------------------------------------------------------------------\u001b[0m",
            "\u001b[0;31mNameError\u001b[0m                                 Traceback (most recent call last)",
            "\u001b[0;32m<ipython-input-48-78f30dda2a54>\u001b[0m in \u001b[0;36m<module>\u001b[0;34m\u001b[0m\n\u001b[0;32m----> 1\u001b[0;31m \u001b[0mapartamentos\u001b[0m\u001b[0;34m.\u001b[0m\u001b[0mdescribe\u001b[0m\u001b[0;34m(\u001b[0m\u001b[0;34m)\u001b[0m\u001b[0;34m\u001b[0m\u001b[0;34m\u001b[0m\u001b[0m\n\u001b[0m",
            "\u001b[0;31mNameError\u001b[0m: name 'apartamentos' is not defined"
          ]
        }
      ]
    },
    {
      "cell_type": "code",
      "metadata": {
        "id": "H77Xpxb_I1ef",
        "colab_type": "code",
        "outputId": "4b62f37f-296c-4dfe-cdf7-6acb7e916b16",
        "colab": {}
      },
      "source": [
        "apartamentos.dtypes"
      ],
      "execution_count": 0,
      "outputs": [
        {
          "output_type": "error",
          "ename": "NameError",
          "evalue": "name 'apartamentos' is not defined",
          "traceback": [
            "\u001b[0;31m---------------------------------------------------------------------------\u001b[0m",
            "\u001b[0;31mNameError\u001b[0m                                 Traceback (most recent call last)",
            "\u001b[0;32m<ipython-input-49-79f8d4f09a10>\u001b[0m in \u001b[0;36m<module>\u001b[0;34m\u001b[0m\n\u001b[0;32m----> 1\u001b[0;31m \u001b[0mapartamentos\u001b[0m\u001b[0;34m.\u001b[0m\u001b[0mdtypes\u001b[0m\u001b[0;34m\u001b[0m\u001b[0;34m\u001b[0m\u001b[0m\n\u001b[0m",
            "\u001b[0;31mNameError\u001b[0m: name 'apartamentos' is not defined"
          ]
        }
      ]
    },
    {
      "cell_type": "code",
      "metadata": {
        "id": "4KIsLpuWI1eh",
        "colab_type": "code",
        "outputId": "7ac1d70a-9a2f-4b69-fc5f-83100bd15b82",
        "colab": {}
      },
      "source": [
        "apartamentos.count()"
      ],
      "execution_count": 0,
      "outputs": [
        {
          "output_type": "error",
          "ename": "NameError",
          "evalue": "name 'apartamentos' is not defined",
          "traceback": [
            "\u001b[0;31m---------------------------------------------------------------------------\u001b[0m",
            "\u001b[0;31mNameError\u001b[0m                                 Traceback (most recent call last)",
            "\u001b[0;32m<ipython-input-50-dc66c930ce73>\u001b[0m in \u001b[0;36m<module>\u001b[0;34m\u001b[0m\n\u001b[0;32m----> 1\u001b[0;31m \u001b[0mapartamentos\u001b[0m\u001b[0;34m.\u001b[0m\u001b[0mcount\u001b[0m\u001b[0;34m(\u001b[0m\u001b[0;34m)\u001b[0m\u001b[0;34m\u001b[0m\u001b[0;34m\u001b[0m\u001b[0m\n\u001b[0m",
            "\u001b[0;31mNameError\u001b[0m: name 'apartamentos' is not defined"
          ]
        }
      ]
    },
    {
      "cell_type": "code",
      "metadata": {
        "id": "f7IFNDwuI1ei",
        "colab_type": "code",
        "colab": {}
      },
      "source": [
        "apartamentos.max()"
      ],
      "execution_count": 0,
      "outputs": []
    },
    {
      "cell_type": "code",
      "metadata": {
        "id": "8wdcVmPbI1ek",
        "colab_type": "code",
        "outputId": "ff8c85d0-3d44-41cb-dc46-090e38b82f61",
        "colab": {}
      },
      "source": [
        "apartamentos.price.head()"
      ],
      "execution_count": 0,
      "outputs": [
        {
          "output_type": "execute_result",
          "data": {
            "text/plain": [
              "0    300.0\n",
              "1    228.0\n",
              "2    159.0\n",
              "3    247.0\n",
              "4    342.0\n",
              "Name: price, dtype: float64"
            ]
          },
          "metadata": {
            "tags": []
          },
          "execution_count": 226
        }
      ]
    },
    {
      "cell_type": "code",
      "metadata": {
        "id": "W4t7PIY7I1el",
        "colab_type": "code",
        "outputId": "b1009e5b-5c0a-4f19-ec34-049c517080fa",
        "colab": {}
      },
      "source": [
        "apartamentos.bathrooms.sum()"
      ],
      "execution_count": 0,
      "outputs": [
        {
          "output_type": "execute_result",
          "data": {
            "text/plain": [
              "60823.0"
            ]
          },
          "metadata": {
            "tags": []
          },
          "execution_count": 227
        }
      ]
    },
    {
      "cell_type": "code",
      "metadata": {
        "id": "Xzmso2xfI1en",
        "colab_type": "code",
        "outputId": "e0c888bc-e42f-44ca-aecb-a4fd7d1f6208",
        "colab": {}
      },
      "source": [
        "apartamentos.price.mean()"
      ],
      "execution_count": 0,
      "outputs": [
        {
          "output_type": "execute_result",
          "data": {
            "text/plain": [
              "634.8099544969384"
            ]
          },
          "metadata": {
            "tags": []
          },
          "execution_count": 228
        }
      ]
    },
    {
      "cell_type": "markdown",
      "metadata": {
        "id": "Dqs4Kf1CI1ep",
        "colab_type": "text"
      },
      "source": [
        "Para encontrar um elemento"
      ]
    },
    {
      "cell_type": "code",
      "metadata": {
        "id": "ibFwguymI1ep",
        "colab_type": "code",
        "outputId": "134aa72e-45b2-4506-adcc-21ad8a48156e",
        "colab": {}
      },
      "source": [
        "apartamentos.head()"
      ],
      "execution_count": 0,
      "outputs": [
        {
          "output_type": "execute_result",
          "data": {
            "text/html": [
              "<div>\n",
              "<style>\n",
              "    .dataframe thead tr:only-child th {\n",
              "        text-align: right;\n",
              "    }\n",
              "\n",
              "    .dataframe thead th {\n",
              "        text-align: left;\n",
              "    }\n",
              "\n",
              "    .dataframe tbody tr th {\n",
              "        vertical-align: top;\n",
              "    }\n",
              "</style>\n",
              "<table border=\"1\" class=\"dataframe\">\n",
              "  <thead>\n",
              "    <tr style=\"text-align: right;\">\n",
              "      <th></th>\n",
              "      <th>id</th>\n",
              "      <th>price</th>\n",
              "      <th>space</th>\n",
              "      <th>beds</th>\n",
              "      <th>bedrooms</th>\n",
              "      <th>bathrooms</th>\n",
              "      <th>neighbourhood</th>\n",
              "      <th>accommodates</th>\n",
              "      <th>host_is_superhost</th>\n",
              "      <th>instant_bookable</th>\n",
              "    </tr>\n",
              "  </thead>\n",
              "  <tbody>\n",
              "    <tr>\n",
              "      <th>0</th>\n",
              "      <td>17878</td>\n",
              "      <td>300.0</td>\n",
              "      <td>- large balcony which looks out on pedestrian ...</td>\n",
              "      <td>2.0</td>\n",
              "      <td>2.0</td>\n",
              "      <td>1.0</td>\n",
              "      <td>Copacabana</td>\n",
              "      <td>5</td>\n",
              "      <td>f</td>\n",
              "      <td>t</td>\n",
              "    </tr>\n",
              "    <tr>\n",
              "      <th>1</th>\n",
              "      <td>24480</td>\n",
              "      <td>228.0</td>\n",
              "      <td>The studio is located at Vinicius de Moraes St...</td>\n",
              "      <td>1.0</td>\n",
              "      <td>1.0</td>\n",
              "      <td>1.0</td>\n",
              "      <td>Ipanema</td>\n",
              "      <td>2</td>\n",
              "      <td>f</td>\n",
              "      <td>f</td>\n",
              "    </tr>\n",
              "    <tr>\n",
              "      <th>2</th>\n",
              "      <td>25026</td>\n",
              "      <td>159.0</td>\n",
              "      <td>This newly renovated studio (last renovations ...</td>\n",
              "      <td>2.0</td>\n",
              "      <td>1.0</td>\n",
              "      <td>1.0</td>\n",
              "      <td>Copacabana</td>\n",
              "      <td>3</td>\n",
              "      <td>f</td>\n",
              "      <td>f</td>\n",
              "    </tr>\n",
              "    <tr>\n",
              "      <th>3</th>\n",
              "      <td>31560</td>\n",
              "      <td>247.0</td>\n",
              "      <td>This nice and clean 1 bedroom apartment is loc...</td>\n",
              "      <td>2.0</td>\n",
              "      <td>1.0</td>\n",
              "      <td>1.0</td>\n",
              "      <td>Ipanema</td>\n",
              "      <td>3</td>\n",
              "      <td>t</td>\n",
              "      <td>t</td>\n",
              "    </tr>\n",
              "    <tr>\n",
              "      <th>4</th>\n",
              "      <td>35636</td>\n",
              "      <td>342.0</td>\n",
              "      <td>The location is extremely convenient, safe and...</td>\n",
              "      <td>2.0</td>\n",
              "      <td>1.0</td>\n",
              "      <td>1.5</td>\n",
              "      <td>Ipanema</td>\n",
              "      <td>3</td>\n",
              "      <td>t</td>\n",
              "      <td>f</td>\n",
              "    </tr>\n",
              "  </tbody>\n",
              "</table>\n",
              "</div>"
            ],
            "text/plain": [
              "      id  price                                              space  beds  \\\n",
              "0  17878  300.0  - large balcony which looks out on pedestrian ...   2.0   \n",
              "1  24480  228.0  The studio is located at Vinicius de Moraes St...   1.0   \n",
              "2  25026  159.0  This newly renovated studio (last renovations ...   2.0   \n",
              "3  31560  247.0  This nice and clean 1 bedroom apartment is loc...   2.0   \n",
              "4  35636  342.0  The location is extremely convenient, safe and...   2.0   \n",
              "\n",
              "   bedrooms  bathrooms neighbourhood  accommodates host_is_superhost  \\\n",
              "0       2.0        1.0    Copacabana             5                 f   \n",
              "1       1.0        1.0       Ipanema             2                 f   \n",
              "2       1.0        1.0    Copacabana             3                 f   \n",
              "3       1.0        1.0       Ipanema             3                 t   \n",
              "4       1.0        1.5       Ipanema             3                 t   \n",
              "\n",
              "  instant_bookable  \n",
              "0                t  \n",
              "1                f  \n",
              "2                f  \n",
              "3                t  \n",
              "4                f  "
            ]
          },
          "metadata": {
            "tags": []
          },
          "execution_count": 229
        }
      ]
    },
    {
      "cell_type": "code",
      "metadata": {
        "id": "rUB1W4YaI1er",
        "colab_type": "code",
        "outputId": "21eb4878-3af0-4615-d8a7-96734cccc395",
        "colab": {}
      },
      "source": [
        "apartamentos.iloc[4,3] # [linha, coluna]"
      ],
      "execution_count": 0,
      "outputs": [
        {
          "output_type": "execute_result",
          "data": {
            "text/plain": [
              "2.0"
            ]
          },
          "metadata": {
            "tags": []
          },
          "execution_count": 230
        }
      ]
    },
    {
      "cell_type": "code",
      "metadata": {
        "id": "TzRDiBuaI1es",
        "colab_type": "code",
        "outputId": "d7b74979-321f-43d7-8ea0-64dd8755fe2b",
        "colab": {}
      },
      "source": [
        "apartamentos.loc[4, 'beds']"
      ],
      "execution_count": 0,
      "outputs": [
        {
          "output_type": "execute_result",
          "data": {
            "text/plain": [
              "2.0"
            ]
          },
          "metadata": {
            "tags": []
          },
          "execution_count": 231
        }
      ]
    },
    {
      "cell_type": "markdown",
      "metadata": {
        "id": "NN8aBtaKI1et",
        "colab_type": "text"
      },
      "source": [
        "Filtros"
      ]
    },
    {
      "cell_type": "code",
      "metadata": {
        "id": "yZp4ePwKI1eu",
        "colab_type": "code",
        "outputId": "4ea7d9ad-1a11-48c6-d06a-303c48ce6aea",
        "colab": {}
      },
      "source": [
        "apartamentos[apartamentos['price']<=300].head()"
      ],
      "execution_count": 0,
      "outputs": [
        {
          "output_type": "execute_result",
          "data": {
            "text/html": [
              "<div>\n",
              "<style>\n",
              "    .dataframe thead tr:only-child th {\n",
              "        text-align: right;\n",
              "    }\n",
              "\n",
              "    .dataframe thead th {\n",
              "        text-align: left;\n",
              "    }\n",
              "\n",
              "    .dataframe tbody tr th {\n",
              "        vertical-align: top;\n",
              "    }\n",
              "</style>\n",
              "<table border=\"1\" class=\"dataframe\">\n",
              "  <thead>\n",
              "    <tr style=\"text-align: right;\">\n",
              "      <th></th>\n",
              "      <th>id</th>\n",
              "      <th>price</th>\n",
              "      <th>space</th>\n",
              "      <th>beds</th>\n",
              "      <th>bedrooms</th>\n",
              "      <th>bathrooms</th>\n",
              "      <th>neighbourhood</th>\n",
              "      <th>accommodates</th>\n",
              "      <th>host_is_superhost</th>\n",
              "      <th>instant_bookable</th>\n",
              "    </tr>\n",
              "  </thead>\n",
              "  <tbody>\n",
              "    <tr>\n",
              "      <th>0</th>\n",
              "      <td>17878</td>\n",
              "      <td>300.0</td>\n",
              "      <td>- large balcony which looks out on pedestrian ...</td>\n",
              "      <td>2.0</td>\n",
              "      <td>2.0</td>\n",
              "      <td>1.0</td>\n",
              "      <td>Copacabana</td>\n",
              "      <td>5</td>\n",
              "      <td>f</td>\n",
              "      <td>t</td>\n",
              "    </tr>\n",
              "    <tr>\n",
              "      <th>1</th>\n",
              "      <td>24480</td>\n",
              "      <td>228.0</td>\n",
              "      <td>The studio is located at Vinicius de Moraes St...</td>\n",
              "      <td>1.0</td>\n",
              "      <td>1.0</td>\n",
              "      <td>1.0</td>\n",
              "      <td>Ipanema</td>\n",
              "      <td>2</td>\n",
              "      <td>f</td>\n",
              "      <td>f</td>\n",
              "    </tr>\n",
              "    <tr>\n",
              "      <th>2</th>\n",
              "      <td>25026</td>\n",
              "      <td>159.0</td>\n",
              "      <td>This newly renovated studio (last renovations ...</td>\n",
              "      <td>2.0</td>\n",
              "      <td>1.0</td>\n",
              "      <td>1.0</td>\n",
              "      <td>Copacabana</td>\n",
              "      <td>3</td>\n",
              "      <td>f</td>\n",
              "      <td>f</td>\n",
              "    </tr>\n",
              "    <tr>\n",
              "      <th>3</th>\n",
              "      <td>31560</td>\n",
              "      <td>247.0</td>\n",
              "      <td>This nice and clean 1 bedroom apartment is loc...</td>\n",
              "      <td>2.0</td>\n",
              "      <td>1.0</td>\n",
              "      <td>1.0</td>\n",
              "      <td>Ipanema</td>\n",
              "      <td>3</td>\n",
              "      <td>t</td>\n",
              "      <td>t</td>\n",
              "    </tr>\n",
              "    <tr>\n",
              "      <th>5</th>\n",
              "      <td>35764</td>\n",
              "      <td>220.0</td>\n",
              "      <td>FEEL LIKE YOUR HOME LIVING AS \"CARIOCA\" LOCAL ...</td>\n",
              "      <td>2.0</td>\n",
              "      <td>1.0</td>\n",
              "      <td>1.0</td>\n",
              "      <td>Copacabana</td>\n",
              "      <td>2</td>\n",
              "      <td>t</td>\n",
              "      <td>t</td>\n",
              "    </tr>\n",
              "  </tbody>\n",
              "</table>\n",
              "</div>"
            ],
            "text/plain": [
              "      id  price                                              space  beds  \\\n",
              "0  17878  300.0  - large balcony which looks out on pedestrian ...   2.0   \n",
              "1  24480  228.0  The studio is located at Vinicius de Moraes St...   1.0   \n",
              "2  25026  159.0  This newly renovated studio (last renovations ...   2.0   \n",
              "3  31560  247.0  This nice and clean 1 bedroom apartment is loc...   2.0   \n",
              "5  35764  220.0  FEEL LIKE YOUR HOME LIVING AS \"CARIOCA\" LOCAL ...   2.0   \n",
              "\n",
              "   bedrooms  bathrooms neighbourhood  accommodates host_is_superhost  \\\n",
              "0       2.0        1.0    Copacabana             5                 f   \n",
              "1       1.0        1.0       Ipanema             2                 f   \n",
              "2       1.0        1.0    Copacabana             3                 f   \n",
              "3       1.0        1.0       Ipanema             3                 t   \n",
              "5       1.0        1.0    Copacabana             2                 t   \n",
              "\n",
              "  instant_bookable  \n",
              "0                t  \n",
              "1                f  \n",
              "2                f  \n",
              "3                t  \n",
              "5                t  "
            ]
          },
          "metadata": {
            "tags": []
          },
          "execution_count": 232
        }
      ]
    },
    {
      "cell_type": "code",
      "metadata": {
        "id": "VWdEi_akI1ev",
        "colab_type": "code",
        "outputId": "c1d1c595-1be6-4e0b-db90-48b8be3946fd",
        "colab": {}
      },
      "source": [
        "apartamentos[apartamentos['neighbourhood']=='Copacabana'].head() # Em comparações usamos ==, em vez de apenas "
      ],
      "execution_count": 0,
      "outputs": [
        {
          "output_type": "execute_result",
          "data": {
            "text/html": [
              "<div>\n",
              "<style>\n",
              "    .dataframe thead tr:only-child th {\n",
              "        text-align: right;\n",
              "    }\n",
              "\n",
              "    .dataframe thead th {\n",
              "        text-align: left;\n",
              "    }\n",
              "\n",
              "    .dataframe tbody tr th {\n",
              "        vertical-align: top;\n",
              "    }\n",
              "</style>\n",
              "<table border=\"1\" class=\"dataframe\">\n",
              "  <thead>\n",
              "    <tr style=\"text-align: right;\">\n",
              "      <th></th>\n",
              "      <th>id</th>\n",
              "      <th>price</th>\n",
              "      <th>space</th>\n",
              "      <th>beds</th>\n",
              "      <th>bedrooms</th>\n",
              "      <th>bathrooms</th>\n",
              "      <th>neighbourhood</th>\n",
              "      <th>accommodates</th>\n",
              "      <th>host_is_superhost</th>\n",
              "      <th>instant_bookable</th>\n",
              "    </tr>\n",
              "  </thead>\n",
              "  <tbody>\n",
              "    <tr>\n",
              "      <th>0</th>\n",
              "      <td>17878</td>\n",
              "      <td>300.0</td>\n",
              "      <td>- large balcony which looks out on pedestrian ...</td>\n",
              "      <td>2.0</td>\n",
              "      <td>2.0</td>\n",
              "      <td>1.0</td>\n",
              "      <td>Copacabana</td>\n",
              "      <td>5</td>\n",
              "      <td>f</td>\n",
              "      <td>t</td>\n",
              "    </tr>\n",
              "    <tr>\n",
              "      <th>2</th>\n",
              "      <td>25026</td>\n",
              "      <td>159.0</td>\n",
              "      <td>This newly renovated studio (last renovations ...</td>\n",
              "      <td>2.0</td>\n",
              "      <td>1.0</td>\n",
              "      <td>1.0</td>\n",
              "      <td>Copacabana</td>\n",
              "      <td>3</td>\n",
              "      <td>f</td>\n",
              "      <td>f</td>\n",
              "    </tr>\n",
              "    <tr>\n",
              "      <th>5</th>\n",
              "      <td>35764</td>\n",
              "      <td>220.0</td>\n",
              "      <td>FEEL LIKE YOUR HOME LIVING AS \"CARIOCA\" LOCAL ...</td>\n",
              "      <td>2.0</td>\n",
              "      <td>1.0</td>\n",
              "      <td>1.0</td>\n",
              "      <td>Copacabana</td>\n",
              "      <td>2</td>\n",
              "      <td>t</td>\n",
              "      <td>t</td>\n",
              "    </tr>\n",
              "    <tr>\n",
              "      <th>6</th>\n",
              "      <td>35893</td>\n",
              "      <td>152.0</td>\n",
              "      <td>Purpose of CopaTabajaras is to provide a nice,...</td>\n",
              "      <td>2.0</td>\n",
              "      <td>1.0</td>\n",
              "      <td>1.0</td>\n",
              "      <td>Copacabana</td>\n",
              "      <td>3</td>\n",
              "      <td>f</td>\n",
              "      <td>f</td>\n",
              "    </tr>\n",
              "    <tr>\n",
              "      <th>9</th>\n",
              "      <td>48726</td>\n",
              "      <td>118.0</td>\n",
              "      <td>Excelente acomodação perto da praia mais famos...</td>\n",
              "      <td>1.0</td>\n",
              "      <td>1.0</td>\n",
              "      <td>1.0</td>\n",
              "      <td>Copacabana</td>\n",
              "      <td>1</td>\n",
              "      <td>t</td>\n",
              "      <td>t</td>\n",
              "    </tr>\n",
              "  </tbody>\n",
              "</table>\n",
              "</div>"
            ],
            "text/plain": [
              "      id  price                                              space  beds  \\\n",
              "0  17878  300.0  - large balcony which looks out on pedestrian ...   2.0   \n",
              "2  25026  159.0  This newly renovated studio (last renovations ...   2.0   \n",
              "5  35764  220.0  FEEL LIKE YOUR HOME LIVING AS \"CARIOCA\" LOCAL ...   2.0   \n",
              "6  35893  152.0  Purpose of CopaTabajaras is to provide a nice,...   2.0   \n",
              "9  48726  118.0  Excelente acomodação perto da praia mais famos...   1.0   \n",
              "\n",
              "   bedrooms  bathrooms neighbourhood  accommodates host_is_superhost  \\\n",
              "0       2.0        1.0    Copacabana             5                 f   \n",
              "2       1.0        1.0    Copacabana             3                 f   \n",
              "5       1.0        1.0    Copacabana             2                 t   \n",
              "6       1.0        1.0    Copacabana             3                 f   \n",
              "9       1.0        1.0    Copacabana             1                 t   \n",
              "\n",
              "  instant_bookable  \n",
              "0                t  \n",
              "2                f  \n",
              "5                t  \n",
              "6                f  \n",
              "9                t  "
            ]
          },
          "metadata": {
            "tags": []
          },
          "execution_count": 233
        }
      ]
    },
    {
      "cell_type": "code",
      "metadata": {
        "id": "VWV3B_ghI1ey",
        "colab_type": "code",
        "outputId": "04af544e-0210-4bf4-d77d-139875a649e2",
        "colab": {}
      },
      "source": [
        "apartamentos[apartamentos['price']<=apartamentos['price'].mean()]"
      ],
      "execution_count": 0,
      "outputs": [
        {
          "output_type": "execute_result",
          "data": {
            "text/html": [
              "<div>\n",
              "<style>\n",
              "    .dataframe thead tr:only-child th {\n",
              "        text-align: right;\n",
              "    }\n",
              "\n",
              "    .dataframe thead th {\n",
              "        text-align: left;\n",
              "    }\n",
              "\n",
              "    .dataframe tbody tr th {\n",
              "        vertical-align: top;\n",
              "    }\n",
              "</style>\n",
              "<table border=\"1\" class=\"dataframe\">\n",
              "  <thead>\n",
              "    <tr style=\"text-align: right;\">\n",
              "      <th></th>\n",
              "      <th>id</th>\n",
              "      <th>price</th>\n",
              "      <th>space</th>\n",
              "      <th>beds</th>\n",
              "      <th>bedrooms</th>\n",
              "      <th>bathrooms</th>\n",
              "      <th>neighbourhood</th>\n",
              "      <th>accommodates</th>\n",
              "      <th>host_is_superhost</th>\n",
              "      <th>instant_bookable</th>\n",
              "    </tr>\n",
              "  </thead>\n",
              "  <tbody>\n",
              "    <tr>\n",
              "      <th>0</th>\n",
              "      <td>17878</td>\n",
              "      <td>300.0</td>\n",
              "      <td>- large balcony which looks out on pedestrian ...</td>\n",
              "      <td>2.0</td>\n",
              "      <td>2.0</td>\n",
              "      <td>1.0</td>\n",
              "      <td>Copacabana</td>\n",
              "      <td>5</td>\n",
              "      <td>f</td>\n",
              "      <td>t</td>\n",
              "    </tr>\n",
              "    <tr>\n",
              "      <th>1</th>\n",
              "      <td>24480</td>\n",
              "      <td>228.0</td>\n",
              "      <td>The studio is located at Vinicius de Moraes St...</td>\n",
              "      <td>1.0</td>\n",
              "      <td>1.0</td>\n",
              "      <td>1.0</td>\n",
              "      <td>Ipanema</td>\n",
              "      <td>2</td>\n",
              "      <td>f</td>\n",
              "      <td>f</td>\n",
              "    </tr>\n",
              "    <tr>\n",
              "      <th>2</th>\n",
              "      <td>25026</td>\n",
              "      <td>159.0</td>\n",
              "      <td>This newly renovated studio (last renovations ...</td>\n",
              "      <td>2.0</td>\n",
              "      <td>1.0</td>\n",
              "      <td>1.0</td>\n",
              "      <td>Copacabana</td>\n",
              "      <td>3</td>\n",
              "      <td>f</td>\n",
              "      <td>f</td>\n",
              "    </tr>\n",
              "    <tr>\n",
              "      <th>3</th>\n",
              "      <td>31560</td>\n",
              "      <td>247.0</td>\n",
              "      <td>This nice and clean 1 bedroom apartment is loc...</td>\n",
              "      <td>2.0</td>\n",
              "      <td>1.0</td>\n",
              "      <td>1.0</td>\n",
              "      <td>Ipanema</td>\n",
              "      <td>3</td>\n",
              "      <td>t</td>\n",
              "      <td>t</td>\n",
              "    </tr>\n",
              "    <tr>\n",
              "      <th>4</th>\n",
              "      <td>35636</td>\n",
              "      <td>342.0</td>\n",
              "      <td>The location is extremely convenient, safe and...</td>\n",
              "      <td>2.0</td>\n",
              "      <td>1.0</td>\n",
              "      <td>1.5</td>\n",
              "      <td>Ipanema</td>\n",
              "      <td>3</td>\n",
              "      <td>t</td>\n",
              "      <td>f</td>\n",
              "    </tr>\n",
              "    <tr>\n",
              "      <th>5</th>\n",
              "      <td>35764</td>\n",
              "      <td>220.0</td>\n",
              "      <td>FEEL LIKE YOUR HOME LIVING AS \"CARIOCA\" LOCAL ...</td>\n",
              "      <td>2.0</td>\n",
              "      <td>1.0</td>\n",
              "      <td>1.0</td>\n",
              "      <td>Copacabana</td>\n",
              "      <td>2</td>\n",
              "      <td>t</td>\n",
              "      <td>t</td>\n",
              "    </tr>\n",
              "    <tr>\n",
              "      <th>6</th>\n",
              "      <td>35893</td>\n",
              "      <td>152.0</td>\n",
              "      <td>Purpose of CopaTabajaras is to provide a nice,...</td>\n",
              "      <td>2.0</td>\n",
              "      <td>1.0</td>\n",
              "      <td>1.0</td>\n",
              "      <td>Copacabana</td>\n",
              "      <td>3</td>\n",
              "      <td>f</td>\n",
              "      <td>f</td>\n",
              "    </tr>\n",
              "    <tr>\n",
              "      <th>7</th>\n",
              "      <td>46937</td>\n",
              "      <td>133.0</td>\n",
              "      <td>I'm the proud onwner of a beautiful studio in ...</td>\n",
              "      <td>2.0</td>\n",
              "      <td>0.0</td>\n",
              "      <td>1.0</td>\n",
              "      <td>Santa Teresa</td>\n",
              "      <td>3</td>\n",
              "      <td>f</td>\n",
              "      <td>f</td>\n",
              "    </tr>\n",
              "    <tr>\n",
              "      <th>9</th>\n",
              "      <td>48726</td>\n",
              "      <td>118.0</td>\n",
              "      <td>Excelente acomodação perto da praia mais famos...</td>\n",
              "      <td>1.0</td>\n",
              "      <td>1.0</td>\n",
              "      <td>1.0</td>\n",
              "      <td>Copacabana</td>\n",
              "      <td>1</td>\n",
              "      <td>t</td>\n",
              "      <td>t</td>\n",
              "    </tr>\n",
              "    <tr>\n",
              "      <th>10</th>\n",
              "      <td>48901</td>\n",
              "      <td>478.0</td>\n",
              "      <td>Excellent 4 bedroom apartment, located on Copa...</td>\n",
              "      <td>6.0</td>\n",
              "      <td>4.0</td>\n",
              "      <td>4.0</td>\n",
              "      <td>Copacabana</td>\n",
              "      <td>11</td>\n",
              "      <td>f</td>\n",
              "      <td>t</td>\n",
              "    </tr>\n",
              "    <tr>\n",
              "      <th>11</th>\n",
              "      <td>48902</td>\n",
              "      <td>99.0</td>\n",
              "      <td>1 bedroom located on a quiet and safe street w...</td>\n",
              "      <td>0.0</td>\n",
              "      <td>1.0</td>\n",
              "      <td>1.0</td>\n",
              "      <td>NaN</td>\n",
              "      <td>3</td>\n",
              "      <td>f</td>\n",
              "      <td>f</td>\n",
              "    </tr>\n",
              "    <tr>\n",
              "      <th>12</th>\n",
              "      <td>49179</td>\n",
              "      <td>171.0</td>\n",
              "      <td>Apartment in Copacabana with stunning sea view...</td>\n",
              "      <td>2.0</td>\n",
              "      <td>1.0</td>\n",
              "      <td>1.0</td>\n",
              "      <td>Copacabana</td>\n",
              "      <td>3</td>\n",
              "      <td>f</td>\n",
              "      <td>t</td>\n",
              "    </tr>\n",
              "    <tr>\n",
              "      <th>15</th>\n",
              "      <td>51703</td>\n",
              "      <td>144.0</td>\n",
              "      <td>The studio it is complete furnished and equipe...</td>\n",
              "      <td>2.0</td>\n",
              "      <td>0.0</td>\n",
              "      <td>1.0</td>\n",
              "      <td>Copacabana</td>\n",
              "      <td>2</td>\n",
              "      <td>t</td>\n",
              "      <td>t</td>\n",
              "    </tr>\n",
              "    <tr>\n",
              "      <th>16</th>\n",
              "      <td>55002</td>\n",
              "      <td>80.0</td>\n",
              "      <td>The apartment has 90m2, I live there in my roo...</td>\n",
              "      <td>1.0</td>\n",
              "      <td>1.0</td>\n",
              "      <td>2.0</td>\n",
              "      <td>Ipanema</td>\n",
              "      <td>1</td>\n",
              "      <td>f</td>\n",
              "      <td>f</td>\n",
              "    </tr>\n",
              "    <tr>\n",
              "      <th>19</th>\n",
              "      <td>64795</td>\n",
              "      <td>399.0</td>\n",
              "      <td>Amazing apartment finely decorated in the hear...</td>\n",
              "      <td>2.0</td>\n",
              "      <td>2.0</td>\n",
              "      <td>3.0</td>\n",
              "      <td>Ipanema</td>\n",
              "      <td>4</td>\n",
              "      <td>f</td>\n",
              "      <td>f</td>\n",
              "    </tr>\n",
              "    <tr>\n",
              "      <th>21</th>\n",
              "      <td>66574</td>\n",
              "      <td>258.0</td>\n",
              "      <td>The flat is rather spacious (120 square meters...</td>\n",
              "      <td>4.0</td>\n",
              "      <td>3.0</td>\n",
              "      <td>2.0</td>\n",
              "      <td>NaN</td>\n",
              "      <td>4</td>\n",
              "      <td>f</td>\n",
              "      <td>f</td>\n",
              "    </tr>\n",
              "    <tr>\n",
              "      <th>22</th>\n",
              "      <td>66797</td>\n",
              "      <td>152.0</td>\n",
              "      <td>Newly renovated studio apartment. Bright and q...</td>\n",
              "      <td>1.0</td>\n",
              "      <td>0.0</td>\n",
              "      <td>1.0</td>\n",
              "      <td>Copacabana</td>\n",
              "      <td>2</td>\n",
              "      <td>t</td>\n",
              "      <td>t</td>\n",
              "    </tr>\n",
              "    <tr>\n",
              "      <th>23</th>\n",
              "      <td>68422</td>\n",
              "      <td>110.0</td>\n",
              "      <td>I am renting this cozy room in a building on t...</td>\n",
              "      <td>1.0</td>\n",
              "      <td>1.0</td>\n",
              "      <td>1.0</td>\n",
              "      <td>Copacabana</td>\n",
              "      <td>2</td>\n",
              "      <td>f</td>\n",
              "      <td>f</td>\n",
              "    </tr>\n",
              "    <tr>\n",
              "      <th>24</th>\n",
              "      <td>70080</td>\n",
              "      <td>342.0</td>\n",
              "      <td>Apart-hotel Ipanema with garage - best place i...</td>\n",
              "      <td>4.0</td>\n",
              "      <td>1.0</td>\n",
              "      <td>1.0</td>\n",
              "      <td>Ipanema</td>\n",
              "      <td>5</td>\n",
              "      <td>t</td>\n",
              "      <td>t</td>\n",
              "    </tr>\n",
              "    <tr>\n",
              "      <th>25</th>\n",
              "      <td>70526</td>\n",
              "      <td>456.0</td>\n",
              "      <td>This is a confortable and safe family house in...</td>\n",
              "      <td>2.0</td>\n",
              "      <td>1.0</td>\n",
              "      <td>1.0</td>\n",
              "      <td>Leblon</td>\n",
              "      <td>2</td>\n",
              "      <td>f</td>\n",
              "      <td>f</td>\n",
              "    </tr>\n",
              "    <tr>\n",
              "      <th>26</th>\n",
              "      <td>72900</td>\n",
              "      <td>285.0</td>\n",
              "      <td>Cute Studio only a 2-minute walk to Ipanema Be...</td>\n",
              "      <td>1.0</td>\n",
              "      <td>1.0</td>\n",
              "      <td>1.0</td>\n",
              "      <td>Ipanema</td>\n",
              "      <td>2</td>\n",
              "      <td>f</td>\n",
              "      <td>f</td>\n",
              "    </tr>\n",
              "    <tr>\n",
              "      <th>27</th>\n",
              "      <td>72999</td>\n",
              "      <td>201.0</td>\n",
              "      <td>The suite has all the amenities, with Queen Si...</td>\n",
              "      <td>1.0</td>\n",
              "      <td>1.0</td>\n",
              "      <td>1.0</td>\n",
              "      <td>NaN</td>\n",
              "      <td>2</td>\n",
              "      <td>f</td>\n",
              "      <td>f</td>\n",
              "    </tr>\n",
              "    <tr>\n",
              "      <th>28</th>\n",
              "      <td>73581</td>\n",
              "      <td>118.0</td>\n",
              "      <td>Nice and comfortable private studio apartment ...</td>\n",
              "      <td>1.0</td>\n",
              "      <td>1.0</td>\n",
              "      <td>1.0</td>\n",
              "      <td>Copacabana</td>\n",
              "      <td>4</td>\n",
              "      <td>f</td>\n",
              "      <td>f</td>\n",
              "    </tr>\n",
              "    <tr>\n",
              "      <th>29</th>\n",
              "      <td>75148</td>\n",
              "      <td>110.0</td>\n",
              "      <td>This excellent apartment located  the lively a...</td>\n",
              "      <td>1.0</td>\n",
              "      <td>1.0</td>\n",
              "      <td>1.0</td>\n",
              "      <td>Copacabana</td>\n",
              "      <td>4</td>\n",
              "      <td>f</td>\n",
              "      <td>t</td>\n",
              "    </tr>\n",
              "    <tr>\n",
              "      <th>30</th>\n",
              "      <td>75585</td>\n",
              "      <td>277.0</td>\n",
              "      <td>Package deal for New Year and Carnival up to 1...</td>\n",
              "      <td>2.0</td>\n",
              "      <td>2.0</td>\n",
              "      <td>1.0</td>\n",
              "      <td>Copacabana</td>\n",
              "      <td>4</td>\n",
              "      <td>f</td>\n",
              "      <td>t</td>\n",
              "    </tr>\n",
              "    <tr>\n",
              "      <th>31</th>\n",
              "      <td>76245</td>\n",
              "      <td>342.0</td>\n",
              "      <td>In the period of  New Year and Carnival, the m...</td>\n",
              "      <td>8.0</td>\n",
              "      <td>4.0</td>\n",
              "      <td>4.0</td>\n",
              "      <td>Copacabana</td>\n",
              "      <td>12</td>\n",
              "      <td>f</td>\n",
              "      <td>t</td>\n",
              "    </tr>\n",
              "    <tr>\n",
              "      <th>32</th>\n",
              "      <td>76300</td>\n",
              "      <td>171.0</td>\n",
              "      <td>----------------------------------------------...</td>\n",
              "      <td>10.0</td>\n",
              "      <td>7.0</td>\n",
              "      <td>5.0</td>\n",
              "      <td>Santa Teresa</td>\n",
              "      <td>16</td>\n",
              "      <td>t</td>\n",
              "      <td>f</td>\n",
              "    </tr>\n",
              "    <tr>\n",
              "      <th>33</th>\n",
              "      <td>76496</td>\n",
              "      <td>201.0</td>\n",
              "      <td>Hi, my name is Helena and I'd like to comment ...</td>\n",
              "      <td>1.0</td>\n",
              "      <td>1.0</td>\n",
              "      <td>1.5</td>\n",
              "      <td>Copacabana</td>\n",
              "      <td>2</td>\n",
              "      <td>f</td>\n",
              "      <td>f</td>\n",
              "    </tr>\n",
              "    <tr>\n",
              "      <th>34</th>\n",
              "      <td>77318</td>\n",
              "      <td>140.0</td>\n",
              "      <td>The apartment itself is the best place you can...</td>\n",
              "      <td>2.0</td>\n",
              "      <td>1.0</td>\n",
              "      <td>1.0</td>\n",
              "      <td>Gávea</td>\n",
              "      <td>3</td>\n",
              "      <td>f</td>\n",
              "      <td>t</td>\n",
              "    </tr>\n",
              "    <tr>\n",
              "      <th>35</th>\n",
              "      <td>80145</td>\n",
              "      <td>76.0</td>\n",
              "      <td>I am offering you a room with a doubble window...</td>\n",
              "      <td>1.0</td>\n",
              "      <td>1.0</td>\n",
              "      <td>2.0</td>\n",
              "      <td>Santa Teresa</td>\n",
              "      <td>2</td>\n",
              "      <td>f</td>\n",
              "      <td>t</td>\n",
              "    </tr>\n",
              "    <tr>\n",
              "      <th>...</th>\n",
              "      <td>...</td>\n",
              "      <td>...</td>\n",
              "      <td>...</td>\n",
              "      <td>...</td>\n",
              "      <td>...</td>\n",
              "      <td>...</td>\n",
              "      <td>...</td>\n",
              "      <td>...</td>\n",
              "      <td>...</td>\n",
              "      <td>...</td>\n",
              "    </tr>\n",
              "    <tr>\n",
              "      <th>35567</th>\n",
              "      <td>30018355</td>\n",
              "      <td>99.0</td>\n",
              "      <td>NaN</td>\n",
              "      <td>3.0</td>\n",
              "      <td>1.0</td>\n",
              "      <td>1.0</td>\n",
              "      <td>Urca</td>\n",
              "      <td>1</td>\n",
              "      <td>f</td>\n",
              "      <td>t</td>\n",
              "    </tr>\n",
              "    <tr>\n",
              "      <th>35568</th>\n",
              "      <td>30018573</td>\n",
              "      <td>307.0</td>\n",
              "      <td>NaN</td>\n",
              "      <td>2.0</td>\n",
              "      <td>1.0</td>\n",
              "      <td>1.0</td>\n",
              "      <td>Botafogo</td>\n",
              "      <td>5</td>\n",
              "      <td>f</td>\n",
              "      <td>f</td>\n",
              "    </tr>\n",
              "    <tr>\n",
              "      <th>35569</th>\n",
              "      <td>30018959</td>\n",
              "      <td>159.0</td>\n",
              "      <td>O sofá-cama é muito confortável, com colchão d...</td>\n",
              "      <td>1.0</td>\n",
              "      <td>0.0</td>\n",
              "      <td>1.0</td>\n",
              "      <td>Santa Teresa</td>\n",
              "      <td>2</td>\n",
              "      <td>f</td>\n",
              "      <td>t</td>\n",
              "    </tr>\n",
              "    <tr>\n",
              "      <th>35571</th>\n",
              "      <td>30020111</td>\n",
              "      <td>600.0</td>\n",
              "      <td>NaN</td>\n",
              "      <td>6.0</td>\n",
              "      <td>2.0</td>\n",
              "      <td>1.0</td>\n",
              "      <td>NaN</td>\n",
              "      <td>8</td>\n",
              "      <td>f</td>\n",
              "      <td>t</td>\n",
              "    </tr>\n",
              "    <tr>\n",
              "      <th>35572</th>\n",
              "      <td>30020260</td>\n",
              "      <td>91.0</td>\n",
              "      <td>NaN</td>\n",
              "      <td>2.0</td>\n",
              "      <td>1.0</td>\n",
              "      <td>1.0</td>\n",
              "      <td>Barra da Tijuca</td>\n",
              "      <td>2</td>\n",
              "      <td>f</td>\n",
              "      <td>f</td>\n",
              "    </tr>\n",
              "    <tr>\n",
              "      <th>35576</th>\n",
              "      <td>30029572</td>\n",
              "      <td>178.0</td>\n",
              "      <td>NaN</td>\n",
              "      <td>2.0</td>\n",
              "      <td>1.0</td>\n",
              "      <td>1.0</td>\n",
              "      <td>Botafogo</td>\n",
              "      <td>2</td>\n",
              "      <td>f</td>\n",
              "      <td>t</td>\n",
              "    </tr>\n",
              "    <tr>\n",
              "      <th>35577</th>\n",
              "      <td>30032152</td>\n",
              "      <td>418.0</td>\n",
              "      <td>Apartamento tranquilo, silenciado, claro e are...</td>\n",
              "      <td>3.0</td>\n",
              "      <td>2.0</td>\n",
              "      <td>1.5</td>\n",
              "      <td>Leblon</td>\n",
              "      <td>5</td>\n",
              "      <td>t</td>\n",
              "      <td>f</td>\n",
              "    </tr>\n",
              "    <tr>\n",
              "      <th>35578</th>\n",
              "      <td>30032258</td>\n",
              "      <td>152.0</td>\n",
              "      <td>NaN</td>\n",
              "      <td>1.0</td>\n",
              "      <td>0.0</td>\n",
              "      <td>1.0</td>\n",
              "      <td>Barra da Tijuca</td>\n",
              "      <td>1</td>\n",
              "      <td>f</td>\n",
              "      <td>t</td>\n",
              "    </tr>\n",
              "    <tr>\n",
              "      <th>35579</th>\n",
              "      <td>30033135</td>\n",
              "      <td>300.0</td>\n",
              "      <td>NaN</td>\n",
              "      <td>3.0</td>\n",
              "      <td>0.0</td>\n",
              "      <td>1.0</td>\n",
              "      <td>Copacabana</td>\n",
              "      <td>4</td>\n",
              "      <td>f</td>\n",
              "      <td>t</td>\n",
              "    </tr>\n",
              "    <tr>\n",
              "      <th>35580</th>\n",
              "      <td>30034513</td>\n",
              "      <td>205.0</td>\n",
              "      <td>NaN</td>\n",
              "      <td>2.0</td>\n",
              "      <td>1.0</td>\n",
              "      <td>1.0</td>\n",
              "      <td>Lapa</td>\n",
              "      <td>4</td>\n",
              "      <td>f</td>\n",
              "      <td>f</td>\n",
              "    </tr>\n",
              "    <tr>\n",
              "      <th>35582</th>\n",
              "      <td>30035239</td>\n",
              "      <td>311.0</td>\n",
              "      <td>Uma casa histórica com a arquitetura do inicio...</td>\n",
              "      <td>3.0</td>\n",
              "      <td>2.0</td>\n",
              "      <td>1.0</td>\n",
              "      <td>Cosme Velho</td>\n",
              "      <td>4</td>\n",
              "      <td>f</td>\n",
              "      <td>f</td>\n",
              "    </tr>\n",
              "    <tr>\n",
              "      <th>35583</th>\n",
              "      <td>30035291</td>\n",
              "      <td>201.0</td>\n",
              "      <td>A inspiração desse projeto é trazer o mar para...</td>\n",
              "      <td>3.0</td>\n",
              "      <td>0.0</td>\n",
              "      <td>1.0</td>\n",
              "      <td>Copacabana</td>\n",
              "      <td>4</td>\n",
              "      <td>t</td>\n",
              "      <td>t</td>\n",
              "    </tr>\n",
              "    <tr>\n",
              "      <th>35584</th>\n",
              "      <td>30035710</td>\n",
              "      <td>399.0</td>\n",
              "      <td>NaN</td>\n",
              "      <td>2.0</td>\n",
              "      <td>1.0</td>\n",
              "      <td>1.0</td>\n",
              "      <td>Lagoa</td>\n",
              "      <td>2</td>\n",
              "      <td>f</td>\n",
              "      <td>t</td>\n",
              "    </tr>\n",
              "    <tr>\n",
              "      <th>35585</th>\n",
              "      <td>30035826</td>\n",
              "      <td>125.0</td>\n",
              "      <td>O quarto é amplo, bastante aconchegante, com b...</td>\n",
              "      <td>1.0</td>\n",
              "      <td>1.0</td>\n",
              "      <td>1.0</td>\n",
              "      <td>Botafogo</td>\n",
              "      <td>2</td>\n",
              "      <td>f</td>\n",
              "      <td>t</td>\n",
              "    </tr>\n",
              "    <tr>\n",
              "      <th>35586</th>\n",
              "      <td>30036187</td>\n",
              "      <td>220.0</td>\n",
              "      <td>O apartamento está idealmente localizado em um...</td>\n",
              "      <td>3.0</td>\n",
              "      <td>2.0</td>\n",
              "      <td>2.0</td>\n",
              "      <td>Copacabana</td>\n",
              "      <td>4</td>\n",
              "      <td>f</td>\n",
              "      <td>f</td>\n",
              "    </tr>\n",
              "    <tr>\n",
              "      <th>35587</th>\n",
              "      <td>30036276</td>\n",
              "      <td>501.0</td>\n",
              "      <td>NaN</td>\n",
              "      <td>5.0</td>\n",
              "      <td>4.0</td>\n",
              "      <td>2.0</td>\n",
              "      <td>Barra da Tijuca</td>\n",
              "      <td>8</td>\n",
              "      <td>f</td>\n",
              "      <td>t</td>\n",
              "    </tr>\n",
              "    <tr>\n",
              "      <th>35588</th>\n",
              "      <td>30036543</td>\n",
              "      <td>129.0</td>\n",
              "      <td>NaN</td>\n",
              "      <td>1.0</td>\n",
              "      <td>1.0</td>\n",
              "      <td>1.5</td>\n",
              "      <td>Botafogo</td>\n",
              "      <td>2</td>\n",
              "      <td>f</td>\n",
              "      <td>f</td>\n",
              "    </tr>\n",
              "    <tr>\n",
              "      <th>35589</th>\n",
              "      <td>30037231</td>\n",
              "      <td>300.0</td>\n",
              "      <td>NaN</td>\n",
              "      <td>2.0</td>\n",
              "      <td>1.0</td>\n",
              "      <td>1.0</td>\n",
              "      <td>Leblon</td>\n",
              "      <td>3</td>\n",
              "      <td>f</td>\n",
              "      <td>f</td>\n",
              "    </tr>\n",
              "    <tr>\n",
              "      <th>35590</th>\n",
              "      <td>30037696</td>\n",
              "      <td>251.0</td>\n",
              "      <td>NaN</td>\n",
              "      <td>2.0</td>\n",
              "      <td>1.0</td>\n",
              "      <td>1.0</td>\n",
              "      <td>Barra da Tijuca</td>\n",
              "      <td>3</td>\n",
              "      <td>f</td>\n",
              "      <td>f</td>\n",
              "    </tr>\n",
              "    <tr>\n",
              "      <th>35591</th>\n",
              "      <td>30038164</td>\n",
              "      <td>178.0</td>\n",
              "      <td>Muito aconchegante, condomínio fechado onde a ...</td>\n",
              "      <td>1.0</td>\n",
              "      <td>1.0</td>\n",
              "      <td>1.0</td>\n",
              "      <td>Todos os Santos</td>\n",
              "      <td>4</td>\n",
              "      <td>f</td>\n",
              "      <td>t</td>\n",
              "    </tr>\n",
              "    <tr>\n",
              "      <th>35592</th>\n",
              "      <td>30038813</td>\n",
              "      <td>399.0</td>\n",
              "      <td>NaN</td>\n",
              "      <td>2.0</td>\n",
              "      <td>0.0</td>\n",
              "      <td>1.0</td>\n",
              "      <td>Piedade</td>\n",
              "      <td>4</td>\n",
              "      <td>f</td>\n",
              "      <td>t</td>\n",
              "    </tr>\n",
              "    <tr>\n",
              "      <th>35593</th>\n",
              "      <td>30039128</td>\n",
              "      <td>516.0</td>\n",
              "      <td>NaN</td>\n",
              "      <td>2.0</td>\n",
              "      <td>2.0</td>\n",
              "      <td>2.0</td>\n",
              "      <td>Gávea</td>\n",
              "      <td>4</td>\n",
              "      <td>t</td>\n",
              "      <td>f</td>\n",
              "    </tr>\n",
              "    <tr>\n",
              "      <th>35594</th>\n",
              "      <td>30039524</td>\n",
              "      <td>171.0</td>\n",
              "      <td>Aconchegante e espaçoso, tudo reformado</td>\n",
              "      <td>4.0</td>\n",
              "      <td>0.0</td>\n",
              "      <td>1.0</td>\n",
              "      <td>Copacabana</td>\n",
              "      <td>4</td>\n",
              "      <td>t</td>\n",
              "      <td>t</td>\n",
              "    </tr>\n",
              "    <tr>\n",
              "      <th>35595</th>\n",
              "      <td>30039804</td>\n",
              "      <td>501.0</td>\n",
              "      <td>NaN</td>\n",
              "      <td>4.0</td>\n",
              "      <td>2.0</td>\n",
              "      <td>3.0</td>\n",
              "      <td>Copacabana</td>\n",
              "      <td>6</td>\n",
              "      <td>f</td>\n",
              "      <td>t</td>\n",
              "    </tr>\n",
              "    <tr>\n",
              "      <th>35596</th>\n",
              "      <td>30040489</td>\n",
              "      <td>163.0</td>\n",
              "      <td>É um apartamento de fundos com vista para mata...</td>\n",
              "      <td>2.0</td>\n",
              "      <td>1.0</td>\n",
              "      <td>1.0</td>\n",
              "      <td>Laranjeiras</td>\n",
              "      <td>3</td>\n",
              "      <td>f</td>\n",
              "      <td>t</td>\n",
              "    </tr>\n",
              "    <tr>\n",
              "      <th>35597</th>\n",
              "      <td>30040997</td>\n",
              "      <td>159.0</td>\n",
              "      <td>NaN</td>\n",
              "      <td>2.0</td>\n",
              "      <td>1.0</td>\n",
              "      <td>1.0</td>\n",
              "      <td>Jardim Botânico</td>\n",
              "      <td>2</td>\n",
              "      <td>f</td>\n",
              "      <td>f</td>\n",
              "    </tr>\n",
              "    <tr>\n",
              "      <th>35598</th>\n",
              "      <td>30041929</td>\n",
              "      <td>501.0</td>\n",
              "      <td>NaN</td>\n",
              "      <td>7.0</td>\n",
              "      <td>4.0</td>\n",
              "      <td>4.0</td>\n",
              "      <td>Barra da Tijuca</td>\n",
              "      <td>11</td>\n",
              "      <td>f</td>\n",
              "      <td>f</td>\n",
              "    </tr>\n",
              "    <tr>\n",
              "      <th>35599</th>\n",
              "      <td>30042037</td>\n",
              "      <td>80.0</td>\n",
              "      <td>Apartment located on the third floor, with: El...</td>\n",
              "      <td>2.0</td>\n",
              "      <td>1.0</td>\n",
              "      <td>1.0</td>\n",
              "      <td>Tijuca</td>\n",
              "      <td>2</td>\n",
              "      <td>f</td>\n",
              "      <td>f</td>\n",
              "    </tr>\n",
              "    <tr>\n",
              "      <th>35600</th>\n",
              "      <td>30042464</td>\n",
              "      <td>334.0</td>\n",
              "      <td>First room: has all you need. Second room: is ...</td>\n",
              "      <td>5.0</td>\n",
              "      <td>2.0</td>\n",
              "      <td>1.0</td>\n",
              "      <td>Copacabana</td>\n",
              "      <td>5</td>\n",
              "      <td>f</td>\n",
              "      <td>t</td>\n",
              "    </tr>\n",
              "    <tr>\n",
              "      <th>35601</th>\n",
              "      <td>30042682</td>\n",
              "      <td>178.0</td>\n",
              "      <td>NaN</td>\n",
              "      <td>1.0</td>\n",
              "      <td>1.0</td>\n",
              "      <td>1.0</td>\n",
              "      <td>Higienópolis</td>\n",
              "      <td>4</td>\n",
              "      <td>f</td>\n",
              "      <td>t</td>\n",
              "    </tr>\n",
              "  </tbody>\n",
              "</table>\n",
              "<p>26886 rows × 10 columns</p>\n",
              "</div>"
            ],
            "text/plain": [
              "             id  price                                              space  \\\n",
              "0         17878  300.0  - large balcony which looks out on pedestrian ...   \n",
              "1         24480  228.0  The studio is located at Vinicius de Moraes St...   \n",
              "2         25026  159.0  This newly renovated studio (last renovations ...   \n",
              "3         31560  247.0  This nice and clean 1 bedroom apartment is loc...   \n",
              "4         35636  342.0  The location is extremely convenient, safe and...   \n",
              "5         35764  220.0  FEEL LIKE YOUR HOME LIVING AS \"CARIOCA\" LOCAL ...   \n",
              "6         35893  152.0  Purpose of CopaTabajaras is to provide a nice,...   \n",
              "7         46937  133.0  I'm the proud onwner of a beautiful studio in ...   \n",
              "9         48726  118.0  Excelente acomodação perto da praia mais famos...   \n",
              "10        48901  478.0  Excellent 4 bedroom apartment, located on Copa...   \n",
              "11        48902   99.0  1 bedroom located on a quiet and safe street w...   \n",
              "12        49179  171.0  Apartment in Copacabana with stunning sea view...   \n",
              "15        51703  144.0  The studio it is complete furnished and equipe...   \n",
              "16        55002   80.0  The apartment has 90m2, I live there in my roo...   \n",
              "19        64795  399.0  Amazing apartment finely decorated in the hear...   \n",
              "21        66574  258.0  The flat is rather spacious (120 square meters...   \n",
              "22        66797  152.0  Newly renovated studio apartment. Bright and q...   \n",
              "23        68422  110.0  I am renting this cozy room in a building on t...   \n",
              "24        70080  342.0  Apart-hotel Ipanema with garage - best place i...   \n",
              "25        70526  456.0  This is a confortable and safe family house in...   \n",
              "26        72900  285.0  Cute Studio only a 2-minute walk to Ipanema Be...   \n",
              "27        72999  201.0  The suite has all the amenities, with Queen Si...   \n",
              "28        73581  118.0  Nice and comfortable private studio apartment ...   \n",
              "29        75148  110.0  This excellent apartment located  the lively a...   \n",
              "30        75585  277.0  Package deal for New Year and Carnival up to 1...   \n",
              "31        76245  342.0  In the period of  New Year and Carnival, the m...   \n",
              "32        76300  171.0  ----------------------------------------------...   \n",
              "33        76496  201.0  Hi, my name is Helena and I'd like to comment ...   \n",
              "34        77318  140.0  The apartment itself is the best place you can...   \n",
              "35        80145   76.0  I am offering you a room with a doubble window...   \n",
              "...         ...    ...                                                ...   \n",
              "35567  30018355   99.0                                                NaN   \n",
              "35568  30018573  307.0                                                NaN   \n",
              "35569  30018959  159.0  O sofá-cama é muito confortável, com colchão d...   \n",
              "35571  30020111  600.0                                                NaN   \n",
              "35572  30020260   91.0                                                NaN   \n",
              "35576  30029572  178.0                                                NaN   \n",
              "35577  30032152  418.0  Apartamento tranquilo, silenciado, claro e are...   \n",
              "35578  30032258  152.0                                                NaN   \n",
              "35579  30033135  300.0                                                NaN   \n",
              "35580  30034513  205.0                                                NaN   \n",
              "35582  30035239  311.0  Uma casa histórica com a arquitetura do inicio...   \n",
              "35583  30035291  201.0  A inspiração desse projeto é trazer o mar para...   \n",
              "35584  30035710  399.0                                                NaN   \n",
              "35585  30035826  125.0  O quarto é amplo, bastante aconchegante, com b...   \n",
              "35586  30036187  220.0  O apartamento está idealmente localizado em um...   \n",
              "35587  30036276  501.0                                                NaN   \n",
              "35588  30036543  129.0                                                NaN   \n",
              "35589  30037231  300.0                                                NaN   \n",
              "35590  30037696  251.0                                                NaN   \n",
              "35591  30038164  178.0  Muito aconchegante, condomínio fechado onde a ...   \n",
              "35592  30038813  399.0                                                NaN   \n",
              "35593  30039128  516.0                                                NaN   \n",
              "35594  30039524  171.0            Aconchegante e espaçoso, tudo reformado   \n",
              "35595  30039804  501.0                                                NaN   \n",
              "35596  30040489  163.0  É um apartamento de fundos com vista para mata...   \n",
              "35597  30040997  159.0                                                NaN   \n",
              "35598  30041929  501.0                                                NaN   \n",
              "35599  30042037   80.0  Apartment located on the third floor, with: El...   \n",
              "35600  30042464  334.0  First room: has all you need. Second room: is ...   \n",
              "35601  30042682  178.0                                                NaN   \n",
              "\n",
              "       beds  bedrooms  bathrooms    neighbourhood  accommodates  \\\n",
              "0       2.0       2.0        1.0       Copacabana             5   \n",
              "1       1.0       1.0        1.0          Ipanema             2   \n",
              "2       2.0       1.0        1.0       Copacabana             3   \n",
              "3       2.0       1.0        1.0          Ipanema             3   \n",
              "4       2.0       1.0        1.5          Ipanema             3   \n",
              "5       2.0       1.0        1.0       Copacabana             2   \n",
              "6       2.0       1.0        1.0       Copacabana             3   \n",
              "7       2.0       0.0        1.0     Santa Teresa             3   \n",
              "9       1.0       1.0        1.0       Copacabana             1   \n",
              "10      6.0       4.0        4.0       Copacabana            11   \n",
              "11      0.0       1.0        1.0              NaN             3   \n",
              "12      2.0       1.0        1.0       Copacabana             3   \n",
              "15      2.0       0.0        1.0       Copacabana             2   \n",
              "16      1.0       1.0        2.0          Ipanema             1   \n",
              "19      2.0       2.0        3.0          Ipanema             4   \n",
              "21      4.0       3.0        2.0              NaN             4   \n",
              "22      1.0       0.0        1.0       Copacabana             2   \n",
              "23      1.0       1.0        1.0       Copacabana             2   \n",
              "24      4.0       1.0        1.0          Ipanema             5   \n",
              "25      2.0       1.0        1.0           Leblon             2   \n",
              "26      1.0       1.0        1.0          Ipanema             2   \n",
              "27      1.0       1.0        1.0              NaN             2   \n",
              "28      1.0       1.0        1.0       Copacabana             4   \n",
              "29      1.0       1.0        1.0       Copacabana             4   \n",
              "30      2.0       2.0        1.0       Copacabana             4   \n",
              "31      8.0       4.0        4.0       Copacabana            12   \n",
              "32     10.0       7.0        5.0     Santa Teresa            16   \n",
              "33      1.0       1.0        1.5       Copacabana             2   \n",
              "34      2.0       1.0        1.0            Gávea             3   \n",
              "35      1.0       1.0        2.0     Santa Teresa             2   \n",
              "...     ...       ...        ...              ...           ...   \n",
              "35567   3.0       1.0        1.0             Urca             1   \n",
              "35568   2.0       1.0        1.0         Botafogo             5   \n",
              "35569   1.0       0.0        1.0     Santa Teresa             2   \n",
              "35571   6.0       2.0        1.0              NaN             8   \n",
              "35572   2.0       1.0        1.0  Barra da Tijuca             2   \n",
              "35576   2.0       1.0        1.0         Botafogo             2   \n",
              "35577   3.0       2.0        1.5           Leblon             5   \n",
              "35578   1.0       0.0        1.0  Barra da Tijuca             1   \n",
              "35579   3.0       0.0        1.0       Copacabana             4   \n",
              "35580   2.0       1.0        1.0             Lapa             4   \n",
              "35582   3.0       2.0        1.0      Cosme Velho             4   \n",
              "35583   3.0       0.0        1.0       Copacabana             4   \n",
              "35584   2.0       1.0        1.0            Lagoa             2   \n",
              "35585   1.0       1.0        1.0         Botafogo             2   \n",
              "35586   3.0       2.0        2.0       Copacabana             4   \n",
              "35587   5.0       4.0        2.0  Barra da Tijuca             8   \n",
              "35588   1.0       1.0        1.5         Botafogo             2   \n",
              "35589   2.0       1.0        1.0           Leblon             3   \n",
              "35590   2.0       1.0        1.0  Barra da Tijuca             3   \n",
              "35591   1.0       1.0        1.0  Todos os Santos             4   \n",
              "35592   2.0       0.0        1.0          Piedade             4   \n",
              "35593   2.0       2.0        2.0            Gávea             4   \n",
              "35594   4.0       0.0        1.0       Copacabana             4   \n",
              "35595   4.0       2.0        3.0       Copacabana             6   \n",
              "35596   2.0       1.0        1.0      Laranjeiras             3   \n",
              "35597   2.0       1.0        1.0  Jardim Botânico             2   \n",
              "35598   7.0       4.0        4.0  Barra da Tijuca            11   \n",
              "35599   2.0       1.0        1.0           Tijuca             2   \n",
              "35600   5.0       2.0        1.0       Copacabana             5   \n",
              "35601   1.0       1.0        1.0     Higienópolis             4   \n",
              "\n",
              "      host_is_superhost instant_bookable  \n",
              "0                     f                t  \n",
              "1                     f                f  \n",
              "2                     f                f  \n",
              "3                     t                t  \n",
              "4                     t                f  \n",
              "5                     t                t  \n",
              "6                     f                f  \n",
              "7                     f                f  \n",
              "9                     t                t  \n",
              "10                    f                t  \n",
              "11                    f                f  \n",
              "12                    f                t  \n",
              "15                    t                t  \n",
              "16                    f                f  \n",
              "19                    f                f  \n",
              "21                    f                f  \n",
              "22                    t                t  \n",
              "23                    f                f  \n",
              "24                    t                t  \n",
              "25                    f                f  \n",
              "26                    f                f  \n",
              "27                    f                f  \n",
              "28                    f                f  \n",
              "29                    f                t  \n",
              "30                    f                t  \n",
              "31                    f                t  \n",
              "32                    t                f  \n",
              "33                    f                f  \n",
              "34                    f                t  \n",
              "35                    f                t  \n",
              "...                 ...              ...  \n",
              "35567                 f                t  \n",
              "35568                 f                f  \n",
              "35569                 f                t  \n",
              "35571                 f                t  \n",
              "35572                 f                f  \n",
              "35576                 f                t  \n",
              "35577                 t                f  \n",
              "35578                 f                t  \n",
              "35579                 f                t  \n",
              "35580                 f                f  \n",
              "35582                 f                f  \n",
              "35583                 t                t  \n",
              "35584                 f                t  \n",
              "35585                 f                t  \n",
              "35586                 f                f  \n",
              "35587                 f                t  \n",
              "35588                 f                f  \n",
              "35589                 f                f  \n",
              "35590                 f                f  \n",
              "35591                 f                t  \n",
              "35592                 f                t  \n",
              "35593                 t                f  \n",
              "35594                 t                t  \n",
              "35595                 f                t  \n",
              "35596                 f                t  \n",
              "35597                 f                f  \n",
              "35598                 f                f  \n",
              "35599                 f                f  \n",
              "35600                 f                t  \n",
              "35601                 f                t  \n",
              "\n",
              "[26886 rows x 10 columns]"
            ]
          },
          "metadata": {
            "tags": []
          },
          "execution_count": 234
        }
      ]
    },
    {
      "cell_type": "code",
      "metadata": {
        "id": "2hpKNoMhI1ez",
        "colab_type": "code",
        "outputId": "537eb90d-cf39-40f2-d5ac-9bd9540f327e",
        "colab": {}
      },
      "source": [
        "apartamentos[apartamentos['price']<=apartamentos['price'].mean()].bedrooms"
      ],
      "execution_count": 0,
      "outputs": [
        {
          "output_type": "execute_result",
          "data": {
            "text/plain": [
              "0        2.0\n",
              "1        1.0\n",
              "2        1.0\n",
              "3        1.0\n",
              "4        1.0\n",
              "5        1.0\n",
              "6        1.0\n",
              "7        0.0\n",
              "9        1.0\n",
              "10       4.0\n",
              "11       1.0\n",
              "12       1.0\n",
              "15       0.0\n",
              "16       1.0\n",
              "19       2.0\n",
              "21       3.0\n",
              "22       0.0\n",
              "23       1.0\n",
              "24       1.0\n",
              "25       1.0\n",
              "26       1.0\n",
              "27       1.0\n",
              "28       1.0\n",
              "29       1.0\n",
              "30       2.0\n",
              "31       4.0\n",
              "32       7.0\n",
              "33       1.0\n",
              "34       1.0\n",
              "35       1.0\n",
              "        ... \n",
              "35567    1.0\n",
              "35568    1.0\n",
              "35569    0.0\n",
              "35571    2.0\n",
              "35572    1.0\n",
              "35576    1.0\n",
              "35577    2.0\n",
              "35578    0.0\n",
              "35579    0.0\n",
              "35580    1.0\n",
              "35582    2.0\n",
              "35583    0.0\n",
              "35584    1.0\n",
              "35585    1.0\n",
              "35586    2.0\n",
              "35587    4.0\n",
              "35588    1.0\n",
              "35589    1.0\n",
              "35590    1.0\n",
              "35591    1.0\n",
              "35592    0.0\n",
              "35593    2.0\n",
              "35594    0.0\n",
              "35595    2.0\n",
              "35596    1.0\n",
              "35597    1.0\n",
              "35598    4.0\n",
              "35599    1.0\n",
              "35600    2.0\n",
              "35601    1.0\n",
              "Name: bedrooms, Length: 26886, dtype: float64"
            ]
          },
          "metadata": {
            "tags": []
          },
          "execution_count": 235
        }
      ]
    },
    {
      "cell_type": "code",
      "metadata": {
        "id": "B0LTkfjCI1e1",
        "colab_type": "code",
        "outputId": "981a5aab-eba6-4a3a-c55c-e15479b97b2b",
        "colab": {}
      },
      "source": [
        "apartamentos[apartamentos['price']<=apartamentos['price'].mean()].bedrooms.sum()"
      ],
      "execution_count": 0,
      "outputs": [
        {
          "output_type": "execute_result",
          "data": {
            "text/plain": [
              "37072.0"
            ]
          },
          "metadata": {
            "tags": []
          },
          "execution_count": 236
        }
      ]
    },
    {
      "cell_type": "markdown",
      "metadata": {
        "id": "DZK3OqquI1e2",
        "colab_type": "text"
      },
      "source": [
        "Quantos apartamentos com mais de 3 quartos?"
      ]
    },
    {
      "cell_type": "code",
      "metadata": {
        "id": "Q4dBwFFjI1e2",
        "colab_type": "code",
        "colab": {}
      },
      "source": [
        ""
      ],
      "execution_count": 0,
      "outputs": []
    },
    {
      "cell_type": "markdown",
      "metadata": {
        "id": "sDOPvOCxI1e4",
        "colab_type": "text"
      },
      "source": [
        "Preço médio do apartamento em Ipanema?"
      ]
    },
    {
      "cell_type": "code",
      "metadata": {
        "id": "xMTaJPZuI1e5",
        "colab_type": "code",
        "colab": {}
      },
      "source": [
        ""
      ],
      "execution_count": 0,
      "outputs": []
    },
    {
      "cell_type": "markdown",
      "metadata": {
        "id": "2CQHiNoqI1e7",
        "colab_type": "text"
      },
      "source": [
        "Preço médio dos apartamentos com 2 quartos em Ipanema?"
      ]
    },
    {
      "cell_type": "code",
      "metadata": {
        "id": "u9xZDX7nI1e8",
        "colab_type": "code",
        "colab": {}
      },
      "source": [
        ""
      ],
      "execution_count": 0,
      "outputs": []
    },
    {
      "cell_type": "markdown",
      "metadata": {
        "id": "aYarj3FwI1e9",
        "colab_type": "text"
      },
      "source": [
        "O Airbnb tem capacidade de acomodar quantas pessoas no Rio de Janeiro?"
      ]
    },
    {
      "cell_type": "code",
      "metadata": {
        "id": "s0KNumSOI1e9",
        "colab_type": "code",
        "colab": {}
      },
      "source": [
        ""
      ],
      "execution_count": 0,
      "outputs": []
    },
    {
      "cell_type": "markdown",
      "metadata": {
        "id": "lH2C4yp6I1e-",
        "colab_type": "text"
      },
      "source": [
        "Na média, quantas pessoas se acomoda por cama nos apartamentos ofertados?"
      ]
    },
    {
      "cell_type": "code",
      "metadata": {
        "id": "YmEuRGGMI1e_",
        "colab_type": "code",
        "colab": {}
      },
      "source": [
        ""
      ],
      "execution_count": 0,
      "outputs": []
    },
    {
      "cell_type": "markdown",
      "metadata": {
        "id": "3-47wKEKI1fA",
        "colab_type": "text"
      },
      "source": [
        "Você vai alugar com o seu chefe, mas por questão de privacidade, precisa de um quarto e um banheiro para cada. Quais são as opções?"
      ]
    },
    {
      "cell_type": "code",
      "metadata": {
        "id": "HfZ0cjWUI1fA",
        "colab_type": "code",
        "colab": {}
      },
      "source": [
        ""
      ],
      "execution_count": 0,
      "outputs": []
    },
    {
      "cell_type": "markdown",
      "metadata": {
        "id": "tIBRuj8_I1fD",
        "colab_type": "text"
      },
      "source": [
        "Você disse que tinha feito a reserva mês passado, a viagem é hoje, e agora precisa alugar o mais rápido possível. Quantos sobram?"
      ]
    },
    {
      "cell_type": "code",
      "metadata": {
        "id": "vAjVbuu4I1fE",
        "colab_type": "code",
        "colab": {}
      },
      "source": [
        ""
      ],
      "execution_count": 0,
      "outputs": []
    },
    {
      "cell_type": "markdown",
      "metadata": {
        "id": "Xc7Ia8DBI1fF",
        "colab_type": "text"
      },
      "source": [
        "O preço máximo que tão podendo pagar é R$ 100,00, e vocês precisam ficar na Lapa..."
      ]
    },
    {
      "cell_type": "code",
      "metadata": {
        "id": "K_4N7sqII1fF",
        "colab_type": "code",
        "colab": {}
      },
      "source": [
        ""
      ],
      "execution_count": 0,
      "outputs": []
    }
  ]
}