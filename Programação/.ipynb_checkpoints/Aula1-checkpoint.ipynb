{
 "cells": [
  {
   "cell_type": "markdown",
   "metadata": {},
   "source": [
    "#### Instalando o Python/Anaconda\n",
    "\n",
    "- Windows: https://repo.anaconda.com/archive/Anaconda3-2018.12-Windows-x86_64.exe;\n",
    "- MacOS: https://repo.anaconda.com/archive/Anaconda3-2018.12-MacOSX-x86_64.pkg;\n",
    "- Para 32-Bit, substituir o 'x86_64' final por 'x86';\n",
    "- Entre no link https://docs.anaconda.com/anaconda/install/ e selecione o sistema operacional;\n",
    "- Siga as orientações.\n",
    "\n",
    "\n"
   ]
  },
  {
   "cell_type": "markdown",
   "metadata": {},
   "source": [
    "# Introdução à programação\n",
    "\n",
    "O que é programação https://www.youtube.com/watch?v=PmefpISZ7Ew 1:50 a 2:50\n",
    "\n",
    "O que é uma linguagem de programação: uma forma de um humano conseguir dar comandos que o computador consiga executar. Ex:\n",
    "imprimir 1+1\n",
    "\n",
    "O que é uma linguagem orientada a objetos (classes, funções e atributos ou métodoslaskmdas)\n",
    "\n",
    "O que é uma biblioteca\n"
   ]
  },
  {
   "cell_type": "markdown",
   "metadata": {},
   "source": [
    "# Noções básicas de Python"
   ]
  },
  {
   "cell_type": "markdown",
   "metadata": {},
   "source": [
    "## Importar bibliotecas\n",
    "\n",
    "É feito usando o comando **import** (a biblioteca deve estar instalada na máquina)"
   ]
  },
  {
   "cell_type": "code",
   "execution_count": 2,
   "metadata": {
    "collapsed": true
   },
   "outputs": [],
   "source": [
    "import pandas\n",
    "import numpy\n",
    "import matplotlib.pyplot\n",
    "import seaborn"
   ]
  },
  {
   "cell_type": "markdown",
   "metadata": {},
   "source": [
    "Para facilitar, pode-se substituir o nome da biblioteca por um *alias"
   ]
  },
  {
   "cell_type": "code",
   "execution_count": 3,
   "metadata": {
    "collapsed": true
   },
   "outputs": [],
   "source": [
    "import pandas as pd\n",
    "import numpy as np\n",
    "import matplotlib.pyplot as plt\n",
    "import seaborn as sns"
   ]
  },
  {
   "cell_type": "markdown",
   "metadata": {},
   "source": [
    "Ao se importar bibliotecas com muitas funções, convém também selecionar especificamente o que vai ser usado"
   ]
  },
  {
   "cell_type": "code",
   "execution_count": 4,
   "metadata": {
    "collapsed": true
   },
   "outputs": [],
   "source": [
    "from sklearn.linear_model import LinearRegression"
   ]
  },
  {
   "cell_type": "markdown",
   "metadata": {},
   "source": [
    "## É bom saber... mas o Google pode te ajudar..."
   ]
  },
  {
   "cell_type": "markdown",
   "metadata": {
    "collapsed": true
   },
   "source": [
    "## Sintaxe\n",
    "\n",
    "### Variáveis\n",
    "\n",
    "**O QUE É UMA VARIÁVEL?** \n",
    "\n",
    "Não é preciso declarar o tipo de variável: numérico, caracter, etc. Ele já será assumido\n",
    "\n",
    "**Obs**: você não precisa decorar todas as sintaxes, o google vai te ajudar a lembrar depois"
   ]
  },
  {
   "cell_type": "code",
   "execution_count": 5,
   "metadata": {
    "collapsed": true
   },
   "outputs": [],
   "source": [
    "nguest = 3\n",
    "description = '2 bedrooms in Gávea super cozy' # ou \"2 bedrooms in Gávea super cozy\""
   ]
  },
  {
   "cell_type": "code",
   "execution_count": 6,
   "metadata": {},
   "outputs": [
    {
     "data": {
      "text/plain": [
       "3"
      ]
     },
     "execution_count": 6,
     "metadata": {},
     "output_type": "execute_result"
    }
   ],
   "source": [
    "nguest"
   ]
  },
  {
   "cell_type": "code",
   "execution_count": 7,
   "metadata": {},
   "outputs": [
    {
     "data": {
      "text/plain": [
       "'2 bedrooms in Gávea super cozy'"
      ]
     },
     "execution_count": 7,
     "metadata": {},
     "output_type": "execute_result"
    }
   ],
   "source": [
    "description"
   ]
  },
  {
   "cell_type": "markdown",
   "metadata": {},
   "source": [
    "### String (caracter)\n",
    "\n",
    "Strings são definidas com áspas - simples ou duplas -, e podem ser concatenadar com o operador  '+'"
   ]
  },
  {
   "cell_type": "code",
   "execution_count": 8,
   "metadata": {},
   "outputs": [
    {
     "name": "stdout",
     "output_type": "stream",
     "text": [
      "Olá, Roberto, você reservou um quarto para 2 pessoas durante 4 dias \n",
      "\n",
      "Boa estadia!\n"
     ]
    }
   ],
   "source": [
    "nome='Roberto'\n",
    "num_pes='2'\n",
    "num_dias='4'\n",
    "\n",
    "confirma=\"Olá, \"+nome+\", você reservou um quarto para \"+num_pes+\" pessoas durante \"+num_dias+\" dias \\n\\nBoa estadia!\"\n",
    "\n",
    "print(confirma)"
   ]
  },
  {
   "cell_type": "markdown",
   "metadata": {},
   "source": [
    "Nota: o caracter \"\\\" é usado para diferenciar caracteres especiais, por ex:\n",
    "    - \\n: nova linha\n",
    "    - \\\": áspas\n",
    "    - \\t: tab\n",
    "\n",
    "Para a barra invertida, usa-se a sequência **\"\\\\\\\\\"**, ou, para ignorar \"\\\" como caracter especial, **r\"\"**"
   ]
  },
  {
   "cell_type": "code",
   "execution_count": 9,
   "metadata": {},
   "outputs": [
    {
     "name": "stdout",
     "output_type": "stream",
     "text": [
      "\\ofertas\\carnaval\n",
      "\\agendamentos\\pendentes\n"
     ]
    }
   ],
   "source": [
    "caminho1=\"\\\\ofertas\\\\carnaval\"\n",
    "caminho2=r\"\\agendamentos\\pendentes\"\n",
    "\n",
    "print(caminho1)\n",
    "print(caminho2)"
   ]
  },
  {
   "cell_type": "markdown",
   "metadata": {},
   "source": [
    "Use a função **print** para imprimir o seguinte texto:\n",
    "\n",
    "    Num famoso depoimento, Ayrton Senna diz:\n",
    "\n",
    "         \"Seja quem você for, seja qualquer posição que você tenha na vida, do nível altíssimo ou mais baixo, tenha sempre como meta muita força, muita determinação e, sempre, faça tudo com muito amor e com muita fé em Deus que um dia você chega lá. De alguma maneira você chega lá\"."
   ]
  },
  {
   "cell_type": "code",
   "execution_count": null,
   "metadata": {
    "collapsed": true
   },
   "outputs": [],
   "source": []
  },
  {
   "cell_type": "markdown",
   "metadata": {},
   "source": [
    "### Númericos\n",
    "\n",
    "Há dois tipos de variáveis númericas, os inteiros e os *float*, ou representação decimal. Caso um número seja inteiro mas queiramos declará-lo como *float*, basta adicionar um ponto no final."
   ]
  },
  {
   "cell_type": "code",
   "execution_count": 10,
   "metadata": {},
   "outputs": [
    {
     "name": "stdout",
     "output_type": "stream",
     "text": [
      "a_int:  <class 'int'>\n",
      "a_flt:  <class 'float'>\n"
     ]
    }
   ],
   "source": [
    "a_int = 2\n",
    "a_flt = 2.\n",
    "\n",
    "print(\"a_int: \", type(a_int))\n",
    "print(\"a_flt: \", type(a_flt))"
   ]
  },
  {
   "cell_type": "markdown",
   "metadata": {},
   "source": [
    "Temos todas as operações básicas:"
   ]
  },
  {
   "cell_type": "code",
   "execution_count": 11,
   "metadata": {},
   "outputs": [
    {
     "name": "stdout",
     "output_type": "stream",
     "text": [
      "a+b= 16\n",
      "a-b= -10\n",
      "a.b= 39\n",
      "b/a= 4.33 \n",
      "resto da divisão de b por a= 1\n",
      "parte inteira da divisão de b por a= 4\n",
      "a elevado a b= 1594323\n"
     ]
    }
   ],
   "source": [
    "a=3\n",
    "b=13\n",
    "\n",
    "print('a+b=', a+b)\n",
    "print('a-b=', a-b)\n",
    "print('a.b=', a*b)\n",
    "print('b/a= %.2f ' % (b/a)) # %.nf imprime o float com n casas decimais\n",
    "print('resto da divisão de b por a=', b%a) \n",
    "print('parte inteira da divisão de b por a=', b//a)\n",
    "print('a elevado a b=', a**b)"
   ]
  },
  {
   "cell_type": "markdown",
   "metadata": {},
   "source": [
    "Além disso, também utilizamos a biblioteca **numpy** para algumas operações."
   ]
  },
  {
   "cell_type": "code",
   "execution_count": 12,
   "metadata": {},
   "outputs": [
    {
     "name": "stdout",
     "output_type": "stream",
     "text": [
      "raiz quadrada de b= 3.61\n",
      "log natural a= 1.10\n",
      "área de um círculo de raio b= 530.93\n"
     ]
    }
   ],
   "source": [
    "print('raiz quadrada de b= %.2f' % np.sqrt(b))\n",
    "print('log natural a= %.2f' % np.log(a))\n",
    "print('área de um círculo de raio b= %.2f' % (np.pi*b**2))"
   ]
  },
  {
   "cell_type": "markdown",
   "metadata": {},
   "source": [
    "**Curiosiade**: como calculamos $\\sqrt[a]{b}$ ou $\\log_a b\\hspace{1mm}$?"
   ]
  },
  {
   "cell_type": "code",
   "execution_count": null,
   "metadata": {
    "collapsed": true
   },
   "outputs": [],
   "source": []
  },
  {
   "attachments": {
    "warren_buffet.jpg": {
     "image/jpeg": "[encoded data removed]"
    }
   },
   "cell_type": "markdown",
   "metadata": {},
   "source": [
    "### Booleanas\n",
    "\n",
    "Variáveis \"booleanas\" podem receber apenas dois valores: verdadeiro ou falso (**True** ou **False**), e podem ser utilizadas em comparações. E pra que servem?\n",
    "\n",
    "Vamos supor que queremos programar um robô para, baseado em um algumas condições, decidir se devemos ou não comprar ações de uma determinada empresa na Bolsa de Valores. Como a ideia é ganhar dinheiro e não perder, vamos ver que condições Warren Buffet costuma olhar quando analisa uma empresa. \n",
    "\n",
    "![warren_buffet.jpg](attachment:warren_buffet.jpg)"
   ]
  },
  {
   "cell_type": "code",
   "execution_count": 21,
   "metadata": {},
   "outputs": [
    {
     "name": "stdout",
     "output_type": "stream",
     "text": [
      "Vantagem competitiva:  True\n",
      "Comprar:  False\n"
     ]
    }
   ],
   "source": [
    "condicao_1 = True #Despesas de vendas, gerais e administrativas (VGA)/ Lucro bruto < 30% (indica algum tipo de vantagem competitiva)\n",
    "condicao_2 = False # Lucro líquido/ receita total > 20% (indica algum tipo de vantagem competitiva)\n",
    "\n",
    "vantagemCompetitiva = condicao_1 | condicao_2\n",
    "comprar = condicao_1 & condicao_2\n",
    "\n",
    "print('Vantagem competitiva: ', vantagemCompetitiva)\n",
    "print('Comprar: ', comprar)"
   ]
  },
  {
   "cell_type": "code",
   "execution_count": 22,
   "metadata": {
    "scrolled": true
   },
   "outputs": [
    {
     "name": "stdout",
     "output_type": "stream",
     "text": [
      "Vantagem competitiva durável:  True\n"
     ]
    }
   ],
   "source": [
    "condicao_3 = False #Empresas que precisam investir muito em P&D, mesmo que tenham uma vantagem competitiva hoje, dificilmente têm uma vantagem competitiva durável\n",
    "\n",
    "vantagemCompetitivaDuravel = vantagemCompetitiva & (not condicao_3)\n",
    "\n",
    "print('Vantagem competitiva durável: ', vantagemCompetitivaDuravel)"
   ]
  },
  {
   "cell_type": "markdown",
   "metadata": {},
   "source": [
    "### Lists (listas/array)\n",
    "\n",
    "Vamos supor que queremos que nosso robô analise todas as empresas listadas na Bolsa e monte uma lista de sugestões de compra. Será que existe uma forma de listar um conjunto de variáveis?\n",
    "\n",
    "Listas são definidas com colchetes [ ], e são exatamente isso, listas de variáveis"
   ]
  },
  {
   "cell_type": "code",
   "execution_count": 43,
   "metadata": {
    "collapsed": true
   },
   "outputs": [],
   "source": [
    "sugestoesDeCompra = ['Itaú Unibanco','Lojas Renner','Grendene']"
   ]
  },
  {
   "cell_type": "markdown",
   "metadata": {},
   "source": [
    "Inclusive, as variáveis não precisam ser necessariamente do mesmo tipo. Vamos supor que para cada ação analisada, queremos criar uma nova lista que guarde todas as informações necessárias para caso queiramos executar uma ordem de compra, por exemplo:\n",
    "- Empresa,\n",
    "- Ticker, \n",
    "- Se devemos ou não lançar a ordem de compra (se a empresa está entre as empresas sugeridas pelo nosso robô),\n",
    "- Quantidade de ações que queremos comprar e \n",
    "- Preço de compra"
   ]
  },
  {
   "cell_type": "code",
   "execution_count": 47,
   "metadata": {
    "collapsed": true
   },
   "outputs": [],
   "source": [
    "ordemDeCompra=['Itaú Unibanco','ITUB3', True, 100, 32.33]"
   ]
  },
  {
   "cell_type": "markdown",
   "metadata": {},
   "source": [
    "Para acessar um elemento, utiliza-se um índice, que em Python começa do 0, como na maioria das linguagens."
   ]
  },
  {
   "cell_type": "markdown",
   "metadata": {},
   "source": [
    "Comandos úteis são:\n",
    "    - sum(): soma\n",
    "    - len(): comprimento da lista - número de elementos\n",
    "    - in: checar pertencimento\n",
    "    - .extend: adiciona uma lista à outra\n",
    "    - +: concatena listas\n",
    "    - .append: adiciona elemento a uma lista\n",
    "    - sorted(): ordena os elementos de acordo com seu módulo"
   ]
  },
  {
   "cell_type": "code",
   "execution_count": 51,
   "metadata": {},
   "outputs": [
    {
     "name": "stdout",
     "output_type": "stream",
     "text": [
      "\n",
      "Preço médio:  35.18\n"
     ]
    }
   ],
   "source": [
    "precosHistoricos = [35.4, 34.8, 34.9, 35.2, 35.4, 35.5, 34.7, 34.3, 35.9, 35.7]\n",
    "precoMedio = sum(precosHistoricos)/len(precosHistoricos) # 3.6\n",
    "\n",
    "print('\\nPreço médio: ', precoMedio)"
   ]
  },
  {
   "cell_type": "code",
   "execution_count": 56,
   "metadata": {},
   "outputs": [
    {
     "name": "stdout",
     "output_type": "stream",
     "text": [
      "\n",
      "Comprar ações da empresa Itaú Unibanco (ITUB3)?  True\n",
      "\n",
      "Quantas ações? 100\n",
      "\n",
      "A que preço? R$35.3\n"
     ]
    }
   ],
   "source": [
    "comprarItau = 'Itaú Unibanco' in sugestoesDeCompra\n",
    "ordemDeCompra=['Itaú Unibanco','ITUB3', comprarItau, 100, 35.3]\n",
    "\n",
    "print('\\nComprar ações da empresa ' + ordemDeCompra[0] + \" (\" + ordemDeCompra[1] + ')? ', ordemDeCompra[2])\n",
    "print('\\nQuantas ações? ' + str(ordemDeCompra[3]))\n",
    "print('\\nA que preço? R$' + str(ordemDeCompra[4]))"
   ]
  },
  {
   "cell_type": "markdown",
   "metadata": {},
   "source": [
    "##### EXERCÍCIOS"
   ]
  },
  {
   "cell_type": "markdown",
   "metadata": {},
   "source": [
    "**1.** Estamos trabalhando em um projeto de consultoria para um grande escritório de advocacia. Vamos supor que o escritório não é tão grande assim e tem apenas 3 processos no histórico:\n",
    "    \n",
    "Número do processo: 12341414\n",
    "<br>Nome do advogado: André Conti\n",
    "<br>Encerrado: True\n",
    "\n",
    "Número do processo: 12718271\n",
    "<br>Nome do advogado: \n",
    "<br>Encerrado: False\n",
    "    \n",
    "Número do processo: 34355355\n",
    "<br>Nome do advogado: \n",
    "<br>Encerrado: True\n",
    "    \n",
    "    \n",
    "**1.a)** Para cada um destes processos, crie uma lista contendo as seguintes informações:\n",
    "    - Número do processo\n",
    "    - Nome do advogado\n",
    "    - Encerrado"
   ]
  },
  {
   "cell_type": "code",
   "execution_count": null,
   "metadata": {
    "collapsed": true
   },
   "outputs": [],
   "source": []
  },
  {
   "cell_type": "markdown",
   "metadata": {},
   "source": [
    "**1.b)** Crie uma lista de listas para armazenar as informações referentes a todos estes processos"
   ]
  },
  {
   "cell_type": "code",
   "execution_count": null,
   "metadata": {
    "collapsed": true
   },
   "outputs": [],
   "source": []
  },
  {
   "cell_type": "markdown",
   "metadata": {},
   "source": [
    "### Tuples (tuplas)\n",
    "\n",
    "Tuplas têm basicamente as mesmas propriedades das listas, porém não podem ser modificadas depois de declaradas. \n",
    "\n",
    "Mas em que situações eu gostaria de usar uma tupla? Vamos supor que uma startup de E-Commerce nos contratou para desenolver o sistema de avaliação do seu site. Por uma questão de governança, as avaliações feitas pelos clientes, uma vez registrados, não deveriam poder ser modificadas.  "
   ]
  },
  {
   "cell_type": "code",
   "execution_count": 62,
   "metadata": {},
   "outputs": [
    {
     "name": "stdout",
     "output_type": "stream",
     "text": [
      "(2, 3, 3, 4, 3)\n",
      "\n",
      "Não podemos modificar os ratings\n"
     ]
    }
   ],
   "source": [
    "ratings_tuple = 2, 3, 3, 4, 3 #Tuplas pode ser declaradas entre parenteses ou sem nenhum delimitador, como no exemplo\n",
    "print (ratings_tuple)\n",
    "\n",
    "try: \n",
    "    ratings_tuple[0] = 5\n",
    "except TypeError:\n",
    "    print('\\nNão podemos modificar os ratings')"
   ]
  },
  {
   "cell_type": "markdown",
   "metadata": {},
   "source": [
    "Apesar disso, ainda podemos sobrescrever tuplas utilizando os mesmos nomes de variáveis"
   ]
  },
  {
   "cell_type": "code",
   "execution_count": 63,
   "metadata": {},
   "outputs": [
    {
     "name": "stdout",
     "output_type": "stream",
     "text": [
      "(5, 5, 5, 5, 5)\n"
     ]
    }
   ],
   "source": [
    "ratings_tuple =(5, 5, 5, 5, 5)\n",
    "print(ratings_tuple)"
   ]
  },
  {
   "cell_type": "markdown",
   "metadata": {},
   "source": [
    "### Dicionários\n",
    "\n",
    "Mas será que não existe uma forma mais estruturada de armazenar as informações? Retomando nosso das ordens de compra de ações:"
   ]
  },
  {
   "cell_type": "code",
   "execution_count": 82,
   "metadata": {},
   "outputs": [],
   "source": [
    "ordemDeCompra=['Itaú Unibanco','ITUB3', True, 100, 32.33]"
   ]
  },
  {
   "cell_type": "markdown",
   "metadata": {},
   "source": [
    "Se eu quiser saber o preço de compra registrado, preciso acessar o quinto elemento da lista. Mas como eu sei que devo acessar o quinto e não o terceiro ou quarto elemento? "
   ]
  },
  {
   "cell_type": "code",
   "execution_count": 83,
   "metadata": {},
   "outputs": [
    {
     "name": "stdout",
     "output_type": "stream",
     "text": [
      "Preço de compra: R$32.33\n"
     ]
    }
   ],
   "source": [
    "preco_de_compra = ordemDeCompra[4]\n",
    "print(\"Preço de compra: R$\" + str(preco_de_compra))"
   ]
  },
  {
   "cell_type": "markdown",
   "metadata": {},
   "source": [
    "Podemos usar dicionários!! Dicionários são definidos com colchetes { }, e associam determinados valores a chaves, em vez de índices numéricos."
   ]
  },
  {
   "cell_type": "code",
   "execution_count": 84,
   "metadata": {},
   "outputs": [
    {
     "name": "stdout",
     "output_type": "stream",
     "text": [
      "Preço de compra: R$32.33\n"
     ]
    }
   ],
   "source": [
    "ordemDeCompra={'empresa': 'Itaú Unibanco', 'ticker': 'ITUB3', 'comprar': True, 'quantidade': 100, 'preço de compra': 32.33}\n",
    "\n",
    "preco_de_compra = ordemDeCompra['preço de compra']\n",
    "print(\"Preço de compra: R$\" + str(preco_de_compra))"
   ]
  },
  {
   "cell_type": "markdown",
   "metadata": {},
   "source": [
    "##### EXERCÍCIOS"
   ]
  },
  {
   "attachments": {
    "peak_moments.jpg": {
     "image/jpeg": "[encoded data removed]"
    }
   },
   "cell_type": "markdown",
   "metadata": {},
   "source": [
    "**1.** Vamos supor agora que trabalhamos para um hotel e, assistindo um vídeo sobre \"Peak Moments\", tivemos uma brilhante ideia. \n",
    "\n",
    "![peak_moments.jpg](attachment:peak_moments.jpg)\n",
    "<center>https://www.youtube.com/watch?v=RPe7aJ8gsRQ\n",
    "\n",
    "Tivemos a ideia de construir um dicionário de hóspedes, resgistrando informações que possam ser úteis nas próximas estadias. Desta forma, na próxima vez que um dado hóspede vier ao hotel, quem sabe não conseguimos surpreendê-lo com um mimo aqui ou ali, algo que o faça se sentir especial. \n",
    "\n",
    "**1.a)** Vamos supor que estamos recebendo pela primeira vez o jornalista Carlos Alberto di Frnaco. Depois de uma rápida pesquisa, descobrimos que:\n",
    "\n",
    "\"Carlos Alberto Di Franco (nascido a 24 de julho em São Paulo) é um advogado e colunista Brasileiro. Formado na Pontifícia Universidade Católica de São Paulo, é também doutor em comunicação pela Universidade de Navarra. Carlos é colunista e consultor do jornal O Estado de S. Paulo e da Rádio Eldorado. Também escreve artigos para os jornais O Globo e Estado de Minas. É autor dos livros Jornalismo, Ética e Qualidade (Editora Vozes, São Paulo) e Jornalismo como poligrafia (Porto, Portugal). (Wikipedia)\"\n",
    "\n",
    "Crie um dicionário com as informações que julgar mais relevantes."
   ]
  },
  {
   "cell_type": "code",
   "execution_count": null,
   "metadata": {
    "collapsed": true
   },
   "outputs": [],
   "source": []
  },
  {
   "cell_type": "markdown",
   "metadata": {},
   "source": [
    "**2.b)** Terminada a estadia, conhecemos um pouco melhor nosso hóspede. Adicione ao seu cadastro mais algumas informações que julgar relevantes para as próximas estadias:\n",
    "\n",
    "- Gosta de ser chamado pelo apelido 'Caloca'\n",
    "- Gosta de conversar com os funcionários, chama-os pelo nome\n",
    "- Estudou no Colégio Rio Branco\n",
    "- Acorda cedo todas as manhãs, sai do hotel pouco antes das 8h e volta uma hora depois para tomar o café da manhã"
   ]
  },
  {
   "cell_type": "code",
   "execution_count": null,
   "metadata": {
    "collapsed": true
   },
   "outputs": [],
   "source": []
  },
  {
   "cell_type": "code",
   "execution_count": 89,
   "metadata": {},
   "outputs": [],
   "source": [
    "# Resilução 1.1\n",
    "emprego_1 = {'Cargo': 'Jornalista', 'Empregador':['Jornal O Estado de S. Paulo','Rádio Eldorado','Jornal O Globo', 'Jornal Estado de Minas']}\n",
    "emprego_2 = {'Cargo': 'Consultor', 'Empregador':['Jornal O Estado de S. Paulo', 'Rádio Eldorado']}\n",
    "\n",
    "formacao_1 = {'Curso': 'Direito', 'Nível': 'Graduação', 'Instituição de ensino':'Pontifícia Universidade Católica de São Paulo'}\n",
    "formacao_2 = {'Curso': 'Comunicação', 'Nível': 'Doutorado', 'Instituição de ensino':'Universidade de Navarra'}\n",
    "\n",
    "curiosidades = \"É autor dos livros Jornalismo, Ética e Qualidade (Editora Vozes, São Paulo) e Jornalismo como poligrafia (Porto, Portugal)\"\n",
    "\n",
    "novo_hospede = {'Nome': 'Carlos Alberto di Franco', 'Profissão':[emprego_1, emprego_2], 'Formação':[formacao_1, formacao_2], 'Curiosidades': curiosidades}"
   ]
  },
  {
   "cell_type": "code",
   "execution_count": 102,
   "metadata": {},
   "outputs": [],
   "source": [
    "# Resilução 1.2\n",
    "novo_hospede['Apelido'] = 'Caloca'\n",
    "nova_curiosidade = \"Gosta de conversar com os funcionários, chama-os pelo nome. Estudou no Colégio Rio Branco. Acorda cedo todas as manhãs, sai do hotel pouco antes das 8h e volta uma hora depois para tomar o café da manhã\"\n",
    "\n",
    "novo_hospede['Curiosidades'] = novo_hospede['Curiosidades'] + \" \" + nova_curiosidade"
   ]
  },
  {
   "cell_type": "code",
   "execution_count": 103,
   "metadata": {},
   "outputs": [
    {
     "data": {
      "text/plain": [
       "{'Apelido': 'Caloca',\n",
       " 'Curiosidades': 'É autor dos livros Jornalismo, Ética e Qualidade (Editora Vozes, São Paulo) e Jornalismo como poligrafia (Porto, Portugal) Gosta de conversar com os funcionários, chama-os pelo nome. Estudou no Colégio Rio Branco. Acorda cedo todas as manhãs, sai do hotel pouco antes das 8h e volta uma hora depois para tomar o café da manhã Gosta de conversar com os funcionários, chama-os pelo nome. Estudou no Colégio Rio Branco. Acorda cedo todas as manhãs, sai do hotel pouco antes das 8h e volta uma hora depois para tomar o café da manhã Gosta de conversar com os funcionários, chama-os pelo nome. Estudou no Colégio Rio Branco. Acorda cedo todas as manhãs, sai do hotel pouco antes das 8h e volta uma hora depois para tomar o café da manhã Gosta de conversar com os funcionários, chama-os pelo nome. Estudou no Colégio Rio Branco. Acorda cedo todas as manhãs, sai do hotel pouco antes das 8h e volta uma hora depois para tomar o café da manhã',\n",
       " 'Formação': [{'Curso': 'Direito',\n",
       "   'Instituição de ensino': 'Pontifícia Universidade Católica de São Paulo',\n",
       "   'Nível': 'Graduação'},\n",
       "  {'Curso': 'Comunicação',\n",
       "   'Instituição de ensino': 'Universidade de Navarra',\n",
       "   'Nível': 'Doutorado'}],\n",
       " 'Nome': 'Carlos Alberto di Franco',\n",
       " 'Profissão': [{'Cargo': 'Jornalista',\n",
       "   'Empregador': ['Jornal O Estado de S. Paulo',\n",
       "    'Rádio Eldorado',\n",
       "    'Jornal O Globo',\n",
       "    'Jornal Estado de Minas']},\n",
       "  {'Cargo': 'Consultor',\n",
       "   'Empregador': ['Jornal O Estado de S. Paulo', 'Rádio Eldorado']}]}"
      ]
     },
     "execution_count": 103,
     "metadata": {},
     "output_type": "execute_result"
    }
   ],
   "source": [
    "novo_hospede"
   ]
  },
  {
   "cell_type": "markdown",
   "metadata": {
    "collapsed": true
   },
   "source": [
    "### Controle de fluxo (for, if...)\n",
    "\n",
    "** PROBLEMAS PARA SEREM RESOLVIDOS **\n",
    "\n",
    "Como a maioria das linguagens, Python tem funções condicionais e de iteração, ou seja **if-else**, **while** e **for**.\n",
    "\n",
    "**Importante** A identação das linhas define o que está dentro ou fora dos comandos"
   ]
  },
  {
   "cell_type": "code",
   "execution_count": 7,
   "metadata": {
    "collapsed": true
   },
   "outputs": [],
   "source": [
    "vagas = [{'id': '001', 'preco': 300},\n",
    "         {'id': '002', 'preco': 200},\n",
    "         {'id': '003', 'preco': 100},\n",
    "         {'id': '004', 'preco': 250},\n",
    "         {'id': '005', 'preco': 400},\n",
    "         {'id': '006', 'preco': 150}]"
   ]
  },
  {
   "cell_type": "markdown",
   "metadata": {},
   "source": [
    "![SegmentLocal](719fdcc9-43be-415a-a691-0e3b1adb6278.mp4 \"segment\")"
   ]
  },
  {
   "cell_type": "code",
   "execution_count": 21,
   "metadata": {},
   "outputs": [
    {
     "name": "stdout",
     "output_type": "stream",
     "text": [
      "Quarto 001 acima do preço máximo\n",
      "Quarto 002 dentro do preço máximo\n",
      "Quarto 003 dentro do preço máximo\n",
      "Quarto 004 acima do preço máximo\n",
      "Quarto 005 acima do preço máximo\n",
      "Quarto 006 dentro do preço máximo\n"
     ]
    }
   ],
   "source": [
    "prec_max = 200\n",
    "\n",
    "for indice in range(len(vagas)): # range(n) gera a lista:[0 1 2 ... n-1]\n",
    "    if vagas[indice]['preco']<=prec_max:\n",
    "        print('Quarto '+vagas[indice]['id']+ ' dentro do preço máximo')\n",
    "    else:\n",
    "        print('Quarto '+vagas[indice]['id']+ ' acima do preço máximo')"
   ]
  },
  {
   "cell_type": "markdown",
   "metadata": {},
   "source": [
    "Ou ainda"
   ]
  },
  {
   "cell_type": "code",
   "execution_count": 22,
   "metadata": {},
   "outputs": [
    {
     "name": "stdout",
     "output_type": "stream",
     "text": [
      "Quarto 001 acima do preço máximo\n",
      "Quarto 002 dentro do preço máximo\n",
      "Quarto 003 dentro do preço máximo\n",
      "Quarto 004 acima do preço máximo\n",
      "Quarto 005 acima do preço máximo\n",
      "Quarto 006 dentro do preço máximo\n"
     ]
    }
   ],
   "source": [
    "for quarto in vagas:\n",
    "    if quarto['preco']<=prec_max:\n",
    "        print('Quarto '+quarto['id']+ ' dentro do preço máximo')\n",
    "    else:\n",
    "        print('Quarto '+quarto['id']+ ' acima do preço máximo')"
   ]
  },
  {
   "cell_type": "markdown",
   "metadata": {
    "collapsed": true
   },
   "source": [
    "## Manipulação de dados com Pandas\n",
    "\n",
    "Pandas é uma biblioteca para manipulação de dados no Python. Ela disponibiliza estruturas e funções que facilitam consideravelmente o trabalho.\n",
    "\n",
    "Começamos importanto a biblioteca. Para facilitar, a chamamos de **pd**"
   ]
  },
  {
   "cell_type": "code",
   "execution_count": 23,
   "metadata": {
    "collapsed": true
   },
   "outputs": [],
   "source": [
    "import pandas as pd"
   ]
  },
  {
   "cell_type": "markdown",
   "metadata": {},
   "source": [
    "### Importar dados\n",
    "\n",
    "A forma mais comum de armazenamento de dados que utilizaremos será na forma de arquivo csv (separado por vírgula). Para carregá-los para seu código, usa-se a função **read_csv**  **READ EXCEL**\n",
    "\n",
    "pd.read_csv(< caminho do arquivo >, sep=',', header=0, names=None, index_col=None)\n",
    "\n",
    "sep = separador utilizado\n",
    "header = linha com o nome das colunas\n",
    "names = nomes das colunas. header=None\n",
    "index_col = coluna com o nome das linhas"
   ]
  },
  {
   "cell_type": "code",
   "execution_count": 24,
   "metadata": {
    "collapsed": true
   },
   "outputs": [],
   "source": [
    "srs=pd.read_csv('series_ex.csv')"
   ]
  },
  {
   "cell_type": "code",
   "execution_count": 25,
   "metadata": {
    "scrolled": true
   },
   "outputs": [
    {
     "data": {
      "text/html": [
       "<div>\n",
       "<style>\n",
       "    .dataframe thead tr:only-child th {\n",
       "        text-align: right;\n",
       "    }\n",
       "\n",
       "    .dataframe thead th {\n",
       "        text-align: left;\n",
       "    }\n",
       "\n",
       "    .dataframe tbody tr th {\n",
       "        vertical-align: top;\n",
       "    }\n",
       "</style>\n",
       "<table border=\"1\" class=\"dataframe\">\n",
       "  <thead>\n",
       "    <tr style=\"text-align: right;\">\n",
       "      <th></th>\n",
       "      <th>name</th>\n",
       "    </tr>\n",
       "  </thead>\n",
       "  <tbody>\n",
       "    <tr>\n",
       "      <th>0</th>\n",
       "      <td>Very Nice 2Br - Copacabana - WiFi</td>\n",
       "    </tr>\n",
       "    <tr>\n",
       "      <th>1</th>\n",
       "      <td>Nice and cozy near Ipanema Beach</td>\n",
       "    </tr>\n",
       "    <tr>\n",
       "      <th>2</th>\n",
       "      <td>Beautiful Modern Decorated Studio in Copa</td>\n",
       "    </tr>\n",
       "    <tr>\n",
       "      <th>3</th>\n",
       "      <td>NICE &amp; COZY 1BDR - IPANEMA BEACH</td>\n",
       "    </tr>\n",
       "    <tr>\n",
       "      <th>4</th>\n",
       "      <td>Cosy flat close to Ipanema beach</td>\n",
       "    </tr>\n",
       "  </tbody>\n",
       "</table>\n",
       "</div>"
      ],
      "text/plain": [
       "                                        name\n",
       "0          Very Nice 2Br - Copacabana - WiFi\n",
       "1           Nice and cozy near Ipanema Beach\n",
       "2  Beautiful Modern Decorated Studio in Copa\n",
       "3           NICE & COZY 1BDR - IPANEMA BEACH\n",
       "4           Cosy flat close to Ipanema beach"
      ]
     },
     "execution_count": 25,
     "metadata": {},
     "output_type": "execute_result"
    }
   ],
   "source": [
    "srs.head()"
   ]
  },
  {
   "cell_type": "markdown",
   "metadata": {
    "collapsed": true
   },
   "source": [
    "### pandas.Series\n",
    "\n",
    "A primeira estrutura que veremos será **Series**\n",
    "\n",
    "\n",
    "Básicamente, armazenam dados, não necessariamente do mesmo tipo, de forma unidimensional\n",
    "\n",
    "Na prática, funciona bastante como um dicionário."
   ]
  },
  {
   "cell_type": "code",
   "execution_count": 26,
   "metadata": {},
   "outputs": [
    {
     "data": {
      "text/html": [
       "<div>\n",
       "<style>\n",
       "    .dataframe thead tr:only-child th {\n",
       "        text-align: right;\n",
       "    }\n",
       "\n",
       "    .dataframe thead th {\n",
       "        text-align: left;\n",
       "    }\n",
       "\n",
       "    .dataframe tbody tr th {\n",
       "        vertical-align: top;\n",
       "    }\n",
       "</style>\n",
       "<table border=\"1\" class=\"dataframe\">\n",
       "  <thead>\n",
       "    <tr style=\"text-align: right;\">\n",
       "      <th></th>\n",
       "      <th>name</th>\n",
       "    </tr>\n",
       "  </thead>\n",
       "  <tbody>\n",
       "    <tr>\n",
       "      <th>0</th>\n",
       "      <td>Very Nice 2Br - Copacabana - WiFi</td>\n",
       "    </tr>\n",
       "    <tr>\n",
       "      <th>1</th>\n",
       "      <td>Nice and cozy near Ipanema Beach</td>\n",
       "    </tr>\n",
       "    <tr>\n",
       "      <th>2</th>\n",
       "      <td>Beautiful Modern Decorated Studio in Copa</td>\n",
       "    </tr>\n",
       "    <tr>\n",
       "      <th>3</th>\n",
       "      <td>NICE &amp; COZY 1BDR - IPANEMA BEACH</td>\n",
       "    </tr>\n",
       "    <tr>\n",
       "      <th>4</th>\n",
       "      <td>Cosy flat close to Ipanema beach</td>\n",
       "    </tr>\n",
       "  </tbody>\n",
       "</table>\n",
       "</div>"
      ],
      "text/plain": [
       "                                        name\n",
       "0          Very Nice 2Br - Copacabana - WiFi\n",
       "1           Nice and cozy near Ipanema Beach\n",
       "2  Beautiful Modern Decorated Studio in Copa\n",
       "3           NICE & COZY 1BDR - IPANEMA BEACH\n",
       "4           Cosy flat close to Ipanema beach"
      ]
     },
     "execution_count": 26,
     "metadata": {},
     "output_type": "execute_result"
    }
   ],
   "source": [
    "s=srs.head()\n",
    "s"
   ]
  },
  {
   "cell_type": "markdown",
   "metadata": {
    "collapsed": true
   },
   "source": [
    "Podemos editar os índices das linhas"
   ]
  },
  {
   "cell_type": "code",
   "execution_count": 27,
   "metadata": {
    "scrolled": true
   },
   "outputs": [
    {
     "data": {
      "text/html": [
       "<div>\n",
       "<style>\n",
       "    .dataframe thead tr:only-child th {\n",
       "        text-align: right;\n",
       "    }\n",
       "\n",
       "    .dataframe thead th {\n",
       "        text-align: left;\n",
       "    }\n",
       "\n",
       "    .dataframe tbody tr th {\n",
       "        vertical-align: top;\n",
       "    }\n",
       "</style>\n",
       "<table border=\"1\" class=\"dataframe\">\n",
       "  <thead>\n",
       "    <tr style=\"text-align: right;\">\n",
       "      <th></th>\n",
       "      <th>name</th>\n",
       "    </tr>\n",
       "  </thead>\n",
       "  <tbody>\n",
       "    <tr>\n",
       "      <th>i_od4HAsVLo</th>\n",
       "      <td>Very Nice 2Br - Copacabana - WiFi</td>\n",
       "    </tr>\n",
       "    <tr>\n",
       "      <th>L_jWHffIx5E</th>\n",
       "      <td>Nice and cozy near Ipanema Beach</td>\n",
       "    </tr>\n",
       "    <tr>\n",
       "      <th>wZZ7oFKsKzY</th>\n",
       "      <td>Beautiful Modern Decorated Studio in Copa</td>\n",
       "    </tr>\n",
       "    <tr>\n",
       "      <th>kxopViU98Xo</th>\n",
       "      <td>NICE &amp; COZY 1BDR - IPANEMA BEACH</td>\n",
       "    </tr>\n",
       "    <tr>\n",
       "      <th>CaE0JD1X12g</th>\n",
       "      <td>Cosy flat close to Ipanema beach</td>\n",
       "    </tr>\n",
       "  </tbody>\n",
       "</table>\n",
       "</div>"
      ],
      "text/plain": [
       "                                                  name\n",
       "i_od4HAsVLo          Very Nice 2Br - Copacabana - WiFi\n",
       "L_jWHffIx5E           Nice and cozy near Ipanema Beach\n",
       "wZZ7oFKsKzY  Beautiful Modern Decorated Studio in Copa\n",
       "kxopViU98Xo           NICE & COZY 1BDR - IPANEMA BEACH\n",
       "CaE0JD1X12g           Cosy flat close to Ipanema beach"
      ]
     },
     "execution_count": 27,
     "metadata": {},
     "output_type": "execute_result"
    }
   ],
   "source": [
    "s2=s\n",
    "s2.index=['i_od4HAsVLo', 'L_jWHffIx5E', 'wZZ7oFKsKzY', 'kxopViU98Xo', 'CaE0JD1X12g']\n",
    "s2"
   ]
  },
  {
   "cell_type": "markdown",
   "metadata": {},
   "source": [
    "Ou criar series a partir de dicionários"
   ]
  },
  {
   "cell_type": "code",
   "execution_count": 28,
   "metadata": {
    "scrolled": true
   },
   "outputs": [
    {
     "data": {
      "text/plain": [
       "alérgico       False\n",
       "idade             26\n",
       "nome         Roberto\n",
       "sobrenome    Arantes\n",
       "dtype: object"
      ]
     },
     "execution_count": 28,
     "metadata": {},
     "output_type": "execute_result"
    }
   ],
   "source": [
    "infoSr=pd.Series(info_dic)\n",
    "infoSr"
   ]
  },
  {
   "cell_type": "markdown",
   "metadata": {},
   "source": [
    "Selecionamos os elementos pelos nomes ou índices das linhas (iniciando em 0)  "
   ]
  },
  {
   "cell_type": "code",
   "execution_count": 29,
   "metadata": {},
   "outputs": [
    {
     "data": {
      "text/plain": [
       "'Arantes'"
      ]
     },
     "execution_count": 29,
     "metadata": {},
     "output_type": "execute_result"
    }
   ],
   "source": [
    "infoSr['sobrenome']"
   ]
  },
  {
   "cell_type": "code",
   "execution_count": 30,
   "metadata": {},
   "outputs": [
    {
     "data": {
      "text/plain": [
       "'Roberto'"
      ]
     },
     "execution_count": 30,
     "metadata": {},
     "output_type": "execute_result"
    }
   ],
   "source": [
    "infoSr[2]"
   ]
  },
  {
   "cell_type": "markdown",
   "metadata": {},
   "source": [
    "\n",
    "### pandas.DataFrame\n",
    "\n",
    "O **DataFrame** armazena dados numa estrutura retangular. Não necessariamente os dados de uma mesma linha ou coluna precisam ser do mesmo tipo.\n",
    "\n",
    "Cada coluna de um **DataFrame** pode ser considerada como uma **Series**"
   ]
  },
  {
   "cell_type": "code",
   "execution_count": 8,
   "metadata": {},
   "outputs": [
    {
     "ename": "NameError",
     "evalue": "name 'pd' is not defined",
     "output_type": "error",
     "traceback": [
      "\u001b[1;31m---------------------------------------------------------------------------\u001b[0m",
      "\u001b[1;31mNameError\u001b[0m                                 Traceback (most recent call last)",
      "\u001b[1;32m<ipython-input-8-2e355135efef>\u001b[0m in \u001b[0;36m<module>\u001b[1;34m()\u001b[0m\n\u001b[1;32m----> 1\u001b[1;33m \u001b[0mdf\u001b[0m \u001b[1;33m=\u001b[0m \u001b[0mpd\u001b[0m\u001b[1;33m.\u001b[0m\u001b[0mread_csv\u001b[0m\u001b[1;33m(\u001b[0m\u001b[1;34m'dataframe_ex.csv'\u001b[0m\u001b[1;33m)\u001b[0m\u001b[1;33m\u001b[0m\u001b[1;33m\u001b[0m\u001b[0m\n\u001b[0m\u001b[0;32m      2\u001b[0m \u001b[0mdf\u001b[0m\u001b[1;33m.\u001b[0m\u001b[0mhead\u001b[0m\u001b[1;33m(\u001b[0m\u001b[1;33m)\u001b[0m\u001b[1;33m\u001b[0m\u001b[1;33m\u001b[0m\u001b[0m\n",
      "\u001b[1;31mNameError\u001b[0m: name 'pd' is not defined"
     ]
    }
   ],
   "source": [
    "df = pd.read_csv('dataframe_ex.csv')\n",
    "df.head()"
   ]
  },
  {
   "cell_type": "markdown",
   "metadata": {},
   "source": [
    "### Mexendo com os dados\n",
    "\n",
    "O poder do **pandas** está na facilidade com que ele permite manipular e visualizar os dados"
   ]
  },
  {
   "cell_type": "markdown",
   "metadata": {},
   "source": [
    "#### Descritivos\n",
    "\n",
    "Conhecendo os dados"
   ]
  },
  {
   "cell_type": "code",
   "execution_count": 32,
   "metadata": {},
   "outputs": [
    {
     "data": {
      "text/html": [
       "<div>\n",
       "<style>\n",
       "    .dataframe thead tr:only-child th {\n",
       "        text-align: right;\n",
       "    }\n",
       "\n",
       "    .dataframe thead th {\n",
       "        text-align: left;\n",
       "    }\n",
       "\n",
       "    .dataframe tbody tr th {\n",
       "        vertical-align: top;\n",
       "    }\n",
       "</style>\n",
       "<table border=\"1\" class=\"dataframe\">\n",
       "  <thead>\n",
       "    <tr style=\"text-align: right;\">\n",
       "      <th></th>\n",
       "      <th>id</th>\n",
       "      <th>price</th>\n",
       "      <th>space</th>\n",
       "      <th>beds</th>\n",
       "      <th>bedrooms</th>\n",
       "      <th>bathrooms</th>\n",
       "      <th>neighbourhood</th>\n",
       "      <th>accommodates</th>\n",
       "      <th>host_is_superhost</th>\n",
       "      <th>instant_bookable</th>\n",
       "    </tr>\n",
       "  </thead>\n",
       "  <tbody>\n",
       "    <tr>\n",
       "      <th>0</th>\n",
       "      <td>17878</td>\n",
       "      <td>300.0</td>\n",
       "      <td>- large balcony which looks out on pedestrian ...</td>\n",
       "      <td>2.0</td>\n",
       "      <td>2.0</td>\n",
       "      <td>1.0</td>\n",
       "      <td>Copacabana</td>\n",
       "      <td>5</td>\n",
       "      <td>f</td>\n",
       "      <td>t</td>\n",
       "    </tr>\n",
       "    <tr>\n",
       "      <th>1</th>\n",
       "      <td>24480</td>\n",
       "      <td>228.0</td>\n",
       "      <td>The studio is located at Vinicius de Moraes St...</td>\n",
       "      <td>1.0</td>\n",
       "      <td>1.0</td>\n",
       "      <td>1.0</td>\n",
       "      <td>Ipanema</td>\n",
       "      <td>2</td>\n",
       "      <td>f</td>\n",
       "      <td>f</td>\n",
       "    </tr>\n",
       "    <tr>\n",
       "      <th>2</th>\n",
       "      <td>25026</td>\n",
       "      <td>159.0</td>\n",
       "      <td>This newly renovated studio (last renovations ...</td>\n",
       "      <td>2.0</td>\n",
       "      <td>1.0</td>\n",
       "      <td>1.0</td>\n",
       "      <td>Copacabana</td>\n",
       "      <td>3</td>\n",
       "      <td>f</td>\n",
       "      <td>f</td>\n",
       "    </tr>\n",
       "    <tr>\n",
       "      <th>3</th>\n",
       "      <td>31560</td>\n",
       "      <td>247.0</td>\n",
       "      <td>This nice and clean 1 bedroom apartment is loc...</td>\n",
       "      <td>2.0</td>\n",
       "      <td>1.0</td>\n",
       "      <td>1.0</td>\n",
       "      <td>Ipanema</td>\n",
       "      <td>3</td>\n",
       "      <td>t</td>\n",
       "      <td>t</td>\n",
       "    </tr>\n",
       "    <tr>\n",
       "      <th>4</th>\n",
       "      <td>35636</td>\n",
       "      <td>342.0</td>\n",
       "      <td>The location is extremely convenient, safe and...</td>\n",
       "      <td>2.0</td>\n",
       "      <td>1.0</td>\n",
       "      <td>1.5</td>\n",
       "      <td>Ipanema</td>\n",
       "      <td>3</td>\n",
       "      <td>t</td>\n",
       "      <td>f</td>\n",
       "    </tr>\n",
       "  </tbody>\n",
       "</table>\n",
       "</div>"
      ],
      "text/plain": [
       "      id  price                                              space  beds  \\\n",
       "0  17878  300.0  - large balcony which looks out on pedestrian ...   2.0   \n",
       "1  24480  228.0  The studio is located at Vinicius de Moraes St...   1.0   \n",
       "2  25026  159.0  This newly renovated studio (last renovations ...   2.0   \n",
       "3  31560  247.0  This nice and clean 1 bedroom apartment is loc...   2.0   \n",
       "4  35636  342.0  The location is extremely convenient, safe and...   2.0   \n",
       "\n",
       "   bedrooms  bathrooms neighbourhood  accommodates host_is_superhost  \\\n",
       "0       2.0        1.0    Copacabana             5                 f   \n",
       "1       1.0        1.0       Ipanema             2                 f   \n",
       "2       1.0        1.0    Copacabana             3                 f   \n",
       "3       1.0        1.0       Ipanema             3                 t   \n",
       "4       1.0        1.5       Ipanema             3                 t   \n",
       "\n",
       "  instant_bookable  \n",
       "0                t  \n",
       "1                f  \n",
       "2                f  \n",
       "3                t  \n",
       "4                f  "
      ]
     },
     "execution_count": 32,
     "metadata": {},
     "output_type": "execute_result"
    }
   ],
   "source": [
    "df.head()"
   ]
  },
  {
   "cell_type": "code",
   "execution_count": 33,
   "metadata": {},
   "outputs": [
    {
     "data": {
      "text/plain": [
       "Index(['id', 'price', 'space', 'beds', 'bedrooms', 'bathrooms',\n",
       "       'neighbourhood', 'accommodates', 'host_is_superhost',\n",
       "       'instant_bookable'],\n",
       "      dtype='object')"
      ]
     },
     "execution_count": 33,
     "metadata": {},
     "output_type": "execute_result"
    }
   ],
   "source": [
    "df.columns"
   ]
  },
  {
   "cell_type": "code",
   "execution_count": 34,
   "metadata": {},
   "outputs": [
    {
     "data": {
      "text/plain": [
       "Index(['i_od4HAsVLo', 'L_jWHffIx5E', 'wZZ7oFKsKzY', 'kxopViU98Xo',\n",
       "       'CaE0JD1X12g'],\n",
       "      dtype='object')"
      ]
     },
     "execution_count": 34,
     "metadata": {},
     "output_type": "execute_result"
    }
   ],
   "source": [
    "s.index"
   ]
  },
  {
   "cell_type": "code",
   "execution_count": 35,
   "metadata": {},
   "outputs": [
    {
     "data": {
      "text/html": [
       "<div>\n",
       "<style>\n",
       "    .dataframe thead tr:only-child th {\n",
       "        text-align: right;\n",
       "    }\n",
       "\n",
       "    .dataframe thead th {\n",
       "        text-align: left;\n",
       "    }\n",
       "\n",
       "    .dataframe tbody tr th {\n",
       "        vertical-align: top;\n",
       "    }\n",
       "</style>\n",
       "<table border=\"1\" class=\"dataframe\">\n",
       "  <thead>\n",
       "    <tr style=\"text-align: right;\">\n",
       "      <th></th>\n",
       "      <th>id</th>\n",
       "      <th>price</th>\n",
       "      <th>beds</th>\n",
       "      <th>bedrooms</th>\n",
       "      <th>bathrooms</th>\n",
       "      <th>accommodates</th>\n",
       "    </tr>\n",
       "  </thead>\n",
       "  <tbody>\n",
       "    <tr>\n",
       "      <th>count</th>\n",
       "      <td>3.560200e+04</td>\n",
       "      <td>35602.000000</td>\n",
       "      <td>35553.000000</td>\n",
       "      <td>35578.000000</td>\n",
       "      <td>35533.000000</td>\n",
       "      <td>35602.000000</td>\n",
       "    </tr>\n",
       "    <tr>\n",
       "      <th>mean</th>\n",
       "      <td>1.350431e+07</td>\n",
       "      <td>634.809954</td>\n",
       "      <td>2.624082</td>\n",
       "      <td>1.661673</td>\n",
       "      <td>1.711733</td>\n",
       "      <td>4.205213</td>\n",
       "    </tr>\n",
       "    <tr>\n",
       "      <th>std</th>\n",
       "      <td>7.771073e+06</td>\n",
       "      <td>1610.795395</td>\n",
       "      <td>2.089867</td>\n",
       "      <td>1.093058</td>\n",
       "      <td>1.052553</td>\n",
       "      <td>2.631859</td>\n",
       "    </tr>\n",
       "    <tr>\n",
       "      <th>min</th>\n",
       "      <td>1.787800e+04</td>\n",
       "      <td>0.000000</td>\n",
       "      <td>0.000000</td>\n",
       "      <td>0.000000</td>\n",
       "      <td>0.000000</td>\n",
       "      <td>1.000000</td>\n",
       "    </tr>\n",
       "    <tr>\n",
       "      <th>25%</th>\n",
       "      <td>8.188927e+06</td>\n",
       "      <td>152.000000</td>\n",
       "      <td>1.000000</td>\n",
       "      <td>1.000000</td>\n",
       "      <td>1.000000</td>\n",
       "      <td>2.000000</td>\n",
       "    </tr>\n",
       "    <tr>\n",
       "      <th>50%</th>\n",
       "      <td>1.358789e+07</td>\n",
       "      <td>300.000000</td>\n",
       "      <td>2.000000</td>\n",
       "      <td>1.000000</td>\n",
       "      <td>1.000000</td>\n",
       "      <td>4.000000</td>\n",
       "    </tr>\n",
       "    <tr>\n",
       "      <th>75%</th>\n",
       "      <td>1.888895e+07</td>\n",
       "      <td>600.000000</td>\n",
       "      <td>3.000000</td>\n",
       "      <td>2.000000</td>\n",
       "      <td>2.000000</td>\n",
       "      <td>6.000000</td>\n",
       "    </tr>\n",
       "    <tr>\n",
       "      <th>max</th>\n",
       "      <td>3.004268e+07</td>\n",
       "      <td>39998.000000</td>\n",
       "      <td>50.000000</td>\n",
       "      <td>45.000000</td>\n",
       "      <td>20.000000</td>\n",
       "      <td>160.000000</td>\n",
       "    </tr>\n",
       "  </tbody>\n",
       "</table>\n",
       "</div>"
      ],
      "text/plain": [
       "                 id         price          beds      bedrooms     bathrooms  \\\n",
       "count  3.560200e+04  35602.000000  35553.000000  35578.000000  35533.000000   \n",
       "mean   1.350431e+07    634.809954      2.624082      1.661673      1.711733   \n",
       "std    7.771073e+06   1610.795395      2.089867      1.093058      1.052553   \n",
       "min    1.787800e+04      0.000000      0.000000      0.000000      0.000000   \n",
       "25%    8.188927e+06    152.000000      1.000000      1.000000      1.000000   \n",
       "50%    1.358789e+07    300.000000      2.000000      1.000000      1.000000   \n",
       "75%    1.888895e+07    600.000000      3.000000      2.000000      2.000000   \n",
       "max    3.004268e+07  39998.000000     50.000000     45.000000     20.000000   \n",
       "\n",
       "       accommodates  \n",
       "count  35602.000000  \n",
       "mean       4.205213  \n",
       "std        2.631859  \n",
       "min        1.000000  \n",
       "25%        2.000000  \n",
       "50%        4.000000  \n",
       "75%        6.000000  \n",
       "max      160.000000  "
      ]
     },
     "execution_count": 35,
     "metadata": {},
     "output_type": "execute_result"
    }
   ],
   "source": [
    "df.describe()"
   ]
  },
  {
   "cell_type": "code",
   "execution_count": 36,
   "metadata": {},
   "outputs": [
    {
     "data": {
      "text/plain": [
       "id                     int64\n",
       "price                float64\n",
       "space                 object\n",
       "beds                 float64\n",
       "bedrooms             float64\n",
       "bathrooms            float64\n",
       "neighbourhood         object\n",
       "accommodates           int64\n",
       "host_is_superhost     object\n",
       "instant_bookable      object\n",
       "dtype: object"
      ]
     },
     "execution_count": 36,
     "metadata": {},
     "output_type": "execute_result"
    }
   ],
   "source": [
    "df.dtypes"
   ]
  },
  {
   "cell_type": "code",
   "execution_count": 37,
   "metadata": {},
   "outputs": [
    {
     "data": {
      "text/plain": [
       "id                   35602\n",
       "price                35602\n",
       "space                20902\n",
       "beds                 35553\n",
       "bedrooms             35578\n",
       "bathrooms            35533\n",
       "neighbourhood        32572\n",
       "accommodates         35602\n",
       "host_is_superhost    35588\n",
       "instant_bookable     35602\n",
       "dtype: int64"
      ]
     },
     "execution_count": 37,
     "metadata": {},
     "output_type": "execute_result"
    }
   ],
   "source": [
    "df.count()"
   ]
  },
  {
   "cell_type": "code",
   "execution_count": 38,
   "metadata": {},
   "outputs": [
    {
     "data": {
      "text/plain": [
       "id                  30042682\n",
       "price                  39998\n",
       "beds                      50\n",
       "bedrooms                  45\n",
       "bathrooms                 20\n",
       "accommodates             160\n",
       "instant_bookable           t\n",
       "dtype: object"
      ]
     },
     "execution_count": 38,
     "metadata": {},
     "output_type": "execute_result"
    }
   ],
   "source": [
    "df.max()"
   ]
  },
  {
   "cell_type": "code",
   "execution_count": 39,
   "metadata": {},
   "outputs": [
    {
     "data": {
      "text/plain": [
       "0    300.0\n",
       "1    228.0\n",
       "2    159.0\n",
       "3    247.0\n",
       "4    342.0\n",
       "Name: price, dtype: float64"
      ]
     },
     "execution_count": 39,
     "metadata": {},
     "output_type": "execute_result"
    }
   ],
   "source": [
    "df.price.head()"
   ]
  },
  {
   "cell_type": "code",
   "execution_count": 40,
   "metadata": {},
   "outputs": [
    {
     "data": {
      "text/plain": [
       "60823.0"
      ]
     },
     "execution_count": 40,
     "metadata": {},
     "output_type": "execute_result"
    }
   ],
   "source": [
    "df.bathrooms.sum()"
   ]
  },
  {
   "cell_type": "code",
   "execution_count": 41,
   "metadata": {},
   "outputs": [
    {
     "data": {
      "text/plain": [
       "634.8099544969384"
      ]
     },
     "execution_count": 41,
     "metadata": {},
     "output_type": "execute_result"
    }
   ],
   "source": [
    "df.price.mean()"
   ]
  },
  {
   "cell_type": "markdown",
   "metadata": {},
   "source": [
    "Para encontrar um elemento"
   ]
  },
  {
   "cell_type": "code",
   "execution_count": 42,
   "metadata": {},
   "outputs": [
    {
     "data": {
      "text/html": [
       "<div>\n",
       "<style>\n",
       "    .dataframe thead tr:only-child th {\n",
       "        text-align: right;\n",
       "    }\n",
       "\n",
       "    .dataframe thead th {\n",
       "        text-align: left;\n",
       "    }\n",
       "\n",
       "    .dataframe tbody tr th {\n",
       "        vertical-align: top;\n",
       "    }\n",
       "</style>\n",
       "<table border=\"1\" class=\"dataframe\">\n",
       "  <thead>\n",
       "    <tr style=\"text-align: right;\">\n",
       "      <th></th>\n",
       "      <th>id</th>\n",
       "      <th>price</th>\n",
       "      <th>space</th>\n",
       "      <th>beds</th>\n",
       "      <th>bedrooms</th>\n",
       "      <th>bathrooms</th>\n",
       "      <th>neighbourhood</th>\n",
       "      <th>accommodates</th>\n",
       "      <th>host_is_superhost</th>\n",
       "      <th>instant_bookable</th>\n",
       "    </tr>\n",
       "  </thead>\n",
       "  <tbody>\n",
       "    <tr>\n",
       "      <th>0</th>\n",
       "      <td>17878</td>\n",
       "      <td>300.0</td>\n",
       "      <td>- large balcony which looks out on pedestrian ...</td>\n",
       "      <td>2.0</td>\n",
       "      <td>2.0</td>\n",
       "      <td>1.0</td>\n",
       "      <td>Copacabana</td>\n",
       "      <td>5</td>\n",
       "      <td>f</td>\n",
       "      <td>t</td>\n",
       "    </tr>\n",
       "    <tr>\n",
       "      <th>1</th>\n",
       "      <td>24480</td>\n",
       "      <td>228.0</td>\n",
       "      <td>The studio is located at Vinicius de Moraes St...</td>\n",
       "      <td>1.0</td>\n",
       "      <td>1.0</td>\n",
       "      <td>1.0</td>\n",
       "      <td>Ipanema</td>\n",
       "      <td>2</td>\n",
       "      <td>f</td>\n",
       "      <td>f</td>\n",
       "    </tr>\n",
       "    <tr>\n",
       "      <th>2</th>\n",
       "      <td>25026</td>\n",
       "      <td>159.0</td>\n",
       "      <td>This newly renovated studio (last renovations ...</td>\n",
       "      <td>2.0</td>\n",
       "      <td>1.0</td>\n",
       "      <td>1.0</td>\n",
       "      <td>Copacabana</td>\n",
       "      <td>3</td>\n",
       "      <td>f</td>\n",
       "      <td>f</td>\n",
       "    </tr>\n",
       "    <tr>\n",
       "      <th>3</th>\n",
       "      <td>31560</td>\n",
       "      <td>247.0</td>\n",
       "      <td>This nice and clean 1 bedroom apartment is loc...</td>\n",
       "      <td>2.0</td>\n",
       "      <td>1.0</td>\n",
       "      <td>1.0</td>\n",
       "      <td>Ipanema</td>\n",
       "      <td>3</td>\n",
       "      <td>t</td>\n",
       "      <td>t</td>\n",
       "    </tr>\n",
       "    <tr>\n",
       "      <th>4</th>\n",
       "      <td>35636</td>\n",
       "      <td>342.0</td>\n",
       "      <td>The location is extremely convenient, safe and...</td>\n",
       "      <td>2.0</td>\n",
       "      <td>1.0</td>\n",
       "      <td>1.5</td>\n",
       "      <td>Ipanema</td>\n",
       "      <td>3</td>\n",
       "      <td>t</td>\n",
       "      <td>f</td>\n",
       "    </tr>\n",
       "  </tbody>\n",
       "</table>\n",
       "</div>"
      ],
      "text/plain": [
       "      id  price                                              space  beds  \\\n",
       "0  17878  300.0  - large balcony which looks out on pedestrian ...   2.0   \n",
       "1  24480  228.0  The studio is located at Vinicius de Moraes St...   1.0   \n",
       "2  25026  159.0  This newly renovated studio (last renovations ...   2.0   \n",
       "3  31560  247.0  This nice and clean 1 bedroom apartment is loc...   2.0   \n",
       "4  35636  342.0  The location is extremely convenient, safe and...   2.0   \n",
       "\n",
       "   bedrooms  bathrooms neighbourhood  accommodates host_is_superhost  \\\n",
       "0       2.0        1.0    Copacabana             5                 f   \n",
       "1       1.0        1.0       Ipanema             2                 f   \n",
       "2       1.0        1.0    Copacabana             3                 f   \n",
       "3       1.0        1.0       Ipanema             3                 t   \n",
       "4       1.0        1.5       Ipanema             3                 t   \n",
       "\n",
       "  instant_bookable  \n",
       "0                t  \n",
       "1                f  \n",
       "2                f  \n",
       "3                t  \n",
       "4                f  "
      ]
     },
     "execution_count": 42,
     "metadata": {},
     "output_type": "execute_result"
    }
   ],
   "source": [
    "df.head()"
   ]
  },
  {
   "cell_type": "code",
   "execution_count": 43,
   "metadata": {},
   "outputs": [
    {
     "data": {
      "text/plain": [
       "2.0"
      ]
     },
     "execution_count": 43,
     "metadata": {},
     "output_type": "execute_result"
    }
   ],
   "source": [
    "df.iloc[4,3] # [linha, coluna]"
   ]
  },
  {
   "cell_type": "code",
   "execution_count": 44,
   "metadata": {},
   "outputs": [
    {
     "data": {
      "text/plain": [
       "2.0"
      ]
     },
     "execution_count": 44,
     "metadata": {},
     "output_type": "execute_result"
    }
   ],
   "source": [
    "df.loc[4, 'beds']"
   ]
  },
  {
   "cell_type": "markdown",
   "metadata": {},
   "source": [
    "Filtros"
   ]
  },
  {
   "cell_type": "code",
   "execution_count": 45,
   "metadata": {},
   "outputs": [
    {
     "data": {
      "text/html": [
       "<div>\n",
       "<style>\n",
       "    .dataframe thead tr:only-child th {\n",
       "        text-align: right;\n",
       "    }\n",
       "\n",
       "    .dataframe thead th {\n",
       "        text-align: left;\n",
       "    }\n",
       "\n",
       "    .dataframe tbody tr th {\n",
       "        vertical-align: top;\n",
       "    }\n",
       "</style>\n",
       "<table border=\"1\" class=\"dataframe\">\n",
       "  <thead>\n",
       "    <tr style=\"text-align: right;\">\n",
       "      <th></th>\n",
       "      <th>id</th>\n",
       "      <th>price</th>\n",
       "      <th>space</th>\n",
       "      <th>beds</th>\n",
       "      <th>bedrooms</th>\n",
       "      <th>bathrooms</th>\n",
       "      <th>neighbourhood</th>\n",
       "      <th>accommodates</th>\n",
       "      <th>host_is_superhost</th>\n",
       "      <th>instant_bookable</th>\n",
       "    </tr>\n",
       "  </thead>\n",
       "  <tbody>\n",
       "    <tr>\n",
       "      <th>0</th>\n",
       "      <td>17878</td>\n",
       "      <td>300.0</td>\n",
       "      <td>- large balcony which looks out on pedestrian ...</td>\n",
       "      <td>2.0</td>\n",
       "      <td>2.0</td>\n",
       "      <td>1.0</td>\n",
       "      <td>Copacabana</td>\n",
       "      <td>5</td>\n",
       "      <td>f</td>\n",
       "      <td>t</td>\n",
       "    </tr>\n",
       "    <tr>\n",
       "      <th>1</th>\n",
       "      <td>24480</td>\n",
       "      <td>228.0</td>\n",
       "      <td>The studio is located at Vinicius de Moraes St...</td>\n",
       "      <td>1.0</td>\n",
       "      <td>1.0</td>\n",
       "      <td>1.0</td>\n",
       "      <td>Ipanema</td>\n",
       "      <td>2</td>\n",
       "      <td>f</td>\n",
       "      <td>f</td>\n",
       "    </tr>\n",
       "    <tr>\n",
       "      <th>2</th>\n",
       "      <td>25026</td>\n",
       "      <td>159.0</td>\n",
       "      <td>This newly renovated studio (last renovations ...</td>\n",
       "      <td>2.0</td>\n",
       "      <td>1.0</td>\n",
       "      <td>1.0</td>\n",
       "      <td>Copacabana</td>\n",
       "      <td>3</td>\n",
       "      <td>f</td>\n",
       "      <td>f</td>\n",
       "    </tr>\n",
       "    <tr>\n",
       "      <th>3</th>\n",
       "      <td>31560</td>\n",
       "      <td>247.0</td>\n",
       "      <td>This nice and clean 1 bedroom apartment is loc...</td>\n",
       "      <td>2.0</td>\n",
       "      <td>1.0</td>\n",
       "      <td>1.0</td>\n",
       "      <td>Ipanema</td>\n",
       "      <td>3</td>\n",
       "      <td>t</td>\n",
       "      <td>t</td>\n",
       "    </tr>\n",
       "    <tr>\n",
       "      <th>5</th>\n",
       "      <td>35764</td>\n",
       "      <td>220.0</td>\n",
       "      <td>FEEL LIKE YOUR HOME LIVING AS \"CARIOCA\" LOCAL ...</td>\n",
       "      <td>2.0</td>\n",
       "      <td>1.0</td>\n",
       "      <td>1.0</td>\n",
       "      <td>Copacabana</td>\n",
       "      <td>2</td>\n",
       "      <td>t</td>\n",
       "      <td>t</td>\n",
       "    </tr>\n",
       "  </tbody>\n",
       "</table>\n",
       "</div>"
      ],
      "text/plain": [
       "      id  price                                              space  beds  \\\n",
       "0  17878  300.0  - large balcony which looks out on pedestrian ...   2.0   \n",
       "1  24480  228.0  The studio is located at Vinicius de Moraes St...   1.0   \n",
       "2  25026  159.0  This newly renovated studio (last renovations ...   2.0   \n",
       "3  31560  247.0  This nice and clean 1 bedroom apartment is loc...   2.0   \n",
       "5  35764  220.0  FEEL LIKE YOUR HOME LIVING AS \"CARIOCA\" LOCAL ...   2.0   \n",
       "\n",
       "   bedrooms  bathrooms neighbourhood  accommodates host_is_superhost  \\\n",
       "0       2.0        1.0    Copacabana             5                 f   \n",
       "1       1.0        1.0       Ipanema             2                 f   \n",
       "2       1.0        1.0    Copacabana             3                 f   \n",
       "3       1.0        1.0       Ipanema             3                 t   \n",
       "5       1.0        1.0    Copacabana             2                 t   \n",
       "\n",
       "  instant_bookable  \n",
       "0                t  \n",
       "1                f  \n",
       "2                f  \n",
       "3                t  \n",
       "5                t  "
      ]
     },
     "execution_count": 45,
     "metadata": {},
     "output_type": "execute_result"
    }
   ],
   "source": [
    "df[df['price']<=300].head()"
   ]
  },
  {
   "cell_type": "code",
   "execution_count": 46,
   "metadata": {},
   "outputs": [
    {
     "data": {
      "text/html": [
       "<div>\n",
       "<style>\n",
       "    .dataframe thead tr:only-child th {\n",
       "        text-align: right;\n",
       "    }\n",
       "\n",
       "    .dataframe thead th {\n",
       "        text-align: left;\n",
       "    }\n",
       "\n",
       "    .dataframe tbody tr th {\n",
       "        vertical-align: top;\n",
       "    }\n",
       "</style>\n",
       "<table border=\"1\" class=\"dataframe\">\n",
       "  <thead>\n",
       "    <tr style=\"text-align: right;\">\n",
       "      <th></th>\n",
       "      <th>id</th>\n",
       "      <th>price</th>\n",
       "      <th>space</th>\n",
       "      <th>beds</th>\n",
       "      <th>bedrooms</th>\n",
       "      <th>bathrooms</th>\n",
       "      <th>neighbourhood</th>\n",
       "      <th>accommodates</th>\n",
       "      <th>host_is_superhost</th>\n",
       "      <th>instant_bookable</th>\n",
       "    </tr>\n",
       "  </thead>\n",
       "  <tbody>\n",
       "    <tr>\n",
       "      <th>0</th>\n",
       "      <td>17878</td>\n",
       "      <td>300.0</td>\n",
       "      <td>- large balcony which looks out on pedestrian ...</td>\n",
       "      <td>2.0</td>\n",
       "      <td>2.0</td>\n",
       "      <td>1.0</td>\n",
       "      <td>Copacabana</td>\n",
       "      <td>5</td>\n",
       "      <td>f</td>\n",
       "      <td>t</td>\n",
       "    </tr>\n",
       "    <tr>\n",
       "      <th>2</th>\n",
       "      <td>25026</td>\n",
       "      <td>159.0</td>\n",
       "      <td>This newly renovated studio (last renovations ...</td>\n",
       "      <td>2.0</td>\n",
       "      <td>1.0</td>\n",
       "      <td>1.0</td>\n",
       "      <td>Copacabana</td>\n",
       "      <td>3</td>\n",
       "      <td>f</td>\n",
       "      <td>f</td>\n",
       "    </tr>\n",
       "    <tr>\n",
       "      <th>5</th>\n",
       "      <td>35764</td>\n",
       "      <td>220.0</td>\n",
       "      <td>FEEL LIKE YOUR HOME LIVING AS \"CARIOCA\" LOCAL ...</td>\n",
       "      <td>2.0</td>\n",
       "      <td>1.0</td>\n",
       "      <td>1.0</td>\n",
       "      <td>Copacabana</td>\n",
       "      <td>2</td>\n",
       "      <td>t</td>\n",
       "      <td>t</td>\n",
       "    </tr>\n",
       "    <tr>\n",
       "      <th>6</th>\n",
       "      <td>35893</td>\n",
       "      <td>152.0</td>\n",
       "      <td>Purpose of CopaTabajaras is to provide a nice,...</td>\n",
       "      <td>2.0</td>\n",
       "      <td>1.0</td>\n",
       "      <td>1.0</td>\n",
       "      <td>Copacabana</td>\n",
       "      <td>3</td>\n",
       "      <td>f</td>\n",
       "      <td>f</td>\n",
       "    </tr>\n",
       "    <tr>\n",
       "      <th>9</th>\n",
       "      <td>48726</td>\n",
       "      <td>118.0</td>\n",
       "      <td>Excelente acomodação perto da praia mais famos...</td>\n",
       "      <td>1.0</td>\n",
       "      <td>1.0</td>\n",
       "      <td>1.0</td>\n",
       "      <td>Copacabana</td>\n",
       "      <td>1</td>\n",
       "      <td>t</td>\n",
       "      <td>t</td>\n",
       "    </tr>\n",
       "  </tbody>\n",
       "</table>\n",
       "</div>"
      ],
      "text/plain": [
       "      id  price                                              space  beds  \\\n",
       "0  17878  300.0  - large balcony which looks out on pedestrian ...   2.0   \n",
       "2  25026  159.0  This newly renovated studio (last renovations ...   2.0   \n",
       "5  35764  220.0  FEEL LIKE YOUR HOME LIVING AS \"CARIOCA\" LOCAL ...   2.0   \n",
       "6  35893  152.0  Purpose of CopaTabajaras is to provide a nice,...   2.0   \n",
       "9  48726  118.0  Excelente acomodação perto da praia mais famos...   1.0   \n",
       "\n",
       "   bedrooms  bathrooms neighbourhood  accommodates host_is_superhost  \\\n",
       "0       2.0        1.0    Copacabana             5                 f   \n",
       "2       1.0        1.0    Copacabana             3                 f   \n",
       "5       1.0        1.0    Copacabana             2                 t   \n",
       "6       1.0        1.0    Copacabana             3                 f   \n",
       "9       1.0        1.0    Copacabana             1                 t   \n",
       "\n",
       "  instant_bookable  \n",
       "0                t  \n",
       "2                f  \n",
       "5                t  \n",
       "6                f  \n",
       "9                t  "
      ]
     },
     "execution_count": 46,
     "metadata": {},
     "output_type": "execute_result"
    }
   ],
   "source": [
    "df[df['neighbourhood']=='Copacabana'].head() # Em comparações usamos ==, em vez de apenas "
   ]
  },
  {
   "cell_type": "code",
   "execution_count": 47,
   "metadata": {},
   "outputs": [
    {
     "data": {
      "text/html": [
       "<div>\n",
       "<style>\n",
       "    .dataframe thead tr:only-child th {\n",
       "        text-align: right;\n",
       "    }\n",
       "\n",
       "    .dataframe thead th {\n",
       "        text-align: left;\n",
       "    }\n",
       "\n",
       "    .dataframe tbody tr th {\n",
       "        vertical-align: top;\n",
       "    }\n",
       "</style>\n",
       "<table border=\"1\" class=\"dataframe\">\n",
       "  <thead>\n",
       "    <tr style=\"text-align: right;\">\n",
       "      <th></th>\n",
       "      <th>id</th>\n",
       "      <th>price</th>\n",
       "      <th>space</th>\n",
       "      <th>beds</th>\n",
       "      <th>bedrooms</th>\n",
       "      <th>bathrooms</th>\n",
       "      <th>neighbourhood</th>\n",
       "      <th>accommodates</th>\n",
       "      <th>host_is_superhost</th>\n",
       "      <th>instant_bookable</th>\n",
       "    </tr>\n",
       "  </thead>\n",
       "  <tbody>\n",
       "    <tr>\n",
       "      <th>0</th>\n",
       "      <td>17878</td>\n",
       "      <td>300.0</td>\n",
       "      <td>- large balcony which looks out on pedestrian ...</td>\n",
       "      <td>2.0</td>\n",
       "      <td>2.0</td>\n",
       "      <td>1.0</td>\n",
       "      <td>Copacabana</td>\n",
       "      <td>5</td>\n",
       "      <td>f</td>\n",
       "      <td>t</td>\n",
       "    </tr>\n",
       "    <tr>\n",
       "      <th>1</th>\n",
       "      <td>24480</td>\n",
       "      <td>228.0</td>\n",
       "      <td>The studio is located at Vinicius de Moraes St...</td>\n",
       "      <td>1.0</td>\n",
       "      <td>1.0</td>\n",
       "      <td>1.0</td>\n",
       "      <td>Ipanema</td>\n",
       "      <td>2</td>\n",
       "      <td>f</td>\n",
       "      <td>f</td>\n",
       "    </tr>\n",
       "    <tr>\n",
       "      <th>2</th>\n",
       "      <td>25026</td>\n",
       "      <td>159.0</td>\n",
       "      <td>This newly renovated studio (last renovations ...</td>\n",
       "      <td>2.0</td>\n",
       "      <td>1.0</td>\n",
       "      <td>1.0</td>\n",
       "      <td>Copacabana</td>\n",
       "      <td>3</td>\n",
       "      <td>f</td>\n",
       "      <td>f</td>\n",
       "    </tr>\n",
       "    <tr>\n",
       "      <th>3</th>\n",
       "      <td>31560</td>\n",
       "      <td>247.0</td>\n",
       "      <td>This nice and clean 1 bedroom apartment is loc...</td>\n",
       "      <td>2.0</td>\n",
       "      <td>1.0</td>\n",
       "      <td>1.0</td>\n",
       "      <td>Ipanema</td>\n",
       "      <td>3</td>\n",
       "      <td>t</td>\n",
       "      <td>t</td>\n",
       "    </tr>\n",
       "    <tr>\n",
       "      <th>4</th>\n",
       "      <td>35636</td>\n",
       "      <td>342.0</td>\n",
       "      <td>The location is extremely convenient, safe and...</td>\n",
       "      <td>2.0</td>\n",
       "      <td>1.0</td>\n",
       "      <td>1.5</td>\n",
       "      <td>Ipanema</td>\n",
       "      <td>3</td>\n",
       "      <td>t</td>\n",
       "      <td>f</td>\n",
       "    </tr>\n",
       "    <tr>\n",
       "      <th>5</th>\n",
       "      <td>35764</td>\n",
       "      <td>220.0</td>\n",
       "      <td>FEEL LIKE YOUR HOME LIVING AS \"CARIOCA\" LOCAL ...</td>\n",
       "      <td>2.0</td>\n",
       "      <td>1.0</td>\n",
       "      <td>1.0</td>\n",
       "      <td>Copacabana</td>\n",
       "      <td>2</td>\n",
       "      <td>t</td>\n",
       "      <td>t</td>\n",
       "    </tr>\n",
       "    <tr>\n",
       "      <th>6</th>\n",
       "      <td>35893</td>\n",
       "      <td>152.0</td>\n",
       "      <td>Purpose of CopaTabajaras is to provide a nice,...</td>\n",
       "      <td>2.0</td>\n",
       "      <td>1.0</td>\n",
       "      <td>1.0</td>\n",
       "      <td>Copacabana</td>\n",
       "      <td>3</td>\n",
       "      <td>f</td>\n",
       "      <td>f</td>\n",
       "    </tr>\n",
       "    <tr>\n",
       "      <th>7</th>\n",
       "      <td>46937</td>\n",
       "      <td>133.0</td>\n",
       "      <td>I'm the proud onwner of a beautiful studio in ...</td>\n",
       "      <td>2.0</td>\n",
       "      <td>0.0</td>\n",
       "      <td>1.0</td>\n",
       "      <td>Santa Teresa</td>\n",
       "      <td>3</td>\n",
       "      <td>f</td>\n",
       "      <td>f</td>\n",
       "    </tr>\n",
       "    <tr>\n",
       "      <th>9</th>\n",
       "      <td>48726</td>\n",
       "      <td>118.0</td>\n",
       "      <td>Excelente acomodação perto da praia mais famos...</td>\n",
       "      <td>1.0</td>\n",
       "      <td>1.0</td>\n",
       "      <td>1.0</td>\n",
       "      <td>Copacabana</td>\n",
       "      <td>1</td>\n",
       "      <td>t</td>\n",
       "      <td>t</td>\n",
       "    </tr>\n",
       "    <tr>\n",
       "      <th>10</th>\n",
       "      <td>48901</td>\n",
       "      <td>478.0</td>\n",
       "      <td>Excellent 4 bedroom apartment, located on Copa...</td>\n",
       "      <td>6.0</td>\n",
       "      <td>4.0</td>\n",
       "      <td>4.0</td>\n",
       "      <td>Copacabana</td>\n",
       "      <td>11</td>\n",
       "      <td>f</td>\n",
       "      <td>t</td>\n",
       "    </tr>\n",
       "    <tr>\n",
       "      <th>11</th>\n",
       "      <td>48902</td>\n",
       "      <td>99.0</td>\n",
       "      <td>1 bedroom located on a quiet and safe street w...</td>\n",
       "      <td>0.0</td>\n",
       "      <td>1.0</td>\n",
       "      <td>1.0</td>\n",
       "      <td>NaN</td>\n",
       "      <td>3</td>\n",
       "      <td>f</td>\n",
       "      <td>f</td>\n",
       "    </tr>\n",
       "    <tr>\n",
       "      <th>12</th>\n",
       "      <td>49179</td>\n",
       "      <td>171.0</td>\n",
       "      <td>Apartment in Copacabana with stunning sea view...</td>\n",
       "      <td>2.0</td>\n",
       "      <td>1.0</td>\n",
       "      <td>1.0</td>\n",
       "      <td>Copacabana</td>\n",
       "      <td>3</td>\n",
       "      <td>f</td>\n",
       "      <td>t</td>\n",
       "    </tr>\n",
       "    <tr>\n",
       "      <th>15</th>\n",
       "      <td>51703</td>\n",
       "      <td>144.0</td>\n",
       "      <td>The studio it is complete furnished and equipe...</td>\n",
       "      <td>2.0</td>\n",
       "      <td>0.0</td>\n",
       "      <td>1.0</td>\n",
       "      <td>Copacabana</td>\n",
       "      <td>2</td>\n",
       "      <td>t</td>\n",
       "      <td>t</td>\n",
       "    </tr>\n",
       "    <tr>\n",
       "      <th>16</th>\n",
       "      <td>55002</td>\n",
       "      <td>80.0</td>\n",
       "      <td>The apartment has 90m2, I live there in my roo...</td>\n",
       "      <td>1.0</td>\n",
       "      <td>1.0</td>\n",
       "      <td>2.0</td>\n",
       "      <td>Ipanema</td>\n",
       "      <td>1</td>\n",
       "      <td>f</td>\n",
       "      <td>f</td>\n",
       "    </tr>\n",
       "    <tr>\n",
       "      <th>19</th>\n",
       "      <td>64795</td>\n",
       "      <td>399.0</td>\n",
       "      <td>Amazing apartment finely decorated in the hear...</td>\n",
       "      <td>2.0</td>\n",
       "      <td>2.0</td>\n",
       "      <td>3.0</td>\n",
       "      <td>Ipanema</td>\n",
       "      <td>4</td>\n",
       "      <td>f</td>\n",
       "      <td>f</td>\n",
       "    </tr>\n",
       "    <tr>\n",
       "      <th>21</th>\n",
       "      <td>66574</td>\n",
       "      <td>258.0</td>\n",
       "      <td>The flat is rather spacious (120 square meters...</td>\n",
       "      <td>4.0</td>\n",
       "      <td>3.0</td>\n",
       "      <td>2.0</td>\n",
       "      <td>NaN</td>\n",
       "      <td>4</td>\n",
       "      <td>f</td>\n",
       "      <td>f</td>\n",
       "    </tr>\n",
       "    <tr>\n",
       "      <th>22</th>\n",
       "      <td>66797</td>\n",
       "      <td>152.0</td>\n",
       "      <td>Newly renovated studio apartment. Bright and q...</td>\n",
       "      <td>1.0</td>\n",
       "      <td>0.0</td>\n",
       "      <td>1.0</td>\n",
       "      <td>Copacabana</td>\n",
       "      <td>2</td>\n",
       "      <td>t</td>\n",
       "      <td>t</td>\n",
       "    </tr>\n",
       "    <tr>\n",
       "      <th>23</th>\n",
       "      <td>68422</td>\n",
       "      <td>110.0</td>\n",
       "      <td>I am renting this cozy room in a building on t...</td>\n",
       "      <td>1.0</td>\n",
       "      <td>1.0</td>\n",
       "      <td>1.0</td>\n",
       "      <td>Copacabana</td>\n",
       "      <td>2</td>\n",
       "      <td>f</td>\n",
       "      <td>f</td>\n",
       "    </tr>\n",
       "    <tr>\n",
       "      <th>24</th>\n",
       "      <td>70080</td>\n",
       "      <td>342.0</td>\n",
       "      <td>Apart-hotel Ipanema with garage - best place i...</td>\n",
       "      <td>4.0</td>\n",
       "      <td>1.0</td>\n",
       "      <td>1.0</td>\n",
       "      <td>Ipanema</td>\n",
       "      <td>5</td>\n",
       "      <td>t</td>\n",
       "      <td>t</td>\n",
       "    </tr>\n",
       "    <tr>\n",
       "      <th>25</th>\n",
       "      <td>70526</td>\n",
       "      <td>456.0</td>\n",
       "      <td>This is a confortable and safe family house in...</td>\n",
       "      <td>2.0</td>\n",
       "      <td>1.0</td>\n",
       "      <td>1.0</td>\n",
       "      <td>Leblon</td>\n",
       "      <td>2</td>\n",
       "      <td>f</td>\n",
       "      <td>f</td>\n",
       "    </tr>\n",
       "    <tr>\n",
       "      <th>26</th>\n",
       "      <td>72900</td>\n",
       "      <td>285.0</td>\n",
       "      <td>Cute Studio only a 2-minute walk to Ipanema Be...</td>\n",
       "      <td>1.0</td>\n",
       "      <td>1.0</td>\n",
       "      <td>1.0</td>\n",
       "      <td>Ipanema</td>\n",
       "      <td>2</td>\n",
       "      <td>f</td>\n",
       "      <td>f</td>\n",
       "    </tr>\n",
       "    <tr>\n",
       "      <th>27</th>\n",
       "      <td>72999</td>\n",
       "      <td>201.0</td>\n",
       "      <td>The suite has all the amenities, with Queen Si...</td>\n",
       "      <td>1.0</td>\n",
       "      <td>1.0</td>\n",
       "      <td>1.0</td>\n",
       "      <td>NaN</td>\n",
       "      <td>2</td>\n",
       "      <td>f</td>\n",
       "      <td>f</td>\n",
       "    </tr>\n",
       "    <tr>\n",
       "      <th>28</th>\n",
       "      <td>73581</td>\n",
       "      <td>118.0</td>\n",
       "      <td>Nice and comfortable private studio apartment ...</td>\n",
       "      <td>1.0</td>\n",
       "      <td>1.0</td>\n",
       "      <td>1.0</td>\n",
       "      <td>Copacabana</td>\n",
       "      <td>4</td>\n",
       "      <td>f</td>\n",
       "      <td>f</td>\n",
       "    </tr>\n",
       "    <tr>\n",
       "      <th>29</th>\n",
       "      <td>75148</td>\n",
       "      <td>110.0</td>\n",
       "      <td>This excellent apartment located  the lively a...</td>\n",
       "      <td>1.0</td>\n",
       "      <td>1.0</td>\n",
       "      <td>1.0</td>\n",
       "      <td>Copacabana</td>\n",
       "      <td>4</td>\n",
       "      <td>f</td>\n",
       "      <td>t</td>\n",
       "    </tr>\n",
       "    <tr>\n",
       "      <th>30</th>\n",
       "      <td>75585</td>\n",
       "      <td>277.0</td>\n",
       "      <td>Package deal for New Year and Carnival up to 1...</td>\n",
       "      <td>2.0</td>\n",
       "      <td>2.0</td>\n",
       "      <td>1.0</td>\n",
       "      <td>Copacabana</td>\n",
       "      <td>4</td>\n",
       "      <td>f</td>\n",
       "      <td>t</td>\n",
       "    </tr>\n",
       "    <tr>\n",
       "      <th>31</th>\n",
       "      <td>76245</td>\n",
       "      <td>342.0</td>\n",
       "      <td>In the period of  New Year and Carnival, the m...</td>\n",
       "      <td>8.0</td>\n",
       "      <td>4.0</td>\n",
       "      <td>4.0</td>\n",
       "      <td>Copacabana</td>\n",
       "      <td>12</td>\n",
       "      <td>f</td>\n",
       "      <td>t</td>\n",
       "    </tr>\n",
       "    <tr>\n",
       "      <th>32</th>\n",
       "      <td>76300</td>\n",
       "      <td>171.0</td>\n",
       "      <td>----------------------------------------------...</td>\n",
       "      <td>10.0</td>\n",
       "      <td>7.0</td>\n",
       "      <td>5.0</td>\n",
       "      <td>Santa Teresa</td>\n",
       "      <td>16</td>\n",
       "      <td>t</td>\n",
       "      <td>f</td>\n",
       "    </tr>\n",
       "    <tr>\n",
       "      <th>33</th>\n",
       "      <td>76496</td>\n",
       "      <td>201.0</td>\n",
       "      <td>Hi, my name is Helena and I'd like to comment ...</td>\n",
       "      <td>1.0</td>\n",
       "      <td>1.0</td>\n",
       "      <td>1.5</td>\n",
       "      <td>Copacabana</td>\n",
       "      <td>2</td>\n",
       "      <td>f</td>\n",
       "      <td>f</td>\n",
       "    </tr>\n",
       "    <tr>\n",
       "      <th>34</th>\n",
       "      <td>77318</td>\n",
       "      <td>140.0</td>\n",
       "      <td>The apartment itself is the best place you can...</td>\n",
       "      <td>2.0</td>\n",
       "      <td>1.0</td>\n",
       "      <td>1.0</td>\n",
       "      <td>Gávea</td>\n",
       "      <td>3</td>\n",
       "      <td>f</td>\n",
       "      <td>t</td>\n",
       "    </tr>\n",
       "    <tr>\n",
       "      <th>35</th>\n",
       "      <td>80145</td>\n",
       "      <td>76.0</td>\n",
       "      <td>I am offering you a room with a doubble window...</td>\n",
       "      <td>1.0</td>\n",
       "      <td>1.0</td>\n",
       "      <td>2.0</td>\n",
       "      <td>Santa Teresa</td>\n",
       "      <td>2</td>\n",
       "      <td>f</td>\n",
       "      <td>t</td>\n",
       "    </tr>\n",
       "    <tr>\n",
       "      <th>...</th>\n",
       "      <td>...</td>\n",
       "      <td>...</td>\n",
       "      <td>...</td>\n",
       "      <td>...</td>\n",
       "      <td>...</td>\n",
       "      <td>...</td>\n",
       "      <td>...</td>\n",
       "      <td>...</td>\n",
       "      <td>...</td>\n",
       "      <td>...</td>\n",
       "    </tr>\n",
       "    <tr>\n",
       "      <th>35567</th>\n",
       "      <td>30018355</td>\n",
       "      <td>99.0</td>\n",
       "      <td>NaN</td>\n",
       "      <td>3.0</td>\n",
       "      <td>1.0</td>\n",
       "      <td>1.0</td>\n",
       "      <td>Urca</td>\n",
       "      <td>1</td>\n",
       "      <td>f</td>\n",
       "      <td>t</td>\n",
       "    </tr>\n",
       "    <tr>\n",
       "      <th>35568</th>\n",
       "      <td>30018573</td>\n",
       "      <td>307.0</td>\n",
       "      <td>NaN</td>\n",
       "      <td>2.0</td>\n",
       "      <td>1.0</td>\n",
       "      <td>1.0</td>\n",
       "      <td>Botafogo</td>\n",
       "      <td>5</td>\n",
       "      <td>f</td>\n",
       "      <td>f</td>\n",
       "    </tr>\n",
       "    <tr>\n",
       "      <th>35569</th>\n",
       "      <td>30018959</td>\n",
       "      <td>159.0</td>\n",
       "      <td>O sofá-cama é muito confortável, com colchão d...</td>\n",
       "      <td>1.0</td>\n",
       "      <td>0.0</td>\n",
       "      <td>1.0</td>\n",
       "      <td>Santa Teresa</td>\n",
       "      <td>2</td>\n",
       "      <td>f</td>\n",
       "      <td>t</td>\n",
       "    </tr>\n",
       "    <tr>\n",
       "      <th>35571</th>\n",
       "      <td>30020111</td>\n",
       "      <td>600.0</td>\n",
       "      <td>NaN</td>\n",
       "      <td>6.0</td>\n",
       "      <td>2.0</td>\n",
       "      <td>1.0</td>\n",
       "      <td>NaN</td>\n",
       "      <td>8</td>\n",
       "      <td>f</td>\n",
       "      <td>t</td>\n",
       "    </tr>\n",
       "    <tr>\n",
       "      <th>35572</th>\n",
       "      <td>30020260</td>\n",
       "      <td>91.0</td>\n",
       "      <td>NaN</td>\n",
       "      <td>2.0</td>\n",
       "      <td>1.0</td>\n",
       "      <td>1.0</td>\n",
       "      <td>Barra da Tijuca</td>\n",
       "      <td>2</td>\n",
       "      <td>f</td>\n",
       "      <td>f</td>\n",
       "    </tr>\n",
       "    <tr>\n",
       "      <th>35576</th>\n",
       "      <td>30029572</td>\n",
       "      <td>178.0</td>\n",
       "      <td>NaN</td>\n",
       "      <td>2.0</td>\n",
       "      <td>1.0</td>\n",
       "      <td>1.0</td>\n",
       "      <td>Botafogo</td>\n",
       "      <td>2</td>\n",
       "      <td>f</td>\n",
       "      <td>t</td>\n",
       "    </tr>\n",
       "    <tr>\n",
       "      <th>35577</th>\n",
       "      <td>30032152</td>\n",
       "      <td>418.0</td>\n",
       "      <td>Apartamento tranquilo, silenciado, claro e are...</td>\n",
       "      <td>3.0</td>\n",
       "      <td>2.0</td>\n",
       "      <td>1.5</td>\n",
       "      <td>Leblon</td>\n",
       "      <td>5</td>\n",
       "      <td>t</td>\n",
       "      <td>f</td>\n",
       "    </tr>\n",
       "    <tr>\n",
       "      <th>35578</th>\n",
       "      <td>30032258</td>\n",
       "      <td>152.0</td>\n",
       "      <td>NaN</td>\n",
       "      <td>1.0</td>\n",
       "      <td>0.0</td>\n",
       "      <td>1.0</td>\n",
       "      <td>Barra da Tijuca</td>\n",
       "      <td>1</td>\n",
       "      <td>f</td>\n",
       "      <td>t</td>\n",
       "    </tr>\n",
       "    <tr>\n",
       "      <th>35579</th>\n",
       "      <td>30033135</td>\n",
       "      <td>300.0</td>\n",
       "      <td>NaN</td>\n",
       "      <td>3.0</td>\n",
       "      <td>0.0</td>\n",
       "      <td>1.0</td>\n",
       "      <td>Copacabana</td>\n",
       "      <td>4</td>\n",
       "      <td>f</td>\n",
       "      <td>t</td>\n",
       "    </tr>\n",
       "    <tr>\n",
       "      <th>35580</th>\n",
       "      <td>30034513</td>\n",
       "      <td>205.0</td>\n",
       "      <td>NaN</td>\n",
       "      <td>2.0</td>\n",
       "      <td>1.0</td>\n",
       "      <td>1.0</td>\n",
       "      <td>Lapa</td>\n",
       "      <td>4</td>\n",
       "      <td>f</td>\n",
       "      <td>f</td>\n",
       "    </tr>\n",
       "    <tr>\n",
       "      <th>35582</th>\n",
       "      <td>30035239</td>\n",
       "      <td>311.0</td>\n",
       "      <td>Uma casa histórica com a arquitetura do inicio...</td>\n",
       "      <td>3.0</td>\n",
       "      <td>2.0</td>\n",
       "      <td>1.0</td>\n",
       "      <td>Cosme Velho</td>\n",
       "      <td>4</td>\n",
       "      <td>f</td>\n",
       "      <td>f</td>\n",
       "    </tr>\n",
       "    <tr>\n",
       "      <th>35583</th>\n",
       "      <td>30035291</td>\n",
       "      <td>201.0</td>\n",
       "      <td>A inspiração desse projeto é trazer o mar para...</td>\n",
       "      <td>3.0</td>\n",
       "      <td>0.0</td>\n",
       "      <td>1.0</td>\n",
       "      <td>Copacabana</td>\n",
       "      <td>4</td>\n",
       "      <td>t</td>\n",
       "      <td>t</td>\n",
       "    </tr>\n",
       "    <tr>\n",
       "      <th>35584</th>\n",
       "      <td>30035710</td>\n",
       "      <td>399.0</td>\n",
       "      <td>NaN</td>\n",
       "      <td>2.0</td>\n",
       "      <td>1.0</td>\n",
       "      <td>1.0</td>\n",
       "      <td>Lagoa</td>\n",
       "      <td>2</td>\n",
       "      <td>f</td>\n",
       "      <td>t</td>\n",
       "    </tr>\n",
       "    <tr>\n",
       "      <th>35585</th>\n",
       "      <td>30035826</td>\n",
       "      <td>125.0</td>\n",
       "      <td>O quarto é amplo, bastante aconchegante, com b...</td>\n",
       "      <td>1.0</td>\n",
       "      <td>1.0</td>\n",
       "      <td>1.0</td>\n",
       "      <td>Botafogo</td>\n",
       "      <td>2</td>\n",
       "      <td>f</td>\n",
       "      <td>t</td>\n",
       "    </tr>\n",
       "    <tr>\n",
       "      <th>35586</th>\n",
       "      <td>30036187</td>\n",
       "      <td>220.0</td>\n",
       "      <td>O apartamento está idealmente localizado em um...</td>\n",
       "      <td>3.0</td>\n",
       "      <td>2.0</td>\n",
       "      <td>2.0</td>\n",
       "      <td>Copacabana</td>\n",
       "      <td>4</td>\n",
       "      <td>f</td>\n",
       "      <td>f</td>\n",
       "    </tr>\n",
       "    <tr>\n",
       "      <th>35587</th>\n",
       "      <td>30036276</td>\n",
       "      <td>501.0</td>\n",
       "      <td>NaN</td>\n",
       "      <td>5.0</td>\n",
       "      <td>4.0</td>\n",
       "      <td>2.0</td>\n",
       "      <td>Barra da Tijuca</td>\n",
       "      <td>8</td>\n",
       "      <td>f</td>\n",
       "      <td>t</td>\n",
       "    </tr>\n",
       "    <tr>\n",
       "      <th>35588</th>\n",
       "      <td>30036543</td>\n",
       "      <td>129.0</td>\n",
       "      <td>NaN</td>\n",
       "      <td>1.0</td>\n",
       "      <td>1.0</td>\n",
       "      <td>1.5</td>\n",
       "      <td>Botafogo</td>\n",
       "      <td>2</td>\n",
       "      <td>f</td>\n",
       "      <td>f</td>\n",
       "    </tr>\n",
       "    <tr>\n",
       "      <th>35589</th>\n",
       "      <td>30037231</td>\n",
       "      <td>300.0</td>\n",
       "      <td>NaN</td>\n",
       "      <td>2.0</td>\n",
       "      <td>1.0</td>\n",
       "      <td>1.0</td>\n",
       "      <td>Leblon</td>\n",
       "      <td>3</td>\n",
       "      <td>f</td>\n",
       "      <td>f</td>\n",
       "    </tr>\n",
       "    <tr>\n",
       "      <th>35590</th>\n",
       "      <td>30037696</td>\n",
       "      <td>251.0</td>\n",
       "      <td>NaN</td>\n",
       "      <td>2.0</td>\n",
       "      <td>1.0</td>\n",
       "      <td>1.0</td>\n",
       "      <td>Barra da Tijuca</td>\n",
       "      <td>3</td>\n",
       "      <td>f</td>\n",
       "      <td>f</td>\n",
       "    </tr>\n",
       "    <tr>\n",
       "      <th>35591</th>\n",
       "      <td>30038164</td>\n",
       "      <td>178.0</td>\n",
       "      <td>Muito aconchegante, condomínio fechado onde a ...</td>\n",
       "      <td>1.0</td>\n",
       "      <td>1.0</td>\n",
       "      <td>1.0</td>\n",
       "      <td>Todos os Santos</td>\n",
       "      <td>4</td>\n",
       "      <td>f</td>\n",
       "      <td>t</td>\n",
       "    </tr>\n",
       "    <tr>\n",
       "      <th>35592</th>\n",
       "      <td>30038813</td>\n",
       "      <td>399.0</td>\n",
       "      <td>NaN</td>\n",
       "      <td>2.0</td>\n",
       "      <td>0.0</td>\n",
       "      <td>1.0</td>\n",
       "      <td>Piedade</td>\n",
       "      <td>4</td>\n",
       "      <td>f</td>\n",
       "      <td>t</td>\n",
       "    </tr>\n",
       "    <tr>\n",
       "      <th>35593</th>\n",
       "      <td>30039128</td>\n",
       "      <td>516.0</td>\n",
       "      <td>NaN</td>\n",
       "      <td>2.0</td>\n",
       "      <td>2.0</td>\n",
       "      <td>2.0</td>\n",
       "      <td>Gávea</td>\n",
       "      <td>4</td>\n",
       "      <td>t</td>\n",
       "      <td>f</td>\n",
       "    </tr>\n",
       "    <tr>\n",
       "      <th>35594</th>\n",
       "      <td>30039524</td>\n",
       "      <td>171.0</td>\n",
       "      <td>Aconchegante e espaçoso, tudo reformado</td>\n",
       "      <td>4.0</td>\n",
       "      <td>0.0</td>\n",
       "      <td>1.0</td>\n",
       "      <td>Copacabana</td>\n",
       "      <td>4</td>\n",
       "      <td>t</td>\n",
       "      <td>t</td>\n",
       "    </tr>\n",
       "    <tr>\n",
       "      <th>35595</th>\n",
       "      <td>30039804</td>\n",
       "      <td>501.0</td>\n",
       "      <td>NaN</td>\n",
       "      <td>4.0</td>\n",
       "      <td>2.0</td>\n",
       "      <td>3.0</td>\n",
       "      <td>Copacabana</td>\n",
       "      <td>6</td>\n",
       "      <td>f</td>\n",
       "      <td>t</td>\n",
       "    </tr>\n",
       "    <tr>\n",
       "      <th>35596</th>\n",
       "      <td>30040489</td>\n",
       "      <td>163.0</td>\n",
       "      <td>É um apartamento de fundos com vista para mata...</td>\n",
       "      <td>2.0</td>\n",
       "      <td>1.0</td>\n",
       "      <td>1.0</td>\n",
       "      <td>Laranjeiras</td>\n",
       "      <td>3</td>\n",
       "      <td>f</td>\n",
       "      <td>t</td>\n",
       "    </tr>\n",
       "    <tr>\n",
       "      <th>35597</th>\n",
       "      <td>30040997</td>\n",
       "      <td>159.0</td>\n",
       "      <td>NaN</td>\n",
       "      <td>2.0</td>\n",
       "      <td>1.0</td>\n",
       "      <td>1.0</td>\n",
       "      <td>Jardim Botânico</td>\n",
       "      <td>2</td>\n",
       "      <td>f</td>\n",
       "      <td>f</td>\n",
       "    </tr>\n",
       "    <tr>\n",
       "      <th>35598</th>\n",
       "      <td>30041929</td>\n",
       "      <td>501.0</td>\n",
       "      <td>NaN</td>\n",
       "      <td>7.0</td>\n",
       "      <td>4.0</td>\n",
       "      <td>4.0</td>\n",
       "      <td>Barra da Tijuca</td>\n",
       "      <td>11</td>\n",
       "      <td>f</td>\n",
       "      <td>f</td>\n",
       "    </tr>\n",
       "    <tr>\n",
       "      <th>35599</th>\n",
       "      <td>30042037</td>\n",
       "      <td>80.0</td>\n",
       "      <td>Apartment located on the third floor, with: El...</td>\n",
       "      <td>2.0</td>\n",
       "      <td>1.0</td>\n",
       "      <td>1.0</td>\n",
       "      <td>Tijuca</td>\n",
       "      <td>2</td>\n",
       "      <td>f</td>\n",
       "      <td>f</td>\n",
       "    </tr>\n",
       "    <tr>\n",
       "      <th>35600</th>\n",
       "      <td>30042464</td>\n",
       "      <td>334.0</td>\n",
       "      <td>First room: has all you need. Second room: is ...</td>\n",
       "      <td>5.0</td>\n",
       "      <td>2.0</td>\n",
       "      <td>1.0</td>\n",
       "      <td>Copacabana</td>\n",
       "      <td>5</td>\n",
       "      <td>f</td>\n",
       "      <td>t</td>\n",
       "    </tr>\n",
       "    <tr>\n",
       "      <th>35601</th>\n",
       "      <td>30042682</td>\n",
       "      <td>178.0</td>\n",
       "      <td>NaN</td>\n",
       "      <td>1.0</td>\n",
       "      <td>1.0</td>\n",
       "      <td>1.0</td>\n",
       "      <td>Higienópolis</td>\n",
       "      <td>4</td>\n",
       "      <td>f</td>\n",
       "      <td>t</td>\n",
       "    </tr>\n",
       "  </tbody>\n",
       "</table>\n",
       "<p>26886 rows × 10 columns</p>\n",
       "</div>"
      ],
      "text/plain": [
       "             id  price                                              space  \\\n",
       "0         17878  300.0  - large balcony which looks out on pedestrian ...   \n",
       "1         24480  228.0  The studio is located at Vinicius de Moraes St...   \n",
       "2         25026  159.0  This newly renovated studio (last renovations ...   \n",
       "3         31560  247.0  This nice and clean 1 bedroom apartment is loc...   \n",
       "4         35636  342.0  The location is extremely convenient, safe and...   \n",
       "5         35764  220.0  FEEL LIKE YOUR HOME LIVING AS \"CARIOCA\" LOCAL ...   \n",
       "6         35893  152.0  Purpose of CopaTabajaras is to provide a nice,...   \n",
       "7         46937  133.0  I'm the proud onwner of a beautiful studio in ...   \n",
       "9         48726  118.0  Excelente acomodação perto da praia mais famos...   \n",
       "10        48901  478.0  Excellent 4 bedroom apartment, located on Copa...   \n",
       "11        48902   99.0  1 bedroom located on a quiet and safe street w...   \n",
       "12        49179  171.0  Apartment in Copacabana with stunning sea view...   \n",
       "15        51703  144.0  The studio it is complete furnished and equipe...   \n",
       "16        55002   80.0  The apartment has 90m2, I live there in my roo...   \n",
       "19        64795  399.0  Amazing apartment finely decorated in the hear...   \n",
       "21        66574  258.0  The flat is rather spacious (120 square meters...   \n",
       "22        66797  152.0  Newly renovated studio apartment. Bright and q...   \n",
       "23        68422  110.0  I am renting this cozy room in a building on t...   \n",
       "24        70080  342.0  Apart-hotel Ipanema with garage - best place i...   \n",
       "25        70526  456.0  This is a confortable and safe family house in...   \n",
       "26        72900  285.0  Cute Studio only a 2-minute walk to Ipanema Be...   \n",
       "27        72999  201.0  The suite has all the amenities, with Queen Si...   \n",
       "28        73581  118.0  Nice and comfortable private studio apartment ...   \n",
       "29        75148  110.0  This excellent apartment located  the lively a...   \n",
       "30        75585  277.0  Package deal for New Year and Carnival up to 1...   \n",
       "31        76245  342.0  In the period of  New Year and Carnival, the m...   \n",
       "32        76300  171.0  ----------------------------------------------...   \n",
       "33        76496  201.0  Hi, my name is Helena and I'd like to comment ...   \n",
       "34        77318  140.0  The apartment itself is the best place you can...   \n",
       "35        80145   76.0  I am offering you a room with a doubble window...   \n",
       "...         ...    ...                                                ...   \n",
       "35567  30018355   99.0                                                NaN   \n",
       "35568  30018573  307.0                                                NaN   \n",
       "35569  30018959  159.0  O sofá-cama é muito confortável, com colchão d...   \n",
       "35571  30020111  600.0                                                NaN   \n",
       "35572  30020260   91.0                                                NaN   \n",
       "35576  30029572  178.0                                                NaN   \n",
       "35577  30032152  418.0  Apartamento tranquilo, silenciado, claro e are...   \n",
       "35578  30032258  152.0                                                NaN   \n",
       "35579  30033135  300.0                                                NaN   \n",
       "35580  30034513  205.0                                                NaN   \n",
       "35582  30035239  311.0  Uma casa histórica com a arquitetura do inicio...   \n",
       "35583  30035291  201.0  A inspiração desse projeto é trazer o mar para...   \n",
       "35584  30035710  399.0                                                NaN   \n",
       "35585  30035826  125.0  O quarto é amplo, bastante aconchegante, com b...   \n",
       "35586  30036187  220.0  O apartamento está idealmente localizado em um...   \n",
       "35587  30036276  501.0                                                NaN   \n",
       "35588  30036543  129.0                                                NaN   \n",
       "35589  30037231  300.0                                                NaN   \n",
       "35590  30037696  251.0                                                NaN   \n",
       "35591  30038164  178.0  Muito aconchegante, condomínio fechado onde a ...   \n",
       "35592  30038813  399.0                                                NaN   \n",
       "35593  30039128  516.0                                                NaN   \n",
       "35594  30039524  171.0            Aconchegante e espaçoso, tudo reformado   \n",
       "35595  30039804  501.0                                                NaN   \n",
       "35596  30040489  163.0  É um apartamento de fundos com vista para mata...   \n",
       "35597  30040997  159.0                                                NaN   \n",
       "35598  30041929  501.0                                                NaN   \n",
       "35599  30042037   80.0  Apartment located on the third floor, with: El...   \n",
       "35600  30042464  334.0  First room: has all you need. Second room: is ...   \n",
       "35601  30042682  178.0                                                NaN   \n",
       "\n",
       "       beds  bedrooms  bathrooms    neighbourhood  accommodates  \\\n",
       "0       2.0       2.0        1.0       Copacabana             5   \n",
       "1       1.0       1.0        1.0          Ipanema             2   \n",
       "2       2.0       1.0        1.0       Copacabana             3   \n",
       "3       2.0       1.0        1.0          Ipanema             3   \n",
       "4       2.0       1.0        1.5          Ipanema             3   \n",
       "5       2.0       1.0        1.0       Copacabana             2   \n",
       "6       2.0       1.0        1.0       Copacabana             3   \n",
       "7       2.0       0.0        1.0     Santa Teresa             3   \n",
       "9       1.0       1.0        1.0       Copacabana             1   \n",
       "10      6.0       4.0        4.0       Copacabana            11   \n",
       "11      0.0       1.0        1.0              NaN             3   \n",
       "12      2.0       1.0        1.0       Copacabana             3   \n",
       "15      2.0       0.0        1.0       Copacabana             2   \n",
       "16      1.0       1.0        2.0          Ipanema             1   \n",
       "19      2.0       2.0        3.0          Ipanema             4   \n",
       "21      4.0       3.0        2.0              NaN             4   \n",
       "22      1.0       0.0        1.0       Copacabana             2   \n",
       "23      1.0       1.0        1.0       Copacabana             2   \n",
       "24      4.0       1.0        1.0          Ipanema             5   \n",
       "25      2.0       1.0        1.0           Leblon             2   \n",
       "26      1.0       1.0        1.0          Ipanema             2   \n",
       "27      1.0       1.0        1.0              NaN             2   \n",
       "28      1.0       1.0        1.0       Copacabana             4   \n",
       "29      1.0       1.0        1.0       Copacabana             4   \n",
       "30      2.0       2.0        1.0       Copacabana             4   \n",
       "31      8.0       4.0        4.0       Copacabana            12   \n",
       "32     10.0       7.0        5.0     Santa Teresa            16   \n",
       "33      1.0       1.0        1.5       Copacabana             2   \n",
       "34      2.0       1.0        1.0            Gávea             3   \n",
       "35      1.0       1.0        2.0     Santa Teresa             2   \n",
       "...     ...       ...        ...              ...           ...   \n",
       "35567   3.0       1.0        1.0             Urca             1   \n",
       "35568   2.0       1.0        1.0         Botafogo             5   \n",
       "35569   1.0       0.0        1.0     Santa Teresa             2   \n",
       "35571   6.0       2.0        1.0              NaN             8   \n",
       "35572   2.0       1.0        1.0  Barra da Tijuca             2   \n",
       "35576   2.0       1.0        1.0         Botafogo             2   \n",
       "35577   3.0       2.0        1.5           Leblon             5   \n",
       "35578   1.0       0.0        1.0  Barra da Tijuca             1   \n",
       "35579   3.0       0.0        1.0       Copacabana             4   \n",
       "35580   2.0       1.0        1.0             Lapa             4   \n",
       "35582   3.0       2.0        1.0      Cosme Velho             4   \n",
       "35583   3.0       0.0        1.0       Copacabana             4   \n",
       "35584   2.0       1.0        1.0            Lagoa             2   \n",
       "35585   1.0       1.0        1.0         Botafogo             2   \n",
       "35586   3.0       2.0        2.0       Copacabana             4   \n",
       "35587   5.0       4.0        2.0  Barra da Tijuca             8   \n",
       "35588   1.0       1.0        1.5         Botafogo             2   \n",
       "35589   2.0       1.0        1.0           Leblon             3   \n",
       "35590   2.0       1.0        1.0  Barra da Tijuca             3   \n",
       "35591   1.0       1.0        1.0  Todos os Santos             4   \n",
       "35592   2.0       0.0        1.0          Piedade             4   \n",
       "35593   2.0       2.0        2.0            Gávea             4   \n",
       "35594   4.0       0.0        1.0       Copacabana             4   \n",
       "35595   4.0       2.0        3.0       Copacabana             6   \n",
       "35596   2.0       1.0        1.0      Laranjeiras             3   \n",
       "35597   2.0       1.0        1.0  Jardim Botânico             2   \n",
       "35598   7.0       4.0        4.0  Barra da Tijuca            11   \n",
       "35599   2.0       1.0        1.0           Tijuca             2   \n",
       "35600   5.0       2.0        1.0       Copacabana             5   \n",
       "35601   1.0       1.0        1.0     Higienópolis             4   \n",
       "\n",
       "      host_is_superhost instant_bookable  \n",
       "0                     f                t  \n",
       "1                     f                f  \n",
       "2                     f                f  \n",
       "3                     t                t  \n",
       "4                     t                f  \n",
       "5                     t                t  \n",
       "6                     f                f  \n",
       "7                     f                f  \n",
       "9                     t                t  \n",
       "10                    f                t  \n",
       "11                    f                f  \n",
       "12                    f                t  \n",
       "15                    t                t  \n",
       "16                    f                f  \n",
       "19                    f                f  \n",
       "21                    f                f  \n",
       "22                    t                t  \n",
       "23                    f                f  \n",
       "24                    t                t  \n",
       "25                    f                f  \n",
       "26                    f                f  \n",
       "27                    f                f  \n",
       "28                    f                f  \n",
       "29                    f                t  \n",
       "30                    f                t  \n",
       "31                    f                t  \n",
       "32                    t                f  \n",
       "33                    f                f  \n",
       "34                    f                t  \n",
       "35                    f                t  \n",
       "...                 ...              ...  \n",
       "35567                 f                t  \n",
       "35568                 f                f  \n",
       "35569                 f                t  \n",
       "35571                 f                t  \n",
       "35572                 f                f  \n",
       "35576                 f                t  \n",
       "35577                 t                f  \n",
       "35578                 f                t  \n",
       "35579                 f                t  \n",
       "35580                 f                f  \n",
       "35582                 f                f  \n",
       "35583                 t                t  \n",
       "35584                 f                t  \n",
       "35585                 f                t  \n",
       "35586                 f                f  \n",
       "35587                 f                t  \n",
       "35588                 f                f  \n",
       "35589                 f                f  \n",
       "35590                 f                f  \n",
       "35591                 f                t  \n",
       "35592                 f                t  \n",
       "35593                 t                f  \n",
       "35594                 t                t  \n",
       "35595                 f                t  \n",
       "35596                 f                t  \n",
       "35597                 f                f  \n",
       "35598                 f                f  \n",
       "35599                 f                f  \n",
       "35600                 f                t  \n",
       "35601                 f                t  \n",
       "\n",
       "[26886 rows x 10 columns]"
      ]
     },
     "execution_count": 47,
     "metadata": {},
     "output_type": "execute_result"
    }
   ],
   "source": [
    "df[df['price']<=df['price'].mean()]"
   ]
  },
  {
   "cell_type": "code",
   "execution_count": 48,
   "metadata": {},
   "outputs": [
    {
     "data": {
      "text/plain": [
       "0        2.0\n",
       "1        1.0\n",
       "2        1.0\n",
       "3        1.0\n",
       "4        1.0\n",
       "5        1.0\n",
       "6        1.0\n",
       "7        0.0\n",
       "9        1.0\n",
       "10       4.0\n",
       "11       1.0\n",
       "12       1.0\n",
       "15       0.0\n",
       "16       1.0\n",
       "19       2.0\n",
       "21       3.0\n",
       "22       0.0\n",
       "23       1.0\n",
       "24       1.0\n",
       "25       1.0\n",
       "26       1.0\n",
       "27       1.0\n",
       "28       1.0\n",
       "29       1.0\n",
       "30       2.0\n",
       "31       4.0\n",
       "32       7.0\n",
       "33       1.0\n",
       "34       1.0\n",
       "35       1.0\n",
       "        ... \n",
       "35567    1.0\n",
       "35568    1.0\n",
       "35569    0.0\n",
       "35571    2.0\n",
       "35572    1.0\n",
       "35576    1.0\n",
       "35577    2.0\n",
       "35578    0.0\n",
       "35579    0.0\n",
       "35580    1.0\n",
       "35582    2.0\n",
       "35583    0.0\n",
       "35584    1.0\n",
       "35585    1.0\n",
       "35586    2.0\n",
       "35587    4.0\n",
       "35588    1.0\n",
       "35589    1.0\n",
       "35590    1.0\n",
       "35591    1.0\n",
       "35592    0.0\n",
       "35593    2.0\n",
       "35594    0.0\n",
       "35595    2.0\n",
       "35596    1.0\n",
       "35597    1.0\n",
       "35598    4.0\n",
       "35599    1.0\n",
       "35600    2.0\n",
       "35601    1.0\n",
       "Name: bedrooms, Length: 26886, dtype: float64"
      ]
     },
     "execution_count": 48,
     "metadata": {},
     "output_type": "execute_result"
    }
   ],
   "source": [
    "df[df['price']<=df['price'].mean()].bedrooms"
   ]
  },
  {
   "cell_type": "code",
   "execution_count": 49,
   "metadata": {},
   "outputs": [
    {
     "data": {
      "text/plain": [
       "37072.0"
      ]
     },
     "execution_count": 49,
     "metadata": {},
     "output_type": "execute_result"
    }
   ],
   "source": [
    "df[df['price']<=df['price'].mean()].bedrooms.sum()"
   ]
  },
  {
   "cell_type": "markdown",
   "metadata": {},
   "source": [
    "Quantos apartamentos com mais de 3 quartos?"
   ]
  },
  {
   "cell_type": "code",
   "execution_count": null,
   "metadata": {
    "collapsed": true
   },
   "outputs": [],
   "source": []
  },
  {
   "cell_type": "markdown",
   "metadata": {},
   "source": [
    "Preço médio do apartamento em Ipanema?"
   ]
  },
  {
   "cell_type": "code",
   "execution_count": null,
   "metadata": {
    "collapsed": true
   },
   "outputs": [],
   "source": []
  },
  {
   "cell_type": "markdown",
   "metadata": {},
   "source": [
    "Preço médio dos apartamentos com 2 quartos em Ipanema?"
   ]
  },
  {
   "cell_type": "code",
   "execution_count": null,
   "metadata": {
    "collapsed": true
   },
   "outputs": [],
   "source": []
  },
  {
   "cell_type": "markdown",
   "metadata": {},
   "source": [
    "O Airbnb tem capacidade de acomodar quantas pessoas no Rio de Janeiro?"
   ]
  },
  {
   "cell_type": "code",
   "execution_count": null,
   "metadata": {
    "collapsed": true
   },
   "outputs": [],
   "source": []
  },
  {
   "cell_type": "markdown",
   "metadata": {},
   "source": [
    "Na média, quantas pessoas se acomoda por cama nos apartamentos ofertados?"
   ]
  },
  {
   "cell_type": "code",
   "execution_count": null,
   "metadata": {
    "collapsed": true
   },
   "outputs": [],
   "source": []
  },
  {
   "cell_type": "markdown",
   "metadata": {},
   "source": [
    "Você vai alugar com o seu chefe, mas por questão de privacidade, precisa de um quarto e um banheiro para cada. Quais são as opções?"
   ]
  },
  {
   "cell_type": "code",
   "execution_count": null,
   "metadata": {
    "collapsed": true
   },
   "outputs": [],
   "source": []
  },
  {
   "cell_type": "markdown",
   "metadata": {},
   "source": [
    "Você disse que tinha feito a reserva mês passado, a viagem é hoje, e agora precisa alugar o mais rápido possível. Quantos sobram?"
   ]
  },
  {
   "cell_type": "code",
   "execution_count": null,
   "metadata": {
    "collapsed": true
   },
   "outputs": [],
   "source": []
  },
  {
   "cell_type": "markdown",
   "metadata": {},
   "source": [
    "O preço máximo que tão podendo pagar é R$ 100,00, e vocês precisam ficar na Lapa..."
   ]
  },
  {
   "cell_type": "code",
   "execution_count": null,
   "metadata": {
    "collapsed": true
   },
   "outputs": [],
   "source": []
  }
 ],
 "metadata": {
  "kernelspec": {
   "display_name": "Python 3",
   "language": "python",
   "name": "python3"
  },
  "language_info": {
   "codemirror_mode": {
    "name": "ipython",
    "version": 3
   },
   "file_extension": ".py",
   "mimetype": "text/x-python",
   "name": "python",
   "nbconvert_exporter": "python",
   "pygments_lexer": "ipython3",
   "version": "3.6.3"
  }
 },
 "nbformat": 4,
 "nbformat_minor": 2
}
