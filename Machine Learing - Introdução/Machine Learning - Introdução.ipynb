{
 "cells": [
  {
   "cell_type": "code",
   "execution_count": null,
   "metadata": {
    "collapsed": true
   },
   "outputs": [],
   "source": [
    "Exemplos de aplicações de Machine Learning\n",
    "\n",
    "- detecção de anomalias, como câncer de mama, \n",
    "- e o sistema por trás dos veículos autônomos, \n",
    "- além de computadores que são capazes de vencer o melhor jogador de xadrez do mundo em uma partida. \n",
    "E isso é só a ponta do iceberg.\n",
    "\n",
    "- Qual seria a abordagem tradicional para resolver estes problemas? Figura 1.1 do Hands-on, pág 5\n"
   ]
  },
  {
   "cell_type": "markdown",
   "metadata": {},
   "source": [
    "Como vocês abordariam esses problemas (sem usar técnicas de Machine Learning)? \n",
    "<o>**1)** Eu procuro entender qual é o problema de fato e que respostas estou buscando\n",
    "<o>**2)** Eu observo os dados e tento identificar alguns padrões que me ajudem a encontrar as respostas\n",
    "<o>**3)** Eu defino um conjunto de regras que resolvam meu problema\n",
    "<o>**4)** Eu programo o computador para que siga este conjunto de regras \n",
    "<o>**4)** O computador me dê as respostas sempre que eu me deparar com um problema parecido"
   ]
  },
  {
   "cell_type": "markdown",
   "metadata": {},
   "source": [
    "# Machine Learning: É o quê?!\n",
    "\n",
    "<img src=ml_class.png>\n",
    "\n",
    "#### O que muda?\n",
    "<o>1) Eu procuro entender qual é o problema de fato e que respostas estou buscando\n",
    "<o>2) Eu programo o computador para que siga um conjunto de regras de aprendizado\n",
    "<o>3) O computador observa os dados e tenta identificar alguns padrões que o ajudem a encontrar as respostas\n",
    "<o>4) O computador me dá as respostas sempre que deparar com um problema parecido\n",
    "\n",
    "#### Só isso? Mas como são possíveis estas aplicações?\n",
    "\n",
    "#### Até onde dá para ir? O passo 1 nunca vai ser substituído.\n",
    "\n",
    "#### Tentando definir *Machine Learning*\n",
    "\n",
    "*\"[Machine Learning é o] campo de estudo que dá aos computadores a habilidade de aprender a executar uma tarefa sem terem sido explicitamente programados para tal.\"* - Arthur Samuel, 1959\n",
    "\n",
    "*\"Dizemos que o programa de computador aprende se sua performance em uma determinada tarefa T, avaliada segundo uma métrica de performance P, melhora com a experiência E.\"* - Tom Mitechell, 1997\n",
    "\n",
    "#### Nossa!! 1959!? Por que só agora eu ouvi falar de *Machine Learning*?\n",
    "- Disponibilidade de dados\n",
    "- Poder computacional"
   ]
  },
  {
   "cell_type": "markdown",
   "metadata": {},
   "source": [
    "# Estatística: Quem precisa dela?\n",
    "\n",
    "\"Há três espécies de mentiras: mentiras, mentiras desvaladas e estatísticas.\" - Benjamin Disraeli\n",
    "\n",
    "#### História da estatística\n",
    "\n",
    "Desde a remota antigüidade, os governos têm se interessado por informações sobre suas populações e riquezas, tendo em vista, principalmente, fins militares e tributários. O registro de informações perde-se no tempo. Confúcio relatou levantamentos feitos na China, há mais de 2000 anos antes da era cristã. No antigo Egito, os faraós fizeram uso sistemático de informações de caráter estatístico, conforme evidenciaram pesquisas arqueológicas. Desses registros também se utilizaram as civilizações pré- colombianas dos maias, astecas e incas. É conhecido de todos os cristãos o recenseamento dos judeus, ordenado pelo Imperador Augusto.\n",
    "\n",
    "Essa prática tem sido continuada nos tempos modernos, por meio dos recenseamentos, dos quais temos um exemplo naquele que se efetua a cada decênio, em nosso País, pela Fundação IBGE, órgão responsável por nossas estatísticas (dados estatísticos) oficiais.\n",
    "\n",
    "\n",
    "Séc. XVII: Pascal e Fermat desenvolvem a teoria das probabilidades motivados pelo estudo dos jogos de azar\n",
    "\n",
    "\n",
    "\n",
    "As primeiras aplicações da estatística estavam voltadas para as necessidades de Estado, na formulação de políticas públicas, fornecendo dados demográficos e econômicos à administração pública. O termo estatística deriva do neolatim statisticum collegium (\"conselho de Estado\") e do Italiano statista (\"estadista\" ou \"político\"). O alemão Statistik, introduzido pela primeira vez por Gottfried Achenwall (1749), designava originalmente a análise de dados sobre o Estado, significando a \"ciência do Estado\" (então chamada aritmética política (political arithmetic) em inglês). Assim, o propósito original da Statistik era fornecer os dados a serem usados pelo governo e outras organizações. A coleta de dados sobre estados e localidades continua, em grande parte através de órgãos estatísticos nacionais e internacionais. Em particular, os censos fornecem informação regular sobre as populações. A abrangência da estatística aumentou no começo do século XIX para incluir a acumulação e análise de dados de maneira geral. \n",
    "\n",
    " O método dos mínimos quadrados foi descrito pela primeira vez por Carl Friedrich Gauss cerca de 1794. O uso de computadores modernos tem permitido a computação de dados estatísticos em larga escala e também tornaram possível novos métodos antes impraticáveis a nossa sociedade.\n",
    "\n",
    "\n",
    "\n",
    "\n",
    "\n",
    "\n",
    "Contextualizar. Normalmente as pessoas acham que não precisa, porque você consegue rodar um modelo e gerar algum resultado, mas...\n",
    "\n",
    "Se você quiser ser uma \"referência\" e ter autonomia -> \n",
    "\n",
    "\"A ignorância é uma benção.\"\n",
    "\n",
    "\"Àquele que puder ser sábio, não lhe perdoamos que não o seja.\" - S. Josemaria Escrivá\n",
    "\n",
    "\n",
    "\n",
    "\n",
    "\n",
    "\n",
    "\n",
    "A Estatística nos dá ferramentas para descrever uma séria de dados, e extrair informações relevantes dele. Machine Learning nasce da estatística e \n",
    "\n",
    "\n",
    "\n"
   ]
  },
  {
   "cell_type": "markdown",
   "metadata": {},
   "source": [
    "História da estatística\n",
    "Origem: Wikipédia, a enciclopédia livre.\n",
    "Saltar para a navegaçãoSaltar para a pesquisa\n",
    "As primeiras aplicações da estatística estavam voltadas para as necessidades de Estado, na formulação de políticas públicas, fornecendo dados demográficos e econômicos à administração pública. A abrangência da estatística aumentou no começo do século XIX para incluir a acumulação e análise de dados de maneira geral. Hoje, a estatística é largamente aplicada nas ciências naturais, e sociais, inclusive na administração pública e privada.\n",
    "\n",
    "Seus fundamentos matemáticos foram postos no século XVII com o desenvolvimento da teoria das probabilidades por Pascal e Fermat, que surgiu com o estudo dos jogos de azar. O método dos mínimos quadrados foi descrito pela primeira vez por Carl Friedrich Gauss cerca de 1794. O uso de computadores modernos tem permitido a computação de dados estatísticos em larga escala e também tornaram possível novos métodos antes impraticáveis a nossa sociedade.\n",
    "\n",
    "\n",
    "Índice\n",
    "1\tEtimologia\n",
    "2\tOrigens na probabilidade\n",
    "3\tA estatística hoje\n",
    "4\tPessoas importantes no desenvolvimento da estatística\n",
    "5\tBibliografia\n",
    "6\tReferências\n",
    "Etimologia[editar | editar código-fonte]\n",
    "O termo estatística deriva do neolatim statisticum collegium (\"conselho de Estado\") e do Italiano statista (\"estadista\" ou \"político\"). O alemão Statistik, introduzido pela primeira vez por Gottfried Achenwall (1749), designava originalmente a análise de dados sobre o Estado, significando a \"ciência do Estado\" (então chamada aritmética política (political arithmetic) em inglês). A palavra adquiriu o significado de coleta e classificação de dados em geral através de Sir John Sinclair.\n",
    "\n",
    "Assim, o propósito original da Statistik era fornecer os dados a serem usados pelo governo e outras organizações. A coleta de dados sobre estados e localidades continua, em grande parte através de órgãos estatísticos nacionais e internacionais. Em particular, os censos fornecem informação regular sobre as populações.\n",
    "\n",
    "Origens na probabilidade[editar | editar código-fonte]\n",
    "Os métodos matemáticos da estatística emergiram da teoria das probabilidades, que remonta à correspondência entre Pierre de Fermat e Blaise Pascal (1654). Christiaan Huygens (1657) deu o tratamento científico mais antigo que se conhece sobre o assunto. A obra póstuma Ars Conjectandi (1713) de Jakob Bernoulli e Abraham de Moivre, The Doctrine of Chances (1718) tratou o assunto como um ramo da matemática.[1] Na era moderna, a obra de Kolmogorov tem sido útil na formulação dos modelos fundamentais da teoria das probabilidades, imprescindíveis à estatística."
   ]
  },
  {
   "cell_type": "code",
   "execution_count": null,
   "metadata": {
    "collapsed": true
   },
   "outputs": [],
   "source": []
  },
  {
   "cell_type": "markdown",
   "metadata": {},
   "source": []
  },
  {
   "cell_type": "code",
   "execution_count": null,
   "metadata": {
    "collapsed": true
   },
   "outputs": [],
   "source": []
  },
  {
   "cell_type": "code",
   "execution_count": null,
   "metadata": {
    "collapsed": true
   },
   "outputs": [],
   "source": [
    "Como Machine Learning é utilizado nestas aplicações"
   ]
  },
  {
   "cell_type": "code",
   "execution_count": null,
   "metadata": {
    "collapsed": true
   },
   "outputs": [],
   "source": [
    "Estatística tradicional: \n",
    "    - Qual é a diferença? \n",
    "    - Por que preciso dela?"
   ]
  },
  {
   "cell_type": "code",
   "execution_count": null,
   "metadata": {
    "collapsed": true
   },
   "outputs": [],
   "source": [
    "Conceitos de estatística tradicional introduzidos sempre por exemplos típicos de Machine Learning"
   ]
  },
  {
   "cell_type": "code",
   "execution_count": null,
   "metadata": {
    "collapsed": true
   },
   "outputs": [],
   "source": [
    "Buscar entender o contexto, por que estou aqui?\n",
    "\n",
    "Justiça, verdade, sinceridade...\n",
    "\n",
    "A máquina então é inteligente? Qual é a diferença pra inteligência humana? \n",
    "Machine Learning pode até prever com certa facilidade o que vai acontecer, mas explicar o porquê... \n",
    "Falar com Pe Sergio para ver o que ele acha que dá para introduzir"
   ]
  }
 ],
 "metadata": {
  "kernelspec": {
   "display_name": "Python 3",
   "language": "python",
   "name": "python3"
  },
  "language_info": {
   "codemirror_mode": {
    "name": "ipython",
    "version": 3
   },
   "file_extension": ".py",
   "mimetype": "text/x-python",
   "name": "python",
   "nbconvert_exporter": "python",
   "pygments_lexer": "ipython3",
   "version": "3.6.3"
  }
 },
 "nbformat": 4,
 "nbformat_minor": 2
}
