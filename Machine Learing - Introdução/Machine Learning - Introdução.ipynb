{
  "nbformat": 4,
  "nbformat_minor": 0,
  "metadata": {
    "kernelspec": {
      "display_name": "Python 3",
      "language": "python",
      "name": "python3"
    },
    "language_info": {
      "codemirror_mode": {
        "name": "ipython",
        "version": 3
      },
      "file_extension": ".py",
      "mimetype": "text/x-python",
      "name": "python",
      "nbconvert_exporter": "python",
      "pygments_lexer": "ipython3",
      "version": "3.7.4"
    },
    "colab": {
      "name": "Machine Learning - Introdução.ipynb",
      "provenance": []
    }
  },
  "cells": [
    {
      "cell_type": "code",
      "metadata": {
        "id": "8pVpegksCEYo",
        "colab_type": "code",
        "colab": {
          "base_uri": "https://localhost:8080/",
          "height": 336
        },
        "cellView": "form",
        "outputId": "dd336647-c28f-47c7-a9ba-c8d0829b341a"
      },
      "source": [
        "#@title Carro Autônomo NVIDIA\n",
        "from IPython.display import HTML\n",
        "\n",
        "# Youtube\n",
        "HTML('<iframe width=\"560\" height=\"315\" src=\"https://www.youtube.com/embed/fmVWLr0X1Sk?rel=0&amp;controls=0&amp;showinfo=0\" frameborder=\"0\" allowfullscreen></iframe>')"
      ],
      "execution_count": 3,
      "outputs": [
        {
          "output_type": "execute_result",
          "data": {
            "text/html": [
              "<iframe width=\"560\" height=\"315\" src=\"https://www.youtube.com/embed/fmVWLr0X1Sk?rel=0&amp;controls=0&amp;showinfo=0\" frameborder=\"0\" allowfullscreen></iframe>"
            ],
            "text/plain": [
              "<IPython.core.display.HTML object>"
            ]
          },
          "metadata": {
            "tags": []
          },
          "execution_count": 3
        }
      ]
    },
    {
      "cell_type": "markdown",
      "metadata": {
        "id": "yVySrYqgCEYz",
        "colab_type": "text"
      },
      "source": [
        "Como vocês abordariam esses problemas (sem usar técnicas de Machine Learning)? \n",
        "\n",
        "\n",
        "---\n",
        "\n",
        "\n",
        "<o>**1) Eu procuro** entender o problema \n",
        "\n",
        "<o>**2) Eu defino** um conjunto de regras que resolvam meu problema\n",
        "\n",
        "<o>**3) Eu programo** o computador para que siga este conjunto de regras \n",
        "\n",
        "<o>**4) O computador executa** este conjunto de regras\n",
        "\n",
        "\n",
        "---\n",
        "\n"
      ]
    },
    {
      "cell_type": "markdown",
      "metadata": {
        "id": "8-7Jr49LCEY2",
        "colab_type": "text"
      },
      "source": [
        "# **1) Machine Learning: É o quê?!**\n",
        "\n",
        "<img src=https://github.com/ImersaoIA/classificacao2020/blob/master/Machine%20Learing%20-%20Introdu%C3%A7%C3%A3o/ml_class.png?raw=1>\n",
        "\n",
        "#### **O que muda?**\n",
        "\n",
        "---\n",
        "\n",
        "<o>**1) Eu procuro** entender o problema \n",
        "\n",
        "<o>**2) Eu programo** o computador para que siga um conjunto de regras de aprendizado\n",
        "\n",
        "<o>**3) O computador define** um conjunto de regras que resolvam meu problema\n",
        "\n",
        "<o>**4) O computador executa** este conjunto de regras\n",
        "\n",
        "\n",
        "---\n",
        "\n",
        "#### **Tentando definir *Machine Learning***\n",
        "\n",
        ">\"[Machine Learning é o] campo de estudo que dá aos computadores a habilidade de aprender a executar uma tarefa sem terem sido explicitamente programados para executá-la.\" - Arthur Samuel, 1959\n",
        "\n",
        ">\"Dizemos que o programa de computador aprende se sua performance em uma determinada tarefa T, avaliada segundo uma métrica de performance P, melhora com a experiência E.\" - Tom Mitechell, 1997\n",
        "\n",
        "#### **Nossa!! 1959!? Por que só agora eu ouvi falar de *Machine Learning***?\n",
        "\n",
        "- Poder computacional\n",
        "\n",
        "<img src=\"https://raw.githubusercontent.com/ImersaoIA/classificacao2020/master/Machine%20Learing%20-%20Introdu%C3%A7%C3%A3o/Nasa_1969.png\" style=\"width: 400px;\"/>\n",
        "\n",
        "- Disponibilidade de dados\n",
        "\n",
        "<img src=\"https://raw.githubusercontent.com/ImersaoIA/classificacao2020/master/Machine%20Learing%20-%20Introdu%C3%A7%C3%A3o/Exponential_data.png\" style=\"width: 400px;\"/>\n"
      ]
    },
    {
      "cell_type": "markdown",
      "metadata": {
        "id": "yfHM3M0tFpxL",
        "colab_type": "text"
      },
      "source": [
        "# **2) Tipos de aprendizado**\n",
        "\n",
        "- **Supervisionado:** Existe uma variável resposta bem definida. A partir de um conjunto de observações, o computador aprende a estimar o valor uma variável resposta dados os valores das variáveis explicativas. \n",
        "\n",
        "- **Não-supervisionado:** Não existe uma variável resposta bem definida. A partir de um conjunto de observações, o computador busca reconhecer padrões que permitam agrupar observações similares.\n",
        "\n",
        "- **Por reforço:** Dada uma realidade complexa e bem definida (um jogo por exemplo) o computador aprende por experiência própria na base da tentativa e erro (acertos são recompensados, erros são penalizados)."
      ]
    },
    {
      "cell_type": "markdown",
      "metadata": {
        "id": "A0U2BP9ACEY9",
        "colab_type": "text"
      },
      "source": [
        "# 2) Estatística: Quem precisa dela?\n",
        "\n",
        "A utilização de dados para predições ou inferências não é exclusividade de Machine Learning. Qualquer pessoa que já tenha feito uma aula introdutória de estatística provavelmente já ouviu uma definição similar. E isso, por si só, já levanta uma questão: Qual é a diferença entre Estatística e Machine Learning? Vamos por partes ;)\n",
        "\n",
        "#### De onde vem a estatística?\n",
        "\n",
        "O termo estatística deriva do neolatim statisticum collegium (\"conselho de Estado\") e do Italiano statista (\"estadista\" ou \"político\"). Desde a remota antigüidade, os governos têm se interessado por informações sobre suas populações:\n",
        "- 5.000 a.C. - Antigo Egito: Registro de presos de guerra \n",
        "- 2.238 a.C. - China: Primeiro recenseamento com fins agrícolas e comerciais, ordenado pelo imperador Yao (BAYER et al., 2009)\n",
        "- Roma antiga: Os romanos registravam, por exemplo, os nascimentos e as mortes com o objetivo de taxação e cobrança de impostos, como também para o censo do número de homens aptos a guerrear (LOPES e MEIRELES, 2005). Os cristãos devem lembrar do recenseamento dos judeus, ordenado pelo Imperador Augusto, na época do nascimento de Jesus. \n",
        "- Civilizações pré-colombianas: Registros estatísticos maias, astecas e incas (MEMÓRIA, 2004)\n",
        "- Brasil - Hoje: A cada dez anos o IBGE promove uma série de recenseamentos para coleta dados estatísticos oficiais.\n",
        "\n",
        "Os fundamentos matemáticos da estatística foram postos no século XVII com o desenvolvimento da **teoria das probabilidades** por Pascal e Fermat, que surgiu com o estudo dos jogos de azar. O método dos **mínimos quadrados** foi descrito pela primeira vez por Carl Friedrich Gauss cerca de 1794. \n",
        "\n",
        "![Estatisticos.png](attachment:Estatisticos.png)\n",
        "\n",
        "No começo do século XIX, o termo \"estatística\" passou a ser utilizado em sentido mais amplo, se referindo a coleta e análise de dados de maneira geral. \n",
        "\n",
        "#### Por que a briga?\n",
        "\n",
        "<img src=\"https://github.com/ImersaoIA/classificacao2020/blob/master/Machine%20Learing%20-%20Introdu%C3%A7%C3%A3o/machine_learning_vs_statistics.png?raw=1\" style=\"width: 400px;\"/>\n",
        "\n",
        "Em 1959, o pioneiro da inteligência artificial Arthur Samuel, engenheiro do MIT, criou o termo \"machine learning\", descrevendo o conceito como \"um campo de estudo que dá aos computadores a habilidade de aprender a executar uma tarefa sem terem sido explicitamente programados para executá-la\". Na época, Samuel trabalhava em um projeto para criar uma máquina autônoma com estas características. Mas Arthur Samuel não era um estatístico. Machine Learning nasceu das mãos de um engenheiro, que estava mais preocupado em resolver problemas do que descrevê-los. \n",
        "\n",
        "<img src=\"https://github.com/ImersaoIA/classificacao2020/blob/master/Machine%20Learing%20-%20Introdu%C3%A7%C3%A3o/Arthur_Samuel.png?raw=1\" style=\"width: 300px;\"/>\n",
        "\n",
        "Machine Learning é considerado um sub-campo de Inteligência Artificial. Enquanto Estatística, por sua vez, é um sub-campo da Matemática. \n",
        "\n",
        "#### E qual é a diferença afinal?\n",
        "Nada melhor do que um exemplo para entender melhor essa diferença.  \n",
        "\n",
        "Vamos supor que eu hoje estou solteiro, não tenho feito muito sucesso com as meninas, pouca perspectiva de encontrar alguém que me ature... E comprei uma kitnet de 15m2 ali na Vila Yara, perto da USP. Passados alguns dias eu conheci a mulher da minha vida, passados 2 anos nos casamos e passamos a morar juntos na minha kitnet de 15m2. Mas como minha mulher e eu pretendemos ter uma família grande, decidimos comprar uma casa maior e alugar minha kitnet para bancar a alimentação das crianças que viriam nos anos seguintes. \n",
        "\n",
        "![Kitnet_12_e_demais.png](attachment:Kitnet_12_e_demais.png)\n",
        "\n",
        "Quanto será que devo pedir de aluguel pela minha kitnet?\n",
        "\n",
        "- Perguntei para um amigo da estatística, ele sugeriu: \"A gente pode fazer um questionário e mandar nos grupos da faculdade perguntando quanto o pessoal paga de aluguel e calcular uma média. Podemos pedir mais algumas informações sobre os apartamentos e tentar identificar padrões ou correlações. Podemos fazer uma média entre os apartamentos mais parecidos com o seu. Acho que assim podemos ter uma boa estimativa de preço.  No final podemos fazer um teste de hipóteses também, só para saber qual o grau de confiança da nossa estimativa. Posso te ajudar se você quiser.\"\n",
        "\n",
        "- Perguntei para um amigo da computação, ele sugeriu: \"Na minha iniciação científica, estou trabalhando com uma base de dados da \"QuintoAndar\", tem o valor do aluguel e várias outras informações sobre mais de 50 mil apartamentos. A gente pode pegar estas informações e treinar um modelo para estimar o valor do aluguel dos apartamentos da QuintoAndar. Aí depois usamos este modelo para estimar o preço do seu apartamento. Posso te ajudar se você quiser.\"\n",
        "\n",
        "Devo aceitar a ajuda de qual amigo? As técnicas de Machine Lerarning costumam ter mais sucesso neste tipo de problema. Mas é verdade que Machine Learning também utiliza bastante estatística, por exemplo:\n",
        "- Para deixar os dados mais \"redondos\" para o treinamento do nosso modelo\n",
        "- E, mais tarde, para entender quão bem nosso modelo está *performando*. \n",
        "É bem possível que cheguemos a algum resultado sem se importar muito com a estatística. Mas se quisermos chegar em um bom resultado, talvez seja melhor chamar os dois amigos para um café. \n",
        "\n",
        "#### Momento cult\n",
        "\n",
        ">\"Há três espécies de mentiras: mentiras, mentiras desvaladas e estatísticas.\" - Benjamin Disraeli\n",
        "\n",
        "É verdade que a estatística pode ser usada como ferramenta de manipulação para defender interesses particulares. E a gente vê muito isso hoje, nas questões mais polêmicas: Aquecimento Global, Legalização das Drogas, Aborto... Mas ao mesmo tempo, em boas mãos, pode ser uma ferramenta reveladora que nos ajuda a enxergar a ordem no caos. E...\n",
        "\n",
        ">\"Àquele que puder ser sábio, não lhe perdoamos que não o seja.\" - S. Josemaria Escrivá\n",
        "\n",
        "Então vamos a um pouco de estatística ;)"
      ]
    },
    {
      "cell_type": "code",
      "metadata": {
        "id": "chFq8tSoCEY_",
        "colab_type": "code",
        "colab": {}
      },
      "source": [
        "EXEMPLOS: COMO MENTIR COM ESTATística?"
      ],
      "execution_count": 0,
      "outputs": []
    },
    {
      "cell_type": "markdown",
      "metadata": {
        "collapsed": true,
        "id": "2S8OQJRBCEZF",
        "colab_type": "text"
      },
      "source": [
        "# 3) Estatística: É... Nós precisamos dela\n",
        "\n",
        "### 3.1) Tendências centrais\n",
        "\n",
        "Dada uma distribuição, nos dão uma noção de onde está o centro dos elementos\n",
        "\n",
        "#### Média\n",
        "\n",
        "Provavelmente o mais comum de todos, definido como a soma dos valores observados em cada indivíduo dividido pela quantidade de indivíduos.\n",
        "\n",
        "![bolinhas.png](attachment:bolinhas.png)\n",
        "\n",
        "<center>k = [4,4,5] $\\to$ média = $\\frac{4+4+5}{3} = 4,33$\n",
        "\n",
        "Para quem gosta de formalizações:\n",
        "\n",
        "$$\\bar{k} = \\frac{\\sum_{i=1}^{N}k_i}{N}$$\n",
        "\n",
        "Nota: a média de uma distribuição é o valor que minimiza a soma das distâncias quadradas entre seus elementos: $\\sum_{i=1}^{N}(x-k_i)^2$, isto é, $S = (x-1)^2 + (x-2)^2 + (x-3)^2 + (x-6)^2 + ...$"
      ]
    },
    {
      "cell_type": "markdown",
      "metadata": {
        "id": "xFRIPHRnCEZH",
        "colab_type": "text"
      },
      "source": [
        "**EXEMPLO** Vamos supor que estemos fazendo um projeto de consultoria para a empresa Airbnb. Nosso cliente está enfrentando muita dificuldade para entender como são precificados os apartamentos no Rio de Janeiro. Nosso objetivo é ajudá-lo a enxergar a ordem no caos do mercado imobiliário carioca. Vamos usar um pouco de estatística ;)\n",
        "\n",
        "- Será que o número de camas influencia no preço dos apartamentos? "
      ]
    },
    {
      "cell_type": "code",
      "metadata": {
        "id": "UUlKaNlpCEZJ",
        "colab_type": "code",
        "colab": {},
        "outputId": "991e68a8-6968-41e6-948f-5dfe4415f8a4"
      },
      "source": [
        "import pandas as pd\n",
        "import matplotlib.pyplot as plt\n",
        "import seaborn as sns\n",
        "\n",
        "plt.ion()\n",
        "%matplotlib inline\n",
        "\n",
        "df = pd.read_csv('../datasets/air_bnb.csv')\n",
        "df2 = df[(df.accommodates<=20) & (df.price<=2000) & (df.bedrooms<=20) & (df.neighbourhood.isin(['Copacabana', 'Barra da Tijuca', 'Ipanema',\n",
        "       'Recreio dos Bandeirantes', 'Botafogo', 'Leblon', 'Santa Teresa',\n",
        "       'Flamengo', 'Tijuca', 'Lapa', 'Laranjeiras', 'Leme']))]\n",
        "\n",
        "ax = sns.barplot(x=df2.beds, y=df2.price, ci=None)\n",
        "\n",
        "plt.xticks(rotation=50) # Google help: legendas inclinadas python seaborn\n",
        "ax.set_ylabel('Preço médio dos apartamentos')\n",
        "ax.set_xlabel('Nº de camas')"
      ],
      "execution_count": 0,
      "outputs": [
        {
          "output_type": "execute_result",
          "data": {
            "text/plain": [
              "Text(0.5,0,'Nº de camas')"
            ]
          },
          "metadata": {
            "tags": []
          },
          "execution_count": 8
        },
        {
          "output_type": "display_data",
          "data": {
            "image/png": "[encoded data removed]",
            "text/plain": [
              "<matplotlib.figure.Figure at 0x1a143e3f60>"
            ]
          },
          "metadata": {
            "tags": []
          }
        }
      ]
    },
    {
      "cell_type": "markdown",
      "metadata": {
        "id": "N4ecg-_SCEZP",
        "colab_type": "text"
      },
      "source": [
        "#### Mediana\n",
        "\n",
        "É o valor central da distribuição, ou seja o valor abaixo do qual encontra-se metade das observações e acima do qual encontra-se a outra metade:\n",
        "\n",
        "![bolinhas.png](attachment:bolinhas.png)\n",
        "\n",
        "<center>mediana = $4$\n",
        "\n",
        "Ou a média dos dois valores mais centrais, no caso de número par de elementos:\n",
        "\n",
        "![bolinhas_2.png](attachment:bolinhas_2.png)\n",
        "\n",
        "<center>k = [4,6,8,5] $\\to$ mediana = $\\frac{5+6}{2} = 5,5$\n",
        "\n",
        "Por depender apenas dos valores centrais, é uma medida mais robusta, menos sensível a *outliers*.\n",
        "\n",
        "![bolinhas_3.png](attachment:bolinhas_3.png)\n",
        "\n",
        "<center>mediana = $4$\n",
        "<center>k = [2,4,16,4] $\\to$ média = $\\frac{2+4+16+4}{4} = 6,5$\n",
        "\n",
        "Nota: a mediana é o valor que minimiza a soma dos valores absolutos das distâncias entre seus elementos: $\\sum_{i=1}^{N}|x-k_i|$,  isto é, $S = |\\hspace{1mm}x-1| + |\\hspace{1mm}x-2\\hspace{1mm}| + |\\hspace{1mm}x-3\\hspace{1mm}| + |\\hspace{1mm}x-6\\hspace{1mm}| + ...$"
      ]
    },
    {
      "cell_type": "markdown",
      "metadata": {
        "id": "61cijveJCEZR",
        "colab_type": "text"
      },
      "source": [
        "**EXEMPLO** Ainda considerando nosso estudo com a Airbnb: \n",
        "- Se temos um superhost, o apartamento fica mais caro? \n",
        "- E se o partamento for *instant bookable*?"
      ]
    },
    {
      "cell_type": "code",
      "metadata": {
        "id": "JsJckADoCEZT",
        "colab_type": "code",
        "colab": {},
        "outputId": "118e9afe-b3d0-40c8-ab31-a67cfcc0e2af"
      },
      "source": [
        "from numpy import median\n",
        "\n",
        "ax = sns.barplot(x=df2.instant_bookable, y=df2.price, hue=df2.host_is_superhost, estimator=median, ci=None) # Google help: barplot mediana python\n",
        "\n",
        "plt.xticks(rotation=50)\n",
        "ax.set_ylabel('Preço médio dos apartamentos')\n",
        "ax.set_xlabel('É \\\"instant bookable\\\"')"
      ],
      "execution_count": 0,
      "outputs": [
        {
          "output_type": "error",
          "ename": "NameError",
          "evalue": "name 'sns' is not defined",
          "traceback": [
            "\u001b[0;31m---------------------------------------------------------------------------\u001b[0m",
            "\u001b[0;31mNameError\u001b[0m                                 Traceback (most recent call last)",
            "\u001b[0;32m<ipython-input-2-23b05784bd4e>\u001b[0m in \u001b[0;36m<module>\u001b[0;34m\u001b[0m\n\u001b[1;32m      1\u001b[0m \u001b[0;32mfrom\u001b[0m \u001b[0mnumpy\u001b[0m \u001b[0;32mimport\u001b[0m \u001b[0mmedian\u001b[0m\u001b[0;34m\u001b[0m\u001b[0;34m\u001b[0m\u001b[0m\n\u001b[1;32m      2\u001b[0m \u001b[0;34m\u001b[0m\u001b[0m\n\u001b[0;32m----> 3\u001b[0;31m \u001b[0max\u001b[0m \u001b[0;34m=\u001b[0m \u001b[0msns\u001b[0m\u001b[0;34m.\u001b[0m\u001b[0mbarplot\u001b[0m\u001b[0;34m(\u001b[0m\u001b[0mx\u001b[0m\u001b[0;34m=\u001b[0m\u001b[0mdf2\u001b[0m\u001b[0;34m.\u001b[0m\u001b[0minstant_bookable\u001b[0m\u001b[0;34m,\u001b[0m \u001b[0my\u001b[0m\u001b[0;34m=\u001b[0m\u001b[0mdf2\u001b[0m\u001b[0;34m.\u001b[0m\u001b[0mprice\u001b[0m\u001b[0;34m,\u001b[0m \u001b[0mhue\u001b[0m\u001b[0;34m=\u001b[0m\u001b[0mdf2\u001b[0m\u001b[0;34m.\u001b[0m\u001b[0mhost_is_superhost\u001b[0m\u001b[0;34m,\u001b[0m \u001b[0mestimator\u001b[0m\u001b[0;34m=\u001b[0m\u001b[0mmedian\u001b[0m\u001b[0;34m,\u001b[0m \u001b[0mci\u001b[0m\u001b[0;34m=\u001b[0m\u001b[0;32mNone\u001b[0m\u001b[0;34m)\u001b[0m \u001b[0;31m# Google help: barplot mediana python\u001b[0m\u001b[0;34m\u001b[0m\u001b[0;34m\u001b[0m\u001b[0m\n\u001b[0m\u001b[1;32m      4\u001b[0m \u001b[0;34m\u001b[0m\u001b[0m\n\u001b[1;32m      5\u001b[0m \u001b[0mplt\u001b[0m\u001b[0;34m.\u001b[0m\u001b[0mxticks\u001b[0m\u001b[0;34m(\u001b[0m\u001b[0mrotation\u001b[0m\u001b[0;34m=\u001b[0m\u001b[0;36m50\u001b[0m\u001b[0;34m)\u001b[0m\u001b[0;34m\u001b[0m\u001b[0;34m\u001b[0m\u001b[0m\n",
            "\u001b[0;31mNameError\u001b[0m: name 'sns' is not defined"
          ]
        }
      ]
    },
    {
      "cell_type": "markdown",
      "metadata": {
        "id": "BAtiMfOTCEZY",
        "colab_type": "text"
      },
      "source": [
        "#### Quantil\n",
        "\n",
        "Generalização da mediana, representa o valor abaixo do qual está um determinado percentual dos dados."
      ]
    },
    {
      "cell_type": "markdown",
      "metadata": {
        "id": "IC7wzSFiCEZa",
        "colab_type": "text"
      },
      "source": [
        "**EXEMPLO** Por exemplo, podemos dividir as pontuações da liga espanhola em percentis (100-quantis):\n",
        "\n",
        "![laliga.png](attachment:laliga.png)"
      ]
    },
    {
      "cell_type": "code",
      "metadata": {
        "id": "VVOH85AUCEZc",
        "colab_type": "code",
        "colab": {},
        "outputId": "65ae074d-68ff-4814-b2d6-34205e539a63"
      },
      "source": [
        "import numpy as np\n",
        "\n",
        "k = [40,40,35,35,31,31,30,29,28,27,26,24,24,21,20,19,15,15,14,11]\n",
        "\n",
        "print(\"Percentil 0 (mínimo):\", np.percentile(k, 0))\n",
        "print(\"Percentil 25 (1o quartil)\", np.percentile(k,25))\n",
        "print(\"Percentil 50 (2o quartil ou mediana):\", np.percentile(k,50))\n",
        "print(\"Percentil 75 (3o quartil):\", np.percentile(k,75))\n",
        "print(\"Percentil 100 (máximo):\", np.percentile(k,100))"
      ],
      "execution_count": 0,
      "outputs": [
        {
          "output_type": "stream",
          "text": [
            "Percentil 0 (mínimo): 11.0\n",
            "Percentil 25 (1o quartil) 19.75\n",
            "Percentil 50 (2o quartil ou mediana): 26.5\n",
            "Percentil 75 (3o quartil): 31.0\n",
            "Percentil 100 (máximo): 40.0\n"
          ],
          "name": "stdout"
        }
      ]
    },
    {
      "cell_type": "markdown",
      "metadata": {
        "id": "30wpUYgWCEZh",
        "colab_type": "text"
      },
      "source": [
        "#### Boxplot\n",
        "O boxplot nos fornece uma análise visual da posição, dispersão, simetria, caudas e valores discrepantes (outliers) do conjunto de dados.\n",
        "\n",
        "![boxplot.png](attachment:boxplot.png)"
      ]
    },
    {
      "cell_type": "markdown",
      "metadata": {
        "id": "_kiTXMPJCEZj",
        "colab_type": "text"
      },
      "source": [
        "**EXEMPLO** Como será que estão distribuídos os preços nos diferentes bairros do Rio de Janeiro?"
      ]
    },
    {
      "cell_type": "code",
      "metadata": {
        "id": "5x1WvpeYCEZl",
        "colab_type": "code",
        "colab": {},
        "outputId": "74255f7e-0e6f-42b5-91a6-016a2bc2e7a1"
      },
      "source": [
        "sns.boxplot(x=df2[\"neighbourhood\"], y=df2[\"price\"])\n",
        "plt.xticks(rotation=80)"
      ],
      "execution_count": 0,
      "outputs": [
        {
          "output_type": "execute_result",
          "data": {
            "text/plain": [
              "(array([ 0,  1,  2,  3,  4,  5,  6,  7,  8,  9, 10, 11]),\n",
              " <a list of 12 Text xticklabel objects>)"
            ]
          },
          "metadata": {
            "tags": []
          },
          "execution_count": 25
        },
        {
          "output_type": "display_data",
          "data": {
            "image/png": "[encoded data removed]",
            "text/plain": [
              "<matplotlib.figure.Figure at 0x1a1518c080>"
            ]
          },
          "metadata": {
            "tags": []
          }
        }
      ]
    },
    {
      "cell_type": "code",
      "metadata": {
        "id": "XSIhawhTCEZr",
        "colab_type": "code",
        "colab": {},
        "outputId": "98c79928-ee23-4b12-d444-de482c25416e"
      },
      "source": [
        "df2=df2[df2.beds<20]\n",
        "sns.regplot(x=df2[\"beds\"], y=df2[\"accommodates\"], fit_reg=False)"
      ],
      "execution_count": 0,
      "outputs": [
        {
          "output_type": "execute_result",
          "data": {
            "text/plain": [
              "<matplotlib.axes._subplots.AxesSubplot at 0x10ca075c0>"
            ]
          },
          "metadata": {
            "tags": []
          },
          "execution_count": 26
        },
        {
          "output_type": "display_data",
          "data": {
            "image/png": "[encoded data removed]",
            "text/plain": [
              "<matplotlib.figure.Figure at 0x1a156a3cc0>"
            ]
          },
          "metadata": {
            "tags": []
          }
        }
      ]
    },
    {
      "cell_type": "code",
      "metadata": {
        "id": "2RcP5TQZCEZw",
        "colab_type": "code",
        "colab": {},
        "outputId": "f2a709ca-0b1c-4881-faa7-d5d641740798"
      },
      "source": [
        "sns.countplot(x=df2.beds)\n",
        "plt.xticks(rotation=50) "
      ],
      "execution_count": 0,
      "outputs": [
        {
          "output_type": "execute_result",
          "data": {
            "text/plain": [
              "(array([ 0,  1,  2,  3,  4,  5,  6,  7,  8,  9, 10, 11, 12, 13, 14, 15, 16,\n",
              "        17]), <a list of 18 Text xticklabel objects>)"
            ]
          },
          "metadata": {
            "tags": []
          },
          "execution_count": 27
        },
        {
          "output_type": "display_data",
          "data": {
            "image/png": "[encoded data removed]",
            "text/plain": [
              "<matplotlib.figure.Figure at 0x1a1f7b7e48>"
            ]
          },
          "metadata": {
            "tags": []
          }
        }
      ]
    },
    {
      "cell_type": "code",
      "metadata": {
        "id": "Mwd84Df2CEZ1",
        "colab_type": "code",
        "colab": {}
      },
      "source": [
        ""
      ],
      "execution_count": 0,
      "outputs": []
    },
    {
      "cell_type": "code",
      "metadata": {
        "id": "S681MC-6CEZ6",
        "colab_type": "code",
        "colab": {}
      },
      "source": [
        ""
      ],
      "execution_count": 0,
      "outputs": []
    },
    {
      "cell_type": "code",
      "metadata": {
        "id": "QqNpH8mRCEZ_",
        "colab_type": "code",
        "colab": {}
      },
      "source": [
        ""
      ],
      "execution_count": 0,
      "outputs": []
    },
    {
      "cell_type": "code",
      "metadata": {
        "id": "iTtsgHzWCEaF",
        "colab_type": "code",
        "colab": {}
      },
      "source": [
        ""
      ],
      "execution_count": 0,
      "outputs": []
    },
    {
      "cell_type": "code",
      "metadata": {
        "id": "_YN6RhzoCEaL",
        "colab_type": "code",
        "colab": {}
      },
      "source": [
        ""
      ],
      "execution_count": 0,
      "outputs": []
    },
    {
      "cell_type": "code",
      "metadata": {
        "id": "MS-7WvxQCEaP",
        "colab_type": "code",
        "colab": {}
      },
      "source": [
        "Buscar entender o contexto, por que estou aqui?\n",
        "\n",
        "Justiça, verdade, sinceridade...\n",
        "\n",
        "\n",
        "\n",
        "A máquina então é inteligente? Qual é a diferença pra inteligência humana? Até onde dá para ir? \n",
        "\n",
        "O passo 1 nunca vai ser substituído. Machine Learning pode até prever com certa facilidade o que vai acontecer, mas explicar o porquê... \n",
        "Falar com Pe Sergio para ver o que ele acha que dá para introduzir"
      ],
      "execution_count": 0,
      "outputs": []
    }
  ]
}